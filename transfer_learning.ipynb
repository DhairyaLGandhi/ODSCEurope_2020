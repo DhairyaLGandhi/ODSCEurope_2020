{
 "cells": [
  {
   "outputs": [],
   "cell_type": "markdown",
   "source": [
    "# Transfer Learning with Flux"
   ],
   "metadata": {}
  },
  {
   "outputs": [],
   "cell_type": "markdown",
   "source": [
    "This article is intended to be a general guide to how transfer learning works in the Flux ecosystem.\n",
    "We assume a certain familiarity of the reader with the concept of transfer learning. Having said that,\n",
    "we will start off with a basic definition of the setup and what we are trying to achieve. There are many\n",
    "resources online that go in depth as to why transfer learning is an effective tool to solve many ML\n",
    "problems, and we recommend checking some of those out."
   ],
   "metadata": {}
  },
  {
   "outputs": [],
   "cell_type": "markdown",
   "source": [
    "Machine Learning today has evolved to use many highly trained models in a general task,\n",
    "where they are tuned to perform especially well on a subset of the problem."
   ],
   "metadata": {}
  },
  {
   "outputs": [],
   "cell_type": "markdown",
   "source": [
    "This is one of the key ways in which larger (or smaller) models are used in practice. They are trained on\n",
    "a general problem, achieving good results on the test set, and then subsequently tuned on specialised datasets."
   ],
   "metadata": {}
  },
  {
   "outputs": [],
   "cell_type": "markdown",
   "source": [
    "In this process, our model is already pretty well trained on the problem, so we don't need to train it\n",
    "all over again as if from scratch. In fact, as it so happens, we don't need to do that at all! We only\n",
    "need to tune the last couple of layers to get the most performance from our models. The exact last number of layers\n",
    "is dependant on the problem setup and the expected outcome, but a common tip is to train the last few `Dense`\n",
    "layers in a more complicated model."
   ],
   "metadata": {}
  },
  {
   "outputs": [],
   "cell_type": "markdown",
   "source": [
    "So let's try to simulate the problem in Flux."
   ],
   "metadata": {}
  },
  {
   "outputs": [],
   "cell_type": "markdown",
   "source": [
    "We'll tune a pretrained ResNet from Metalhead as a proxy. We will tune the `Dense` layers in there on a new set of images."
   ],
   "metadata": {}
  },
  {
   "outputs": [],
   "cell_type": "code",
   "source": [
    "using Flux, Metalhead\n",
    "using Flux: @epochs\n",
    "using Metalhead.Images\n",
    "resnet = ResNet().layers"
   ],
   "metadata": {},
   "execution_count": null
  },
  {
   "outputs": [],
   "cell_type": "markdown",
   "source": [
    "If we intended to add a new class of objects in there, we need only `reshape` the output from the previous layers accordingly.\n",
    "Our model would look something like so:"
   ],
   "metadata": {}
  },
  {
   "outputs": [],
   "cell_type": "markdown",
   "source": [
    "```julia\n",
    "model = Chain(\n",
    "  resnet[1:end-2],               # We only need to pull out the dense layer in here\n",
    "  x -> reshape(x, size_we_want), # / global_avg_pooling layer\n",
    "  Dense(reshaped_input_features, n_classes)\n",
    ")\n",
    "```"
   ],
   "metadata": {}
  },
  {
   "outputs": [],
   "cell_type": "markdown",
   "source": [
    "We will use the [Dogs vs. Cats](https://www.kaggle.com/c/dogs-vs-cats/data) dataset from Kaggle for our use here.\n",
    "Make sure to extract the images in a `train` folder."
   ],
   "metadata": {}
  },
  {
   "outputs": [],
   "cell_type": "markdown",
   "source": [
    "The `datatloader.jl` script contains some functions that will help us load batches of images, shuffled between\n",
    "dogs and cats along with their correct labels."
   ],
   "metadata": {}
  },
  {
   "outputs": [],
   "cell_type": "code",
   "source": [
    "include(\"dataloader.jl\")"
   ],
   "metadata": {},
   "execution_count": null
  },
  {
   "outputs": [],
   "cell_type": "markdown",
   "source": [
    "Finally, the model looks something like:"
   ],
   "metadata": {}
  },
  {
   "outputs": [],
   "cell_type": "code",
   "source": [
    "model = Chain(\n",
    "  resnet[1:end-2],\n",
    "  Dense(2048, 1000),\n",
    "  Dense(1000, 256),\n",
    "  Dense(256, 2),        # we get 2048 features out, and we have 2 classes\n",
    "  softmax\n",
    ")"
   ],
   "metadata": {},
   "execution_count": null
  },
  {
   "outputs": [],
   "cell_type": "markdown",
   "source": [
    "To speed up training, let’s move everything over to the GPU"
   ],
   "metadata": {}
  },
  {
   "outputs": [],
   "cell_type": "code",
   "source": [
    "model = model |> gpu\n",
    "dataset = [gpu.(load_batch(10)) for i in 1:10]"
   ],
   "metadata": {},
   "execution_count": null
  },
  {
   "outputs": [],
   "cell_type": "markdown",
   "source": [
    "After this, we only need to define the other parts of the training pipeline like we usually do."
   ],
   "metadata": {}
  },
  {
   "outputs": [],
   "cell_type": "code",
   "source": [
    "opt = ADAM()\n",
    "loss(x,y) = Flux.crossentropy(model(x), y)"
   ],
   "metadata": {},
   "execution_count": null
  },
  {
   "outputs": [],
   "cell_type": "markdown",
   "source": [
    "Now to train\n",
    "As discussed earlier, we don’t need to pass all the parameters to our training loop. Only the ones we need to\n",
    "fine-tune. Note that we could have picked and chosen the layers we want to train individually as well, but this\n",
    "is sufficient for our use as of now."
   ],
   "metadata": {}
  },
  {
   "outputs": [],
   "cell_type": "code",
   "source": [
    "ps = Flux.params(model[2:end])  # ignore the already trained layers of the ResNet"
   ],
   "metadata": {},
   "execution_count": null
  },
  {
   "outputs": [],
   "cell_type": "markdown",
   "source": [
    "And now, let's train!"
   ],
   "metadata": {}
  },
  {
   "outputs": [],
   "cell_type": "code",
   "source": [
    "@epochs 2 Flux.train!(loss, ps, dataset, opt)"
   ],
   "metadata": {},
   "execution_count": null
  },
  {
   "outputs": [],
   "cell_type": "markdown",
   "source": [
    "And there you have it, a pretrained model, fine tuned to tell the the dogs from the cats."
   ],
   "metadata": {}
  },
  {
   "outputs": [],
   "cell_type": "markdown",
   "source": [
    "We can verify this too."
   ],
   "metadata": {}
  },
  {
   "outputs": [],
   "cell_type": "code",
   "source": [
    "imgs, labels = gpu.(load_batch(10))\n",
    "display(model(imgs))\n",
    "\n",
    "labels"
   ],
   "metadata": {},
   "execution_count": null
  }
 ],
 "nbformat_minor": 3,
 "metadata": {
  "language_info": {
   "file_extension": ".jl",
   "mimetype": "application/julia",
   "name": "julia",
   "version": "1.3.0"
  },
  "kernelspec": {
   "name": "julia-1.3",
   "display_name": "Julia 1.3.0",
   "language": "julia"
  }
 },
 "nbformat": 4
}
