{
 "cells": [
  {
   "cell_type": "markdown",
   "metadata": {},
   "source": [
    "# Elegant Multithreading"
   ]
  },
  {
   "cell_type": "markdown",
   "metadata": {},
   "source": [
    "No one wants slow CSV reading, especially in a performance intensive task such as machine learning, where the amount of data and the use of compute resources is plentiful. Our state-of-the-art data ecosystem takes full advantage of the newly introduced multithreading functionality in Julia.\n",
    "\n",
    "It does so with careful consideration to ease of use, without loss of capability. The CSV.jl package exposes the threads via a simple keyword argument and is compared against the equivalent pandas library in python."
   ]
  },
  {
   "cell_type": "code",
   "execution_count": 1,
   "metadata": {},
   "outputs": [
    {
     "name": "stderr",
     "output_type": "stream",
     "text": [
      "\u001b[32m\u001b[1m Activating\u001b[22m\u001b[39m environment at `~/odsceurpoe/ODSCEurope2020/Project.toml`\n"
     ]
    }
   ],
   "source": [
    "]activate ."
   ]
  },
  {
   "cell_type": "code",
   "execution_count": 1,
   "metadata": {},
   "outputs": [
    {
     "data": {
      "text/plain": [
       "1"
      ]
     },
     "execution_count": 1,
     "metadata": {},
     "output_type": "execute_result"
    }
   ],
   "source": [
    "using Base.Threads\n",
    "Threads.nthreads()"
   ]
  },
  {
   "cell_type": "code",
   "execution_count": 56,
   "metadata": {},
   "outputs": [],
   "source": [
    "using CSV, BenchmarkTools\n",
    "using CSV.DataFrames"
   ]
  },
  {
   "cell_type": "markdown",
   "metadata": {},
   "source": [
    "## Benchmarking CSV Reading"
   ]
  },
  {
   "cell_type": "markdown",
   "metadata": {},
   "source": [
    "Real world datasets often comprise of varied forms of data, and are very heterogenous in nature, unless special care is taken to homogenise the datasets.\n",
    "\n",
    "We therefore benchmark reading of a common file type - CSV - and compare it against the state-of-the-art in python; ie pandas."
   ]
  },
  {
   "cell_type": "markdown",
   "metadata": {},
   "source": [
    "Note that this simulates the case of a single machine. A library like dask or pandas can scale with multiple cores, but the scaling observed here will be carried forward with the same efficiency in the Julia side of things as well, so it's benefits are obvious."
   ]
  },
  {
   "cell_type": "code",
   "execution_count": 57,
   "metadata": {},
   "outputs": [
    {
     "data": {
      "text/html": [
       "<table class=\"data-frame\"><thead><tr><th></th><th>col1</th><th>col2</th><th>col3</th><th>col4</th><th>col5</th></tr><tr><th></th><th>Float64⍰</th><th>Float64⍰</th><th>Int64⍰</th><th>Dates…⍰</th><th>String⍰</th></tr></thead><tbody><p>5 rows × 200 columns (omitted printing of 195 columns)</p><tr><th>1</th><td>0.164184</td><td>missing</td><td>-8618047875453619626</td><td>missing</td><td>J7BSebe75ZSElvwjLCmP</td></tr><tr><th>2</th><td>missing</td><td>missing</td><td>-50295243866911532</td><td>missing</td><td>missing</td></tr><tr><th>3</th><td>0.742546</td><td>0.4025</td><td>missing</td><td>missing</td><td>missing</td></tr><tr><th>4</th><td>missing</td><td>0.3716</td><td>4175438224706417676</td><td>missing</td><td>missing</td></tr><tr><th>5</th><td>missing</td><td>0.1643</td><td>-7177638387897108480</td><td>1960-10-17T14:20:12</td><td>missing</td></tr></tbody></table>"
      ],
      "text/latex": [
       "\\begin{tabular}{r|cccccc}\n",
       "\t& col1 & col2 & col3 & col4 & col5 & \\\\\n",
       "\t\\hline\n",
       "\t& Float64⍰ & Float64⍰ & Int64⍰ & Dates…⍰ & String⍰ & \\\\\n",
       "\t\\hline\n",
       "\t1 & 0.164184 &  & -8618047875453619626 &  & J7BSebe75ZSElvwjLCmP & $\\dots$ \\\\\n",
       "\t2 &  &  & -50295243866911532 &  &  & $\\dots$ \\\\\n",
       "\t3 & 0.742546 & 0.4025 &  &  &  & $\\dots$ \\\\\n",
       "\t4 &  & 0.3716 & 4175438224706417676 &  &  & $\\dots$ \\\\\n",
       "\t5 &  & 0.1643 & -7177638387897108480 & 1960-10-17T14:20:12 &  & $\\dots$ \\\\\n",
       "\\end{tabular}\n"
      ],
      "text/plain": [
       "5×200 DataFrame. Omitted printing of 196 columns\n",
       "│ Row │ col1     │ col2     │ col3                 │ col4                │\n",
       "│     │ \u001b[90mFloat64⍰\u001b[39m │ \u001b[90mFloat64⍰\u001b[39m │ \u001b[90mInt64⍰\u001b[39m               │ \u001b[90mDates…⍰\u001b[39m             │\n",
       "├─────┼──────────┼──────────┼──────────────────────┼─────────────────────┤\n",
       "│ 1   │ 0.164184 │ \u001b[90mmissing\u001b[39m  │ -8618047875453619626 │ \u001b[90mmissing\u001b[39m             │\n",
       "│ 2   │ \u001b[90mmissing\u001b[39m  │ \u001b[90mmissing\u001b[39m  │ -50295243866911532   │ \u001b[90mmissing\u001b[39m             │\n",
       "│ 3   │ 0.742546 │ 0.4025   │ \u001b[90mmissing\u001b[39m              │ \u001b[90mmissing\u001b[39m             │\n",
       "│ 4   │ \u001b[90mmissing\u001b[39m  │ 0.3716   │ 4175438224706417676  │ \u001b[90mmissing\u001b[39m             │\n",
       "│ 5   │ \u001b[90mmissing\u001b[39m  │ 0.1643   │ -7177638387897108480 │ 1960-10-17T14:20:12 │"
      ]
     },
     "execution_count": 57,
     "metadata": {},
     "output_type": "execute_result"
    }
   ],
   "source": [
    "df = CSV.read(\"/home/dhairyagandhi96/mlds/csv-benchmarks/mixed.csv\")\n",
    "first(df, 5)"
   ]
  },
  {
   "cell_type": "markdown",
   "metadata": {},
   "source": [
    "As can be noted, the data is a heavy mix of different data types and contains many `missing` values. This is intentional, to replicate a real world use case the closest."
   ]
  },
  {
   "cell_type": "markdown",
   "metadata": {},
   "source": [
    "# Benchmarking\n",
    "\n",
    "## Run 1\n",
    "\n",
    "This run is to set up a baseline. We use the mixed CSV from earlier, and use CSV.jl for Julia, and pandas for python. The first run with CSV.jl is run with threading disabled, while pandas is run as is. We will further compare the performance of CSV.jl with threading enabled."
   ]
  },
  {
   "cell_type": "code",
   "execution_count": 58,
   "metadata": {},
   "outputs": [
    {
     "name": "stdout",
     "output_type": "stream",
     "text": [
      "10 loops, best of 3: 675 msec per loop\n"
     ]
    },
    {
     "data": {
      "text/plain": [
       "Process(`\u001b[4mpython3\u001b[24m \u001b[4m-m\u001b[24m \u001b[4mtimeit\u001b[24m \u001b[4m-s\u001b[24m \u001b[4m'import pandas'\u001b[24m \u001b[4m-p\u001b[24m \u001b[4m\"pandas.read_csv('csv-benchmarks/mixed.csv')\"\u001b[24m`, ProcessExited(0))"
      ]
     },
     "execution_count": 58,
     "metadata": {},
     "output_type": "execute_result"
    }
   ],
   "source": [
    "run(`python3 -m timeit -s \"import pandas\" -p \"pandas.read_csv('csv-benchmarks/mixed.csv')\"`)"
   ]
  },
  {
   "cell_type": "code",
   "execution_count": 59,
   "metadata": {},
   "outputs": [
    {
     "name": "stdout",
     "output_type": "stream",
     "text": [
      "  226.895 ms (158577 allocations: 47.27 MiB)\n"
     ]
    }
   ],
   "source": [
    "@btime CSV.read(\"/home/dhairyagandhi96/mlds/csv-benchmarks/mixed.csv\", threaded = false);"
   ]
  },
  {
   "cell_type": "code",
   "execution_count": 60,
   "metadata": {},
   "outputs": [
    {
     "name": "stdout",
     "output_type": "stream",
     "text": [
      "  46.207 ms (109924 allocations: 43.29 MiB)\n"
     ]
    }
   ],
   "source": [
    "@btime CSV.read(\"/home/dhairyagandhi96/mlds/csv-benchmarks/mixed.csv\", threaded = true);"
   ]
  },
  {
   "cell_type": "markdown",
   "metadata": {},
   "source": [
    "## Run 2\n",
    "\n",
    "Having set up a baseline with the mixed CSV file, we will now attempt to read in a much larger version of the same file ~ 1 GB"
   ]
  },
  {
   "cell_type": "code",
   "execution_count": 61,
   "metadata": {},
   "outputs": [
    {
     "name": "stdout",
     "output_type": "stream",
     "text": [
      "-rw-rw-r-- 1 dhairyagandhi96 dhairyagandhi96 1G Jan 21 09:58 csv-benchmarks/big_mixed.csv\n"
     ]
    }
   ],
   "source": [
    ";ls -ltra --block=g csv-benchmarks/big_mixed.csv"
   ]
  },
  {
   "cell_type": "code",
   "execution_count": 62,
   "metadata": {},
   "outputs": [
    {
     "name": "stdout",
     "output_type": "stream",
     "text": [
      "  346.026 ms (951256 allocations: 430.31 MiB)\n"
     ]
    }
   ],
   "source": [
    "@btime CSV.read(\"/home/dhairyagandhi96/mlds/csv-benchmarks/big_mixed.csv\", threaded = true);"
   ]
  },
  {
   "cell_type": "code",
   "execution_count": 63,
   "metadata": {},
   "outputs": [
    {
     "name": "stdout",
     "output_type": "stream",
     "text": [
      "10 loops, best of 3: 6.33 sec per loop\n"
     ]
    },
    {
     "data": {
      "text/plain": [
       "Process(`\u001b[4mpython3\u001b[24m \u001b[4m-m\u001b[24m \u001b[4mtimeit\u001b[24m \u001b[4m-s\u001b[24m \u001b[4m'import pandas'\u001b[24m \u001b[4m-p\u001b[24m \u001b[4m\"pandas.read_csv('csv-benchmarks/big_mixed.csv')\"\u001b[24m`, ProcessExited(0))"
      ]
     },
     "execution_count": 63,
     "metadata": {},
     "output_type": "execute_result"
    }
   ],
   "source": [
    "run(`python3 -m timeit -s \"import pandas\" -p \"pandas.read_csv('csv-benchmarks/big_mixed.csv')\"`)"
   ]
  },
  {
   "cell_type": "markdown",
   "metadata": {},
   "source": [
    "# That's a speedup of about **15x** with multithreading, and about 3x without !!"
   ]
  },
  {
   "cell_type": "code",
   "execution_count": null,
   "metadata": {},
   "outputs": [],
   "source": []
  }
 ],
 "metadata": {
  "@webio": {
   "lastCommId": null,
   "lastKernelId": null
  },
  "kernelspec": {
   "display_name": "Julia 1.5.0",
   "language": "julia",
   "name": "julia-1.5"
  },
  "language_info": {
   "file_extension": ".jl",
   "mimetype": "application/julia",
   "name": "julia",
   "version": "1.5.0"
  }
 },
 "nbformat": 4,
 "nbformat_minor": 2
}
