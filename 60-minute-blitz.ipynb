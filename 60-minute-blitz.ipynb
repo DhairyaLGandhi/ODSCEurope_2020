{
 "cells": [
  {
   "cell_type": "markdown",
   "metadata": {},
   "source": [
    "Deep Learning with Flux: A 60 Minute Blitz\n",
    "====================="
   ]
  },
  {
   "cell_type": "markdown",
   "metadata": {},
   "source": [
    "This is a quick intro to [Flux](https://github.com/FluxML/Flux.jl) loosely\n",
    "based on [PyTorch's\n",
    "tutorial](https://pytorch.org/tutorials/beginner/deep_learning_60min_blitz.html).\n",
    "It introduces basic Julia programming, as well Zygote, a source-to-source\n",
    "automatic differentiation (AD) framework in Julia.\n",
    "We'll use these tools to build a very simple neural network."
   ]
  },
  {
   "cell_type": "code",
   "execution_count": 1,
   "metadata": {},
   "outputs": [
    {
     "name": "stdout",
     "output_type": "stream",
     "text": [
      "\u001b[32m\u001b[1mStatus\u001b[22m\u001b[39m `~/odsceurpoe/ODSCEurope2020/Project.toml`\n",
      " \u001b[90m [336ed68f] \u001b[39m\u001b[37mCSV v0.7.7\u001b[39m\n",
      " \u001b[90m [31c24e10] \u001b[39m\u001b[37mDistributions v0.23.11\u001b[39m\n",
      " \u001b[90m [587475ba] \u001b[39m\u001b[37mFlux v0.11.1\u001b[39m\n",
      " \u001b[90m [86fae568] \u001b[39m\u001b[37mImageView v0.10.9\u001b[39m\n",
      " \u001b[90m [916415d5] \u001b[39m\u001b[37mImages v0.22.4\u001b[39m\n",
      " \u001b[90m [23992714] \u001b[39m\u001b[37mMAT v0.8.1\u001b[39m\n",
      " \u001b[90m [dbeba491] \u001b[39m\u001b[37mMetalhead v0.5.1\u001b[39m\n",
      " \u001b[90m [91a5bcdd] \u001b[39m\u001b[37mPlots v1.0.14\u001b[39m\n",
      " \u001b[90m [2913bbd2] \u001b[39m\u001b[37mStatsBase v0.33.1\u001b[39m\n",
      " \u001b[90m [009559a3] \u001b[39m\u001b[37mXGBoost v1.1.1\u001b[39m\n",
      " \u001b[90m [e88e6eb3] \u001b[39m\u001b[37mZygote v0.5.7\u001b[39m\n",
      " \u001b[90m [10745b16] \u001b[39m\u001b[37mStatistics\u001b[39m\n"
     ]
    }
   ],
   "source": [
    "]st"
   ]
  },
  {
   "cell_type": "markdown",
   "metadata": {},
   "source": [
    "Arrays\n",
    "-------"
   ]
  },
  {
   "cell_type": "markdown",
   "metadata": {},
   "source": [
    "The starting point for all of our models is the `Array` (sometimes referred to\n",
    "as a `Tensor` in other frameworks). This is really just a list of numbers,\n",
    "which might be arranged into a shape like a square. Let's write down an array\n",
    "with three elements."
   ]
  },
  {
   "cell_type": "code",
   "execution_count": 2,
   "metadata": {},
   "outputs": [
    {
     "data": {
      "text/plain": [
       "3-element Array{Int64,1}:\n",
       " 1\n",
       " 2\n",
       " 3"
      ]
     },
     "execution_count": 2,
     "metadata": {},
     "output_type": "execute_result"
    }
   ],
   "source": [
    "x = [1, 2, 3]"
   ]
  },
  {
   "cell_type": "markdown",
   "metadata": {},
   "source": [
    "Here's a matrix – a square array with four elements."
   ]
  },
  {
   "cell_type": "code",
   "execution_count": 3,
   "metadata": {},
   "outputs": [
    {
     "data": {
      "text/plain": [
       "2×2 Array{Int64,2}:\n",
       " 1  2\n",
       " 3  4"
      ]
     },
     "execution_count": 3,
     "metadata": {},
     "output_type": "execute_result"
    }
   ],
   "source": [
    "x = [1 2; 3 4]"
   ]
  },
  {
   "cell_type": "markdown",
   "metadata": {},
   "source": [
    "We often work with arrays of thousands of elements, and don't usually write\n",
    "them down by hand. Here's how we can create an array of 5×3 = 15 elements,\n",
    "each a random number from zero to one."
   ]
  },
  {
   "cell_type": "code",
   "execution_count": 4,
   "metadata": {},
   "outputs": [
    {
     "data": {
      "text/plain": [
       "5×3 Array{Float64,2}:\n",
       " 0.824596   0.861117   0.488273\n",
       " 0.348176   0.44778    0.304523\n",
       " 0.825017   0.368134   0.441199\n",
       " 0.460255   0.466246   0.570456\n",
       " 0.0171909  0.0675758  0.976182"
      ]
     },
     "execution_count": 4,
     "metadata": {},
     "output_type": "execute_result"
    }
   ],
   "source": [
    "x = rand(5, 3)"
   ]
  },
  {
   "cell_type": "markdown",
   "metadata": {},
   "source": [
    "There's a few functions like this; try replacing `rand` with `ones`, `zeros`,\n",
    "or `randn` to see what they do."
   ]
  },
  {
   "cell_type": "markdown",
   "metadata": {},
   "source": [
    "By default, Julia works stores numbers is a high-precision format called\n",
    "`Float64`. In ML we often don't need all those digits, and can ask Julia to\n",
    "work with `Float32` instead. We can even ask for more digits using `BigFloat`."
   ]
  },
  {
   "cell_type": "code",
   "execution_count": 5,
   "metadata": {},
   "outputs": [
    {
     "data": {
      "text/plain": [
       "5×3 Array{BigFloat,2}:\n",
       " 0.578351  0.618241  0.6919\n",
       " 0.542198  0.675731  0.208174\n",
       " 0.181624  0.859533  0.920606\n",
       " 0.611207  0.997925  0.942422\n",
       " 0.95015   0.800185  0.323592"
      ]
     },
     "execution_count": 5,
     "metadata": {},
     "output_type": "execute_result"
    }
   ],
   "source": [
    "x = rand(BigFloat, 5, 3)"
   ]
  },
  {
   "cell_type": "code",
   "execution_count": 6,
   "metadata": {},
   "outputs": [
    {
     "data": {
      "text/plain": [
       "5×3 Array{Float32,2}:\n",
       " 0.873278  0.856443  0.286719\n",
       " 0.561015  0.233928  0.657078\n",
       " 0.966198  0.66904   0.825555\n",
       " 0.274162  0.444862  0.425979\n",
       " 0.885508  0.704317  0.81826"
      ]
     },
     "execution_count": 6,
     "metadata": {},
     "output_type": "execute_result"
    }
   ],
   "source": [
    "x = rand(Float32, 5, 3)"
   ]
  },
  {
   "cell_type": "markdown",
   "metadata": {},
   "source": [
    "We can ask the array how many elements it has."
   ]
  },
  {
   "cell_type": "code",
   "execution_count": 7,
   "metadata": {},
   "outputs": [
    {
     "data": {
      "text/plain": [
       "15"
      ]
     },
     "execution_count": 7,
     "metadata": {},
     "output_type": "execute_result"
    }
   ],
   "source": [
    "length(x)"
   ]
  },
  {
   "cell_type": "markdown",
   "metadata": {},
   "source": [
    "Or, more specifically, what size it has."
   ]
  },
  {
   "cell_type": "code",
   "execution_count": 8,
   "metadata": {},
   "outputs": [
    {
     "data": {
      "text/plain": [
       "(5, 3)"
      ]
     },
     "execution_count": 8,
     "metadata": {},
     "output_type": "execute_result"
    }
   ],
   "source": [
    "size(x)"
   ]
  },
  {
   "cell_type": "markdown",
   "metadata": {},
   "source": [
    "We sometimes want to see some elements of the array on their own."
   ]
  },
  {
   "cell_type": "code",
   "execution_count": 9,
   "metadata": {},
   "outputs": [
    {
     "data": {
      "text/plain": [
       "5×3 Array{Float32,2}:\n",
       " 0.873278  0.856443  0.286719\n",
       " 0.561015  0.233928  0.657078\n",
       " 0.966198  0.66904   0.825555\n",
       " 0.274162  0.444862  0.425979\n",
       " 0.885508  0.704317  0.81826"
      ]
     },
     "execution_count": 9,
     "metadata": {},
     "output_type": "execute_result"
    }
   ],
   "source": [
    "x"
   ]
  },
  {
   "cell_type": "code",
   "execution_count": 10,
   "metadata": {},
   "outputs": [
    {
     "data": {
      "text/plain": [
       "0.8564434f0"
      ]
     },
     "execution_count": 10,
     "metadata": {},
     "output_type": "execute_result"
    }
   ],
   "source": [
    "x[6]"
   ]
  },
  {
   "cell_type": "code",
   "execution_count": 11,
   "metadata": {},
   "outputs": [
    {
     "data": {
      "text/plain": [
       "0.6570779f0"
      ]
     },
     "execution_count": 11,
     "metadata": {},
     "output_type": "execute_result"
    }
   ],
   "source": [
    "x[2, 3]"
   ]
  },
  {
   "cell_type": "markdown",
   "metadata": {},
   "source": [
    "This means get the second row and the third column. We can also get every row\n",
    "of the third column."
   ]
  },
  {
   "cell_type": "code",
   "execution_count": 12,
   "metadata": {},
   "outputs": [
    {
     "data": {
      "text/plain": [
       "5-element Array{Float32,1}:\n",
       " 0.2867186\n",
       " 0.6570779\n",
       " 0.8255546\n",
       " 0.42597866\n",
       " 0.8182603"
      ]
     },
     "execution_count": 12,
     "metadata": {},
     "output_type": "execute_result"
    }
   ],
   "source": [
    "x[:, 3]"
   ]
  },
  {
   "cell_type": "markdown",
   "metadata": {},
   "source": [
    "We can add arrays, and subtract them, which adds or subtracts each element of\n",
    "the array."
   ]
  },
  {
   "cell_type": "code",
   "execution_count": 13,
   "metadata": {},
   "outputs": [
    {
     "data": {
      "text/plain": [
       "5×3 Array{Float32,2}:\n",
       " 1.74656   1.71289   0.573437\n",
       " 1.12203   0.467856  1.31416\n",
       " 1.9324    1.33808   1.65111\n",
       " 0.548324  0.889724  0.851957\n",
       " 1.77102   1.40863   1.63652"
      ]
     },
     "execution_count": 13,
     "metadata": {},
     "output_type": "execute_result"
    }
   ],
   "source": [
    "x + x"
   ]
  },
  {
   "cell_type": "code",
   "execution_count": 14,
   "metadata": {},
   "outputs": [
    {
     "data": {
      "text/plain": [
       "5×3 Array{Float32,2}:\n",
       " 0.0  0.0  0.0\n",
       " 0.0  0.0  0.0\n",
       " 0.0  0.0  0.0\n",
       " 0.0  0.0  0.0\n",
       " 0.0  0.0  0.0"
      ]
     },
     "execution_count": 14,
     "metadata": {},
     "output_type": "execute_result"
    }
   ],
   "source": [
    "x - x"
   ]
  },
  {
   "cell_type": "markdown",
   "metadata": {},
   "source": [
    "Julia supports a feature called *broadcasting*, using the `.` syntax. This\n",
    "tiles small arrays (or single numbers) to fill bigger ones."
   ]
  },
  {
   "cell_type": "code",
   "execution_count": 15,
   "metadata": {},
   "outputs": [
    {
     "data": {
      "text/plain": [
       "5×3 Array{Float32,2}:\n",
       " 1.87328  1.85644  1.28672\n",
       " 1.56102  1.23393  1.65708\n",
       " 1.9662   1.66904  1.82555\n",
       " 1.27416  1.44486  1.42598\n",
       " 1.88551  1.70432  1.81826"
      ]
     },
     "execution_count": 15,
     "metadata": {},
     "output_type": "execute_result"
    }
   ],
   "source": [
    "x .+ 1"
   ]
  },
  {
   "cell_type": "markdown",
   "metadata": {},
   "source": [
    "We can see Julia tile the column vector `1:5` across all rows of the larger\n",
    "array."
   ]
  },
  {
   "cell_type": "code",
   "execution_count": 16,
   "metadata": {},
   "outputs": [
    {
     "data": {
      "text/plain": [
       "5×5 Array{Float64,2}:\n",
       " 1.0  1.0  1.0  1.0  1.0\n",
       " 2.0  2.0  2.0  2.0  2.0\n",
       " 3.0  3.0  3.0  3.0  3.0\n",
       " 4.0  4.0  4.0  4.0  4.0\n",
       " 5.0  5.0  5.0  5.0  5.0"
      ]
     },
     "execution_count": 16,
     "metadata": {},
     "output_type": "execute_result"
    }
   ],
   "source": [
    "zeros(5,5) .+ (1:5)"
   ]
  },
  {
   "cell_type": "markdown",
   "metadata": {},
   "source": [
    "The x' syntax is used to transpose a column `1:5` into an equivalent row, and\n",
    "Julia will tile that across columns."
   ]
  },
  {
   "cell_type": "code",
   "execution_count": 17,
   "metadata": {},
   "outputs": [
    {
     "data": {
      "text/plain": [
       "5×5 Array{Float64,2}:\n",
       " 1.0  2.0  3.0  4.0  5.0\n",
       " 1.0  2.0  3.0  4.0  5.0\n",
       " 1.0  2.0  3.0  4.0  5.0\n",
       " 1.0  2.0  3.0  4.0  5.0\n",
       " 1.0  2.0  3.0  4.0  5.0"
      ]
     },
     "execution_count": 17,
     "metadata": {},
     "output_type": "execute_result"
    }
   ],
   "source": [
    "zeros(5,5) .+ (1:5)'"
   ]
  },
  {
   "cell_type": "markdown",
   "metadata": {},
   "source": [
    "We can use this to make a times table."
   ]
  },
  {
   "cell_type": "code",
   "execution_count": 18,
   "metadata": {},
   "outputs": [
    {
     "data": {
      "text/plain": [
       "5×5 Array{Int64,2}:\n",
       " 1   2   3   4   5\n",
       " 2   4   6   8  10\n",
       " 3   6   9  12  15\n",
       " 4   8  12  16  20\n",
       " 5  10  15  20  25"
      ]
     },
     "execution_count": 18,
     "metadata": {},
     "output_type": "execute_result"
    }
   ],
   "source": [
    "(1:5) .* (1:5)'"
   ]
  },
  {
   "cell_type": "markdown",
   "metadata": {},
   "source": [
    "Finally, and importantly for machine learning, we can conveniently do things like\n",
    "matrix multiply."
   ]
  },
  {
   "cell_type": "code",
   "execution_count": 19,
   "metadata": {},
   "outputs": [
    {
     "data": {
      "text/plain": [
       "5-element Array{Float64,1}:\n",
       " -0.5496259984930997\n",
       "  0.5306537477587597\n",
       " -0.7834282309393603\n",
       " -1.2524829970371323\n",
       "  1.9339945289972387"
      ]
     },
     "execution_count": 19,
     "metadata": {},
     "output_type": "execute_result"
    }
   ],
   "source": [
    "W = randn(5, 10)\n",
    "x = rand(10)\n",
    "W * x"
   ]
  },
  {
   "cell_type": "markdown",
   "metadata": {},
   "source": [
    "Julia's arrays are very powerful, and you can learn more about what they can\n",
    "do [here](https://docs.julialang.org/en/v1/manual/arrays/)."
   ]
  },
  {
   "cell_type": "markdown",
   "metadata": {},
   "source": [
    "### CUDA Arrays"
   ]
  },
  {
   "cell_type": "markdown",
   "metadata": {},
   "source": [
    "CUDA functionality is provided separately by the [CUDA.jl\n",
    "package](https://github.com/JuliaGPU/CUDA.jl). If you have a GPU and CUDA\n",
    "available, you can run `] add CUDA` in a REPL or IJulia to get it."
   ]
  },
  {
   "cell_type": "markdown",
   "metadata": {},
   "source": [
    "Once CUDA is loaded you can move any array to the GPU with the `cu`\n",
    "function, and it supports all of the above operations with the same syntax."
   ]
  },
  {
   "cell_type": "code",
   "execution_count": 20,
   "metadata": {},
   "outputs": [],
   "source": [
    "using Flux"
   ]
  },
  {
   "cell_type": "code",
   "execution_count": 21,
   "metadata": {},
   "outputs": [
    {
     "data": {
      "text/plain": [
       "5×3 CUDA.CuArray{Float32,2}:\n",
       " 0.67829    0.19216    0.0141088\n",
       " 0.0942092  0.0980978  0.914918\n",
       " 0.86526    0.923609   0.520958\n",
       " 0.936102   0.579317   0.857491\n",
       " 0.850112   0.293006   0.316404"
      ]
     },
     "execution_count": 21,
     "metadata": {},
     "output_type": "execute_result"
    }
   ],
   "source": [
    "using Flux: gpu\n",
    "x = gpu(rand(5, 3))"
   ]
  },
  {
   "cell_type": "markdown",
   "metadata": {},
   "source": [
    "Automatic Differentiation\n",
    "-------------------------"
   ]
  },
  {
   "cell_type": "markdown",
   "metadata": {},
   "source": [
    "You probably learned to take derivatives in school. We start with a simple\n",
    "mathematical function like"
   ]
  },
  {
   "cell_type": "code",
   "execution_count": 22,
   "metadata": {},
   "outputs": [
    {
     "data": {
      "text/plain": [
       "86"
      ]
     },
     "execution_count": 22,
     "metadata": {},
     "output_type": "execute_result"
    }
   ],
   "source": [
    "f(x) = 3x^2 + 2x + 1\n",
    "\n",
    "f(5)"
   ]
  },
  {
   "cell_type": "markdown",
   "metadata": {},
   "source": [
    "In simple cases it's pretty easy to work out the gradient by hand – here it's\n",
    "`6x+2`. But it's much easier to make Flux do the work for us!"
   ]
  },
  {
   "cell_type": "code",
   "execution_count": 23,
   "metadata": {},
   "outputs": [
    {
     "data": {
      "text/plain": [
       "32"
      ]
     },
     "execution_count": 23,
     "metadata": {},
     "output_type": "execute_result"
    }
   ],
   "source": [
    "using Flux: gradient\n",
    "\n",
    "df(x) = gradient(f, x)[1]\n",
    "\n",
    "df(5)"
   ]
  },
  {
   "cell_type": "markdown",
   "metadata": {},
   "source": [
    "You can try this with a few different inputs to make sure it's really the same\n",
    "as `6x+2`. We can even do this multiple times (but the second derivative is a\n",
    "fairly boring `6`)."
   ]
  },
  {
   "cell_type": "code",
   "execution_count": 216,
   "metadata": {},
   "outputs": [
    {
     "data": {
      "text/plain": [
       "6"
      ]
     },
     "execution_count": 216,
     "metadata": {},
     "output_type": "execute_result"
    }
   ],
   "source": [
    "ddf(x) = gradient(df, x)[1]\n",
    "\n",
    "ddf(5)"
   ]
  },
  {
   "cell_type": "markdown",
   "metadata": {},
   "source": [
    "Flux's AD can handle any Julia code you throw at it, including loops,\n",
    "recursion and custom layers, so long as the mathematical functions you call\n",
    "are differentiable. For example, we can differentiate a Taylor approximation\n",
    "to the `sin` function."
   ]
  },
  {
   "cell_type": "code",
   "execution_count": 218,
   "metadata": {},
   "outputs": [
    {
     "data": {
      "text/plain": [
       "(0.4794255386041834, (0.8775825618898637,))"
      ]
     },
     "execution_count": 218,
     "metadata": {},
     "output_type": "execute_result"
    }
   ],
   "source": [
    "mysin(x) = sum(((-1)^k * x ^ (1 + 2k)) / factorial(1 + 2k) for k in 0:5)\n",
    "\n",
    "x = 0.5\n",
    "\n",
    "mysin(x), gradient(mysin, x)"
   ]
  },
  {
   "cell_type": "code",
   "execution_count": 26,
   "metadata": {},
   "outputs": [
    {
     "data": {
      "text/plain": [
       "(0.479425538604203, 0.8775825618903728)"
      ]
     },
     "execution_count": 26,
     "metadata": {},
     "output_type": "execute_result"
    }
   ],
   "source": [
    "sin(x), cos(x)"
   ]
  },
  {
   "cell_type": "markdown",
   "metadata": {},
   "source": [
    "You can see that the derivative we calculated is very close to `cos(x)`, as we\n",
    "expect."
   ]
  },
  {
   "cell_type": "markdown",
   "metadata": {},
   "source": [
    "This gets more interesting when we consider functions that take *arrays* as\n",
    "inputs, rather than just a single number. For example, here's a function that\n",
    "takes a matrix and two vectors (the definition itself is arbitrary)"
   ]
  },
  {
   "cell_type": "markdown",
   "metadata": {},
   "source": [
    "$$ y = σ.(W * x + b) $$"
   ]
  },
  {
   "cell_type": "code",
   "execution_count": 27,
   "metadata": {},
   "outputs": [
    {
     "data": {
      "text/plain": [
       "([0.1664157407065745 0.5096435744602996 … 0.9193291812019386 0.5111594838846711; 0.1664157407065745 0.5096435744602996 … 0.9193291812019386 0.5111594838846711; 0.1664157407065745 0.5096435744602996 … 0.9193291812019386 0.5111594838846711], 3-element Fill{Float64}: entries equal to 1.0, [1.0458884189362463, 1.0020339963964158, 0.14386219795708757, -1.2417759039713478, -2.4611376877236593])"
      ]
     },
     "execution_count": 27,
     "metadata": {},
     "output_type": "execute_result"
    }
   ],
   "source": [
    "myloss(W, b, x) = sum(W * x .+ b)\n",
    "\n",
    "W = randn(3, 5)\n",
    "b = zeros(3)\n",
    "x = rand(5)\n",
    "\n",
    "gradient(myloss, W, b, x)"
   ]
  },
  {
   "cell_type": "markdown",
   "metadata": {},
   "source": [
    "Now we get gradients for each of the inputs `W`, `b` and `x`, which will come\n",
    "in handy when we want to train models."
   ]
  },
  {
   "cell_type": "markdown",
   "metadata": {},
   "source": [
    "Because ML models can contain hundreds of parameters, Flux provides a slightly\n",
    "different way of writing `gradient`. We instead mark arrays with `param` to\n",
    "indicate that we want their derivatives. `W` and `b` represent the weight and\n",
    "bias respectively."
   ]
  },
  {
   "cell_type": "code",
   "execution_count": 28,
   "metadata": {},
   "outputs": [
    {
     "data": {
      "text/plain": [
       "([0.1029736362657463 0.1350489307017686 … 0.9999214786307322 0.5684525512301466; 0.1029736362657463 0.1350489307017686 … 0.9999214786307322 0.5684525512301466; 0.1029736362657463 0.1350489307017686 … 0.9999214786307322 0.5684525512301466], 3-element Fill{Float64}: entries equal to 1.0)"
      ]
     },
     "execution_count": 28,
     "metadata": {},
     "output_type": "execute_result"
    }
   ],
   "source": [
    "using Flux: params\n",
    "\n",
    "W = randn(3, 5)\n",
    "b = zeros(3)\n",
    "x = rand(5)\n",
    "\n",
    "y(x) = sum(W * x .+ b)\n",
    "\n",
    "grads = gradient(()->y(x), params(W, b))\n",
    "\n",
    "grads[W], grads[b]"
   ]
  },
  {
   "cell_type": "markdown",
   "metadata": {},
   "source": [
    "We can now grab the gradients of `W` and `b` directly from those parameters."
   ]
  },
  {
   "cell_type": "markdown",
   "metadata": {},
   "source": [
    "This comes in handy when working with *layers*. A layer is just a handy\n",
    "container for some parameters. For example, `Dense` does a linear transform\n",
    "for you."
   ]
  },
  {
   "cell_type": "code",
   "execution_count": 29,
   "metadata": {},
   "outputs": [
    {
     "data": {
      "text/plain": [
       "10-element Array{Float32,1}:\n",
       " 0.46337426\n",
       " 0.6444974\n",
       " 0.34239125\n",
       " 0.08695817\n",
       " 0.82229733\n",
       " 0.40837836\n",
       " 0.62483084\n",
       " 0.59043694\n",
       " 0.0017986298\n",
       " 0.74462855"
      ]
     },
     "execution_count": 29,
     "metadata": {},
     "output_type": "execute_result"
    }
   ],
   "source": [
    "using Flux\n",
    "\n",
    "m = Dense(10, 5)\n",
    "\n",
    "x = rand(Float32, 10)"
   ]
  },
  {
   "cell_type": "markdown",
   "metadata": {},
   "source": [
    "We can easily get the parameters of any layer or model with params with\n",
    "`params`."
   ]
  },
  {
   "cell_type": "code",
   "execution_count": 30,
   "metadata": {},
   "outputs": [
    {
     "data": {
      "text/plain": [
       "Params([Float32[-0.4810946 0.095490545 … 0.06745251 0.57409954; -0.14792295 0.5733329 … -0.04754985 -0.085658036; … ; 0.44672158 -0.20107432 … -0.44465715 0.57285357; 0.5459392 0.13856709 … 0.24982534 -0.60930127], Float32[0.0, 0.0, 0.0, 0.0, 0.0]])"
      ]
     },
     "execution_count": 30,
     "metadata": {},
     "output_type": "execute_result"
    }
   ],
   "source": [
    "params(m)"
   ]
  },
  {
   "cell_type": "markdown",
   "metadata": {},
   "source": [
    "This makes it very easy to calculate the gradient for all\n",
    "parameters in a network, even if it has many parameters."
   ]
  },
  {
   "cell_type": "code",
   "execution_count": 31,
   "metadata": {},
   "outputs": [
    {
     "name": "stdout",
     "output_type": "stream",
     "text": [
      "AbstractFloat[0.05211236138041907 0.05704720935427655 0.17874304669249622 0.14671702663823047 0.022820314362028252 0.16840890321917815 0.03803498544378751 0.0838686278922419 0.1111246333572342 0.027252212880928776; 0.06015193897654093 0.06584810522805756 0.20631843486501356 0.16935163556949145 0.026340893418926578 0.19439000270197945 0.04390279125305549 0.09680736879668501 0.12826826471552774 0.03145651823801787; 0.0f0 0.0f0 0.0f0 0.0f0 0.0f0 0.0f0 0.0f0 0.0f0 0.0f0 0.0f0; 0.039522248520745464 0.04326485934989465 0.13555952801997623 0.11127085081966298 0.017307028728821054 0.12772206727587374 0.02884590349339141 0.06360634342500895 0.08427742017408488 0.02066820043631779; -0.0387496651336252 -0.042419115172098745 -0.1329096018838374 -0.10909572126525809 -0.016968709848272503 -0.12522534831277626 -0.028282021966919795 -0.06236296264367933 -0.08262995989100724 -0.020264177160911553]\n",
      "AbstractFloat[0.20135760136722952, 0.23242182524577137, 0.0f0, 0.1527105076794132, -0.14972531311969864]\n",
      "[0.27486445100774326 0.31491606487747076 0.0 0.17412967769294516 0.10910824582540987; -0.27486446423546823 -0.31491608003266114 -0.0 -0.1741296860728556 -0.10910825107619387]\n",
      "[0.30963736665155855, -0.30963738155271403]\n"
     ]
    }
   ],
   "source": [
    "x = rand(Float32, 10)\n",
    "m = Chain(Dense(10, 5, relu),\n",
    "          identity,\n",
    "          Dense(5, 2),\n",
    "          softmax)\n",
    "l(x) = sum(Flux.crossentropy(m(x), [0.5, 0.5]))\n",
    "grads = gradient(params(m)) do\n",
    "    l(x)\n",
    "end\n",
    "for p in params(m)\n",
    "    println(grads[p])\n",
    "end"
   ]
  },
  {
   "cell_type": "markdown",
   "metadata": {},
   "source": [
    "You don't have to use layers, but they can be convient for many simple kinds\n",
    "of models and fast iteration."
   ]
  },
  {
   "cell_type": "markdown",
   "metadata": {},
   "source": [
    "The next step is to update our weights and perform optimisation. As you might be\n",
    "familiar, *Gradient Descent* is a simple algorithm that takes the weights and steps\n",
    "using a learning rate and the gradients. `weights = weights - learning_rate * gradient`."
   ]
  },
  {
   "cell_type": "code",
   "execution_count": 32,
   "metadata": {},
   "outputs": [],
   "source": [
    "using Flux.Optimise: update!, Descent\n",
    "η = 0.1\n",
    "for p in params(m)\n",
    "  update!(p, -η * grads[p])\n",
    "end"
   ]
  },
  {
   "cell_type": "markdown",
   "metadata": {},
   "source": [
    "While this is a valid way of updating our weights, it can get more complicated as the\n",
    "algorithms we use get more involved."
   ]
  },
  {
   "cell_type": "markdown",
   "metadata": {},
   "source": [
    "Flux comes with a bunch of pre-defined optimisers and makes writing our own really simple.\n",
    "We just give it the learning rate η"
   ]
  },
  {
   "cell_type": "code",
   "execution_count": 33,
   "metadata": {},
   "outputs": [],
   "source": [
    "opt = Descent(0.01)\n",
    "update!(opt, params(m), grads)"
   ]
  },
  {
   "cell_type": "markdown",
   "metadata": {},
   "source": [
    "`Training` a network reduces down to iterating on a dataset mulitple times, performing these\n",
    "steps in order. Just for a quick implementation, let’s train a network that learns to predict\n",
    "`0.5` for every input of 10 floats. `Flux` defines the `train!` function to do it for us."
   ]
  },
  {
   "cell_type": "code",
   "execution_count": 34,
   "metadata": {},
   "outputs": [],
   "source": [
    "data, labels = rand(10, 100), fill(0.5, 2, 100)\n",
    "loss(x, y) = sum(Flux.crossentropy(m(x), y))\n",
    "Flux.train!(loss, params(m), [(data,labels), (data,labels)], opt)"
   ]
  },
  {
   "cell_type": "markdown",
   "metadata": {},
   "source": [
    "You don't have to use `train!`. In cases where aribtrary logic might be better suited,\n",
    "you could open up this training loop like so:"
   ]
  },
  {
   "cell_type": "markdown",
   "metadata": {},
   "source": [
    "```julia\n",
    "  for d in training_set # assuming d looks like (data, labels)\n",
    "    # our super logic\n",
    "    gs = gradient(params(m)) do #m is our model\n",
    "      l = loss(d...)\n",
    "    end\n",
    "    update!(opt, params(m), gs)\n",
    "  end\n",
    "```"
   ]
  },
  {
   "cell_type": "markdown",
   "metadata": {},
   "source": [
    "Training a Classifier\n",
    "---------------------"
   ]
  },
  {
   "cell_type": "markdown",
   "metadata": {},
   "source": [
    "Getting a real classifier to work might help cement the workflow a bit more.\n",
    "[CIFAR10](url) is a dataset of 50k tiny training images split into 10 classes."
   ]
  },
  {
   "cell_type": "markdown",
   "metadata": {},
   "source": [
    "We will do the following steps in order:"
   ]
  },
  {
   "cell_type": "markdown",
   "metadata": {},
   "source": [
    "* Load CIFAR10 training and test datasets\n",
    "* Define a Convolution Neural Network\n",
    "* Define a loss function\n",
    "* Train the network on the training data\n",
    "* Test the network on the test data"
   ]
  },
  {
   "cell_type": "markdown",
   "metadata": {},
   "source": [
    "Loading the Dataset"
   ]
  },
  {
   "cell_type": "markdown",
   "metadata": {},
   "source": [
    "[Metalhead.jl](https://github.com/FluxML/Metalhead.jl) is an excellent package\n",
    "that has a number of predefined and pretrained computer vision models.\n",
    "It also has a number of dataloaders that come in handy to load datasets."
   ]
  },
  {
   "cell_type": "code",
   "execution_count": 35,
   "metadata": {},
   "outputs": [
    {
     "name": "stderr",
     "output_type": "stream",
     "text": [
      "WARNING: using Images.data in module Main conflicts with an existing identifier.\n"
     ]
    }
   ],
   "source": [
    "using Statistics\n",
    "using Zygote\n",
    "using Flux, Flux.Optimise\n",
    "using Metalhead, Images\n",
    "using Metalhead: trainimgs\n",
    "using Images.ImageCore\n",
    "using Flux: onehotbatch, onecold\n",
    "using Base.Iterators: partition"
   ]
  },
  {
   "cell_type": "markdown",
   "metadata": {},
   "source": [
    "The image will give us an idea of what we are dealing with.\n",
    "![title](https://pytorch.org/tutorials/_images/cifar10.png)"
   ]
  },
  {
   "cell_type": "code",
   "execution_count": 193,
   "metadata": {},
   "outputs": [
    {
     "data": {
      "text/plain": [
       "class (generic function with 1 method)"
      ]
     },
     "execution_count": 193,
     "metadata": {},
     "output_type": "execute_result"
    }
   ],
   "source": [
    "image(x) = x.img # handy for use later\n",
    "ground_truth(x) = x.ground_truth\n",
    "class(x) = x.class"
   ]
  },
  {
   "cell_type": "code",
   "execution_count": 194,
   "metadata": {},
   "outputs": [
    {
     "data": {
      "text/plain": [
       "10×50000 Flux.OneHotMatrix{Array{Flux.OneHotVector,1}}:\n",
       " 0  0  0  0  0  0  0  0  0  0  0  0  0  …  0  0  0  0  1  0  1  0  0  0  0  0\n",
       " 0  0  0  0  1  1  0  0  0  0  0  0  0     0  1  0  0  0  1  0  0  0  0  1  1\n",
       " 0  0  0  0  0  0  1  0  0  0  0  0  0     0  0  0  1  0  0  0  1  0  0  0  0\n",
       " 0  0  0  0  0  0  0  0  0  1  0  0  0     0  0  0  0  0  0  0  0  0  0  0  0\n",
       " 0  0  0  1  0  0  0  0  0  0  1  0  0     0  0  1  0  0  0  0  0  0  0  0  0\n",
       " 0  0  0  0  0  0  0  0  0  0  0  0  0  …  1  0  0  0  0  0  0  0  0  0  0  0\n",
       " 1  0  0  0  0  0  0  0  0  0  0  0  0     0  0  0  0  0  0  0  0  1  0  0  0\n",
       " 0  0  0  0  0  0  0  1  0  0  0  1  1     0  0  0  0  0  0  0  0  0  0  0  0\n",
       " 0  0  0  0  0  0  0  0  1  0  0  0  0     0  0  0  0  0  0  0  0  0  0  0  0\n",
       " 0  1  1  0  0  0  0  0  0  0  0  0  0     0  0  0  0  0  0  0  0  0  1  0  0"
      ]
     },
     "execution_count": 194,
     "metadata": {},
     "output_type": "execute_result"
    }
   ],
   "source": [
    "Metalhead.download(CIFAR10)\n",
    "X = trainimgs(CIFAR10)\n",
    "labels = onehotbatch(class.(ground_truth.(X)), 1:10) # onehotbatch(actual_classes, available_classes)"
   ]
  },
  {
   "cell_type": "markdown",
   "metadata": {},
   "source": [
    "Let's take a look at a random image from the dataset"
   ]
  },
  {
   "cell_type": "code",
   "execution_count": 195,
   "metadata": {},
   "outputs": [
    {
     "data": {
      "text/html": [
       "<table><tbody><tr><td style='text-align:center;vertical-align:middle; margin: 0.5em;border:1px #90999f solid;border-collapse:collapse'><img style='max-width: 100px; max-height:100px;display:inline' src=\"data:image/png;base64,iVBORw0KGgoAAAANSUhEUgAAAIAAAACACAIAAABMXPacAAAABGdBTUEAALGPC/xhBQAAACBjSFJNAAB6JgAAgIQAAPoAAACA6AAAdTAAAOpgAAA6mAAAF3CculE8AAAABmJLR0QA/wD/AP+gvaeTAAAO3ElEQVR42u2d2W8cWRXGa+2qXtyLt9ixEyckgUxglgcYEAgkQDD8lyDBGy/zgpAAsQgYQWZRkpnJZMiMnYU4Tryk3e69qqt44n6/lmzxhK4f7nk6blffWk7XOfd8Z/O3rnzV+y8llYrhfd/39IfYYjYzfBjqeHzsxVFi+KgSGL6S6vhyVhp+OhprzUAnm3m54es1rdnrHoI/Mnw26hs+8BuGb7Y3DH9jSeddKweG//j5geHvH2id5sq64VfWtE4cxafeu+/rfoNA/Gg00jMsCh3jObJKTgCWyQnAMkVhIF0WQXeHYWj4spTe7I2ODR9H0O+VFN/1cQLw5cTwQSn9nla0/mg8NfxhT+faey4dyl9NMdM6oa97qbYuGb597W2dq9o1fL57R+uU0stZrjUPDmVvGp0lwyep7vcsvU+een84HJ56L44skBOAZXICsExRq9Uxf5TQgzNsbqnL6rWm4YtihuOlNyPYBq3oedOx9t2tWLZhZUW6dZTpG4OJjk8qC4avVmuGz3HeMtd5W2u3DF9buWr4o4OPDD8Zyq7ksHNJrao1Y/DwjXS054Uhf8en6/0KfKwcNsa9AZbJCcAyOQFYpsgrpdeCINI/IumsOYVXZoYNI313PNbedlbomBx6eXrSM/zG5orhX78lPKreWdX6/7ht+Ke7zw0fJ9LLQQhMxq/r85ps23ggf2JwtGf4k56uZwS9fGFN15BHOlcY6/lksD1BEILXo8pz2sjTbap7AyyTE4BlcgKwTFGSCNOIIum4uRhAISPgw06UnvRakshmjLh/r7cMX0+k97/x+tcN/87Pfmr4SSmdvnsgHGYAPL0EfjWayN6MYG9SX3q5FQtf6k9fGb4LuxUB26nWxFeay4aPU9mY0UDXQ9wsQpyAMYCcQQP4HO4NsExOAJbJCcAyRRFsAOOxxLgLOgLQ9SGQnuGJ9Kw/AgIEPGRlUXvz73/324bfuqy4694xdGui66nVpFuzKeMTiif7sXCq1oL0cieWru/Dd5lCX4eIhXge7MeicKq4ojhzNpJfksR6VnGs5zlJgFNNdZ2FswHnh5wALJMTgGWKiGN4sAEkHuMjluvBP2BsdpbJHvSOlG9TK6SLp9MpzqB1Dg9fGn48UH7OckvxgNkU8dsh9GxVejyddQ0fezrvja1Nw79Mdb9Hr4QL1RZkS9aWFg0/HMrn4C83ZwwA+U4FPvdpXwtnA84NOQFYJicAyxSVc3tSxgYgG6aJzqR/T46FqwyRw1NBjDREvKEEHtIfKkcoShTjvXfnnuEPd3cNv9qWD1FvAvcH/jMA/u5l+4ZtV7U376xcMPzaBWFT+wfKMV3fRA5oTdf2aOffhk996PpI6xelsLK4IpsUBHpuo5GwMvcGWCYnAMvkBGCZIua0+Ke7AV4JPMfHfn+ImGoCTLy9IL3p4/PQ1zqf3P/c8Dmgo9u3PzB8AH9iGXp/BfhMNUHdQF+6NQ5lD5Cm5JXQxZWqfIuoomteauvz6US+yMW2znWwBzyKNROIpQfAmgJfz20sWMi9AbbJCcAyOQFYpojxTOYsliXivRXkw4yEh7QXhI93GsqfqafA2VnzhdzT7UfPDL+7J/xnMBBus7nUNvzqkvyA5SXFmSvAfy76it+myD09PtIef/uJ8oKGPSnjDDHkJNG9v3Fzy/CNmu43QPz8zx/InvlVXSf9mwIxhhn8FfcGWCYnAMvkBGCZIuLyc7gQsKDpRLhNDn51Sfvxhar0fi2RfgzhXMzgZ3ThQ+w8FsbSwX5/eVnrL60Ilw8D7MH7wqMaTdmG2kJb9wX8PX3ZNfzhvq6hj7D3gtwA7/LlNcNf3ZI9aKJebHvnqeEf774wfLWt72aopZjgGbo3wDI5AVgmJwDLFOX59NR/BMi/LHLprBC5/xGwHdaFJcDfY2BNtDHjkfb7NeA562vozXBBfJjINmTIsUlYKwB7M51K5y60FAPY2ACO78sXeXbYNfxoJH+o2pKub8EmvVGXT/DOj5Tj9PNfvqt77Mm/8WL0ySh0/e4NsExOAJbJCcAyRfyDdcIZsPgSvkKK3g8+ckNj1E9VoNMDxE7pE/jIBWo1lYdz8+Zrhj887hr++GTb8At16f0lxAZYrru8JL0foc7r0ePHhh+Ptf7gWPlLYag1H27r+AsrwnlSnOw7yHO999mO4d+7fVf3G8h2Nuqyke4NsExOAJbJCcAyRZMJ9qRzuUDS1yFsA49hfVmjoX1xinor5ox6xezU9ekffPaZsPVXJ4rHXr6knM6jnmK/xF7W0XOiXpVd2dpS/k+9qf345pbsxO6e8ojo9zx/ptyk7qtrhm825JcMM93XITCuLx8/MnyMZ5Ii99S9AZbJCcAyOQFYprmYMIk1ASH28hFivPW69CBrjGdzeTJaZzySbo3hK/jYU7eRj7+8ecXwCwDp954Jf/9yW/vuBnoZHXWli69c0zVXsQe/c0++xXAou1Jrtg2/80R40W9++yfdy1j38rf31YPoL3993/B99L+L0JuoQC2CewMskxOAZXICsEwRe5mxt8FcDxzUDNehQ/nd6VRYRxW5OhXUFU8yxBWQaxQnij28ONB+/MJF2ZgJ8KgZclW3EKdtAxdK0FfuqNvVuZADWpTCiCop8kRTHfO7P/5d6yBmMB7rfrvISU0SrXNp47LhS8ROTgYnerb/S0KO/r/kBGCZnAAsUzTf64bhAeYIaR9NnIfxA+bFJyn2+LAfUSxdv4iconZb+Tx3735s+GPMBkgr+u76mjCck17X8Gv4vIGePy/3hfXHiA1cv/6m4Zsd9Sbaw3yCvSPhUf0+cS3d1+KKcKpV8BU8k96JrpN5pe4NsExOAJbJCcAyRdNM+1li9Oz7j3R/ryxZQ4CYMPUa9P4sZ0xYC+WsP0As4eKW9s7jnnKHGql098V11fEeHSn35uVL+RALV+Uf1OvCiB48eIjrl61aXlIe56ePhS9lU/kuTeQCRan49XXNKkiRp9SHfzBDfmoUu5jwuSEnAMvkBGCZoiCU7s5nwK8hGtb3snaM/gF9CIR4vcDX53Xk82TIMW212oanD/H0C+niEeauFOhXwRykp8jTX0Md2Q9/8D3dY1/rfLGtuoTBQPe1s6Pz5oiZL1SETRHLqiDvkzMV5urscJ2cV+PeAMvkBGCZnAAsU8Q8H2L3HuY4snc0j5/T+/gmZ6csLgkfT6uyAZwxwP5Cx+gT9xyx3ypw9hJ6top+om3Ulx3t6rsZ+tC9eUV79lfPFO997/aHhn/yVLYhJpYFPoVfwrwmzuCMgX2N0SDCzZI8R+QEYJmcACzTXM84H83hWFtboi6XcWDGEjLEbNsrysVcAV+e1R+0jznA0O9prPVXl9uGZ33Aa7du6FwdYT4PP5ROnx2rn90qahG2FuUrPHhw3/B95KSu1mRXquj/Uz3DBlDv8/O55+l6R58fcgKwTE4AlimqINY6QW4P9TX3rSTmgFaxx19eVt+eGvR1F31GfeSbLmB246V1zfC6sNg2fIp8nn5f+Uu3bsoGJKhT27mr/qPDY+XhhOjl2SI+c9bsTBxf47xl9tM+o9aBz4e2M8U67g2wTE4AlskJwDLN1QlHnCOPci7OPJnjYRuYv8+6gRn29VPkhtZhMzLgJE+RkzMYKI9+dUUxW9qb+/c/0TWgX1CjqZreGDGJfIjeGNnpdQyNuuzNAvb7rHOeC3qAaA9oAzj3OImdDTg35ARgmZwALFPEeS/EdgrEime5/AOMSPF87JdTzm9JtecdzvVHw1wBxJn3D6X3e33WBivXk/Mde13t6x98rjyfC5eUU9Sp6XqGmHnJ/X6ZAePCXOIl6OjaGft6YjsBcqUC9B9lX276Fpwr6d4Ay+QEYJmcACxTlM7FLYWxjLA3p77OkdNSnjFvgP0hJliHPd04soyzKq9/7Zbhf/LOj3U9x6oV+PSjO4Z/661vGb7aENb/aOeB4Q8PlTN6/aLqEnoDXdsA+FKCn2WMayuRL1sAC5qi53bOYQg++2pgViWfg+fIKjkBWCYnAMsUTeEHUDf5ZwyUmfMVsBfOUGfA/TJx/6QCrCmT3ozhc3QW2adTfgBKFLwN1ILVMBMmGCOWi548MXI3x6jbuv1QPsQ+as3WO8KROAdmbhYCegrlQQ3HoE8qbCH7b7OvqnsDLJMTgGVyArBM0WCgOibGh1kPHCEvqAnMvQIMnTaAdQO1Knomz7Tv5thH/goW0Zd/MtFBL/e1l/egW4/31dOtj548zXXFD669/U3Dv/urXxv+F3/4va6fT6U4I9cTmFKGuoG4qvgHc6syxEvY6yLCc3ZvgGVyArBMTgCWKWJcN89Z3yRd1lpsnvpl9u2pI44aYe8c+cTN9XkGnP2EeffIw5lOVM/VeyUsKEHPas65jGKt05/KtvWg0//58EvDf/5cM8U6sHkN1PGG6AlBXyRC/USWy/bk7LXH3hvISfUdFnR+yAnAMjkBWKa5GjHu3znrqspe0NC5fdTuLi+rDoA5QrNCx2Ab7UWwMZub6rFTAFsf95XXz5gEZ9yPgSnlwLVebKtH0OERjhnLHnRqus429uZt1AQ0MUuHc+EDzKrsTZW/NA3l98wS+UwBcltzVyN2fsgJwDI5AVimKELuSlFIV87YNwKx0CuXlXvz4F+KuxboC7RxSb16Tkbav3dfqP42DHWuVlO9d/afP9Hxx5oN4JeYYwMjwPnD7HGdTbT+04dfnHqPWyuqRUhRt+wjzydG/58I8WEfsd9qLlwoha2aTvVsBzP5JX7gckPPDTkBWCYnAMsUse9CMZMeBKziTZCv2Wm3DV8HvsHZAEEgDKS1qHqxcU81YlPWT2H+8OhIxwQV5JKi/quAH9BDDTBnmdUQtwgnXcNXm/JpWg3U+p7ABsCW5LANs4z7d/QsCnV8DX2ERrAN2UB4URnXsY4jq+QEYJmcACxTRFylZI7jRDrryZfKn3l246rhE/ZFQJz2AP07v3JLx2fI+TnBnrq5qLkx1T7mzGD9q9e0Tv+V7MQ2Yq0v9uU3dDbUF4g1uuxfzRynkjMSUBc2Qx3ZXCB7riZAH8/wDGNP69cLzOpxWND5IScAy+QEYJn+A27DTWiYBUuUAAAAAElFTkSuQmCC\"></td><td style='text-align:center;vertical-align:middle; margin: 0.5em;border:1px #90999f solid;border-collapse:collapse'><img style='max-width: 100px; max-height:100px;display:inline' src=\"data:image/png;base64,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\"></td><td style='text-align:center;vertical-align:middle; margin: 0.5em;border:1px #90999f solid;border-collapse:collapse'><img style='max-width: 100px; max-height:100px;display:inline' src=\"data:image/png;base64,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\"></td><td style='text-align:center;vertical-align:middle; margin: 0.5em;border:1px #90999f solid;border-collapse:collapse'><img style='max-width: 100px; max-height:100px;display:inline' src=\"data:image/png;base64,iVBORw0KGgoAAAANSUhEUgAAAIAAAACACAIAAABMXPacAAAABGdBTUEAALGPC/xhBQAAACBjSFJNAAB6JgAAgIQAAPoAAACA6AAAdTAAAOpgAAA6mAAAF3CculE8AAAABmJLR0QA/wD/AP+gvaeTAAAMH0lEQVR42u1dS48dRxXuR/V9zutmHraJHT9jFBIMEQQMwsRSlA1BAiQ2iF02LPhtiAULdiAsFiggTIgsCBGJPWN7zIzHcz137ru7ihX1fRV1aa4F6MzifKvv9lRX171n+pyqc06dSs/8/BfJf5CnKXieE888TzPiCdoz0ow/JLXt0+BWfHDB5fr+Y01i/aeRfpyr79PRKJx1J7YPv2OEO0t9lp5niUIUKgBhqACEYfLc+A95Vm8DMtL7zBmsZ9OIIgzb1DdykT5jWETXL2YDWNeD24x4pD3T4DvyGMgG8B/0DRCGCkAYKgBhmCyr18tpRO/H9Hia1k+G+XJgP6J6OT2pSRQLzf25/ec+nfyAaEd0OY005+9F9vXFvqLifw0VgDBUAMIwwRyf9Ga2gK6Pz+td5Do3ienfet9LfE2wgK/mv0DKNpKn/pHhpPSHYDzhAsdTfQOEoQIQhgpAGCbLMCcN58XAIvP9F4WLKOyYL8hFFXykH7eAHYohWE/wGqje/xP8DhbtY7GElD7oGyAMFYAwVADCMEkkNsvzX/bPJJb8GPkc7YM5MmIMVWpr26TJyfrURdYKL6rSuR8XDOLk+EHgy4o4uYJx8viJV/wTJtynQhQqAGGoAIRhIi6KcHZtkMdiDfR7MoM9sHnl+dyAG8t+D5r/vmB8NVnAd7/IusEGn2g8QSwELcIUp4ifJ2K3LNmbKrAN6gs6NVABCEMFIAzDHwK9SdwMn3qeTQ/RZumap8NWC22Sqedp+IgTEY8xnIyY/ye0Buz7qrv6uR8lNoZA7xOn+IpzNjkJ+gYIQwUgDBWAMEwsJ5J1n330GG3u/srz5ldve9699o7nWdLwfGbqfUGMxeLMQEzXR3NDI9qe3F2JocHlsRhDZL7Pj7WLxKWpjb4BwlABCEMFIAzjbH3yiuV1QHfZ82qw43nj7i89b61f9ny4ccXzLDYXTut964tgIb0fuZ5ZxDDyII+z/n8xI9sQ80wF833K+4zlqnIsRN8AYagAhKECEIZhRcX5KjzPLTfP4YYvfsnzN6tHnn96/9eeD7s/8Dxrv+y5TRAn4L24rH/j1uDkNUGsPefzNE3E5lF7S3o88O/P57XXGZZj6fS9cnY2OcrHTRSiUAEIQwUgDMN1IGLxWJu3PV++8h3PzxUfeD74ELx/t+v5/K0fghereDCtP2YUQw7ipY4VZ0Wc9S+89/zflPE6htp3Z4hnHB0izmGW1z1vNDv4vgWe29tc8rxJbfi3Ohqj/cHxDNenFDPP1AacGqgAhKECEEawRyyak0N80rvq+cHxR54XboxO7/3Wc3v2kueza2/jUSWtA2z9s9KkoMvQ9WkGfWorisGWE3CLuHRmR563n/7Z8/MF5vVXLpJtOwd7cH4Vz91c73ke2gDYqv4Qev9vj/ue3/n7vzz/5Ajj1zdAGCoAYagAhGF4D1Ton4EubpTgs+6a5/e2EScoEDZO3OiZ59mHd/CwzUvoh2IGjTk/F7wg3Z1Mhri3v+95e/LE8+U2/PIXL2CcX75+HrwHO3T1LHT96jmMrdOh+X4GGzCdIEd2eIyxZeToebXX9PxyD7Hx6RGtP6b4LvoGCEMFIAwVgDBMkBxD83EXJLtAx81zzM33Vt/wvJj+Du0zzME7D/+Ch/1x0/P8xrvgswHuPdjzdHz4seddizbXt1Y8/+bN657f+vZ3Pb92GddXl1/CONvQ7/MSOn08wZpgMICO3ptgffP8OcYwGqIN76e7cBH5srwB7+sX4AfrroDrGyAMFYAwVADCCGxAkBtDJmDaoDuoFkKydQmXz74C/hlixY52ZWUf/x7d7/7D87LEnHqzjXXA29941fObt295/rWbtz0/+8prnrdaWJckDraqnGMMwwn8MJ/tYPGyt7vr+WwO25DS+F2F66zHN9Zh2wYwJUk5xb2mhRiJPTzCb5IoRKECEIYKQBgmLIZQn3PJ9ZM5raaYQpfZJnTrRu8MusygBwd9+G3WyJ/z+puYs7/7kx97/q3b3/O8dwZxiCSFLz6xpOspHjuc9j1/RmuLyRgxg4Mj8JxyRtd78Pubxgrdi/VNQvGA/gz74wbHWB/0j7GG2H4G/tdd9QWdGqgAhKECEIbJg5hwfS68oTNPeJ9U9uSfuD479vzMdejrcR9z/NH4uee33vuK5z99/2eeX71x2/PKQs9O5vRgqkvhKuju0QTx2P1n8L/ff/DQ8/4h+eXn8HE1DPpfc1hPjMivdTzF73A4QczjOeX8HNPcfzACP5qBj2k7gb4BwlABCEMFIAyTkw5NSdcbzhm10HEV+UaaL8P3PTPf9/zeAfaRlTn8LW+9hzn+O+//yPP2xdc93znAGFrJAcZAa5T9AdYfT/ehix89Rvv9A9ibZ5juJ8cTfDiuaD/XEub+46fI4dnpw64UHdorR/+7VVBrj8/ewRolPKtH84JODVQAwlABCMNwcQOu5WB4fZAjIJBRrYVJ8wLuXcY+ssYFzJ1b5JMZb0IP/mYb/vGtfcQPNhuwAYVDP6Mj6PSnT5HX32wjD6dJ8WpX4d7tA6xFBga6Pu3Apz/PoN8HVAuvJL1fpsFGL/ST8l4w2t+QMadbrZ4hc2qgAhCGCkAYptnC/q+U5vuc65Jx/WeSmeV9sAb6t9mAf7zRRf9lBT2+vYO59nPaW3C/gr7eG9L6g+ox9Dp47htbZz2/8RriCp8+wFrkzi7yiyZrsFuVwTgr2mtmm3SWsuVaF/U19RhB7dXYeZmRuqQKAagAhKECEIZpBMWR63VWRvNcrq3WoPqgTQs93p7Bf7KSgZ9pQL9f6UHndmnu/NFDrAP2LfI4k1Xo+nGKZzX65IfZ6Xu+u4c2w9aG57aFuT/X9uFa1rzHOOU/8BlhEXsQnMGZMq8/j0zfAGGoAIShAhCGWeb4Kk9taR1gKAaQJ9DRTQf9Pu3DnzMaIe+lswpfyoyU31LvC56fW1/z/IPtP6HPnNYTK/A1jeawJQ/GyNl/8gniBHkK/1VnA/sDqrz+3LTgzHfOB3WBkTzxB7WBbaDfjc8j45/5xB4V/1eoAIShAhCGWS2oNhz7PdL6/WI2gf996sDd2iV0+hL07Ih07pMSOvoP27ATS0/ADxx8R60l5GXmpE9TA/1uszXPx1RbokGxhGZQ0z9yyG/OebGcK8UxgKz+Xq43R3WNeFmVU6w41qNCACoAYagAhGFWWtDjFdkAG7g66Dws0mCW6ig4iiuER4RxLVLM6/dLrCEOqR6n2VjzfDVDn5ZyaXL2uZNudaS7CzrDIAv8OfVnvHD8I/SJkcYOzouPxAaCfpL6PtUXdHqgAhCGCkAYZpnO/+K9AobOjAzO5CLjUJIO5Zgtnz1QVVyfmeu+Ua2hgmp/kr9oTvt157RHt0Hx56UW6fpIvX5HynjmqN5cZE1gg7PgI+dH8p2R84pD25lQ/+D6BghDBSAMFYAwzFYH6wBLeUGc48hz5EC/k06sHLehJzjOI+L25HOnGAP7XgquxU91QznnMmf9Sw/mcTJ3kRrUaRD3Rgu2K1xjlWO/Qd09+l4l76ugL89lUvUNEIYKQBgqAGGYrWXYgDn5ZBh8dUb1gkrSuSZ6zjv5Ukhvsv2Yz6ErS1KWfCvHVC1Zk2kKnxLvYQ7rYIN3+fzIvN6u8HWT1ef7B3N/toVkYsqKbQ/bMz0/4NRABSAMFYAwzEoXvpSqJB1NymxItf55Mm8c++JxPVDFfKvj+Tuu503221CNOT7/i/YtNwzHV2nMlu8lnU6+poLWN4b6ifnreW3kIuesBXB4VhX8bPW+KX0DhKECEIYKQBjBdmCX1U+e27wnIEiXr4+jciyBFWEwL04jfhVSwIbGs9SGrVrpIFbM45lOkQtkyR6EZ6LR+CPnJ7P94zGzzyejtYKL3FvZer9ZWWmtiFMDFYAwVADCMDzX5hSYghwxnYL2A3MZIfZrUw6o4VwdWjdUrt43wjqa91UVZAN4/l6Qd8pSIdM8JUdM4ICnfpL6PNEg07Og8xLS+hiyyetjyJxfy2W2ORYy4/VKohCFCkAYKgBhmFZRnwufB2c6xuoicNw4KIiDLlOe19c77IMYbx65znFprmPK+tTVr2PYT+VoQs6+o+DWhGMDFIfg+Tvv/+JxmvozGKrAKaa+oFMDFYAwVADC+De49EpWlZkZqwAAAABJRU5ErkJg\"></td><td style='text-align:center;vertical-align:middle; margin: 0.5em;border:1px #90999f solid;border-collapse:collapse'><img style='max-width: 100px; max-height:100px;display:inline' src=\"data:image/png;base64,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\"></td><td style='text-align:center;vertical-align:middle; margin: 0.5em;border:1px #90999f solid;border-collapse:collapse'><img style='max-width: 100px; max-height:100px;display:inline' src=\"data:image/png;base64,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\"></td><td style='text-align:center;vertical-align:middle; margin: 0.5em;border:1px #90999f solid;border-collapse:collapse'><img style='max-width: 100px; max-height:100px;display:inline' src=\"data:image/png;base64,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\"></td><td style='text-align:center;vertical-align:middle; margin: 0.5em;border:1px #90999f solid;border-collapse:collapse'><img style='max-width: 100px; max-height:100px;display:inline' src=\"data:image/png;base64,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\"></td><td style='text-align:center;vertical-align:middle; margin: 0.5em;border:1px #90999f solid;border-collapse:collapse'><img style='max-width: 100px; max-height:100px;display:inline' src=\"data:image/png;base64,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\"></td><td style='text-align:center;vertical-align:middle; margin: 0.5em;border:1px #90999f solid;border-collapse:collapse'><img style='max-width: 100px; max-height:100px;display:inline' src=\"data:image/png;base64,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\"></td></tr></tbody></table><div><small>(a vector displayed as a row to save space)</small></div>"
      ],
      "text/plain": [
       "10-element Array{Array{RGB{Normed{UInt8,8}},2},1}:\n",
       " [RGB{N0f8}(0.122,0.125,0.149) RGB{N0f8}(0.149,0.149,0.173) … RGB{N0f8}(0.173,0.173,0.22) RGB{N0f8}(0.165,0.165,0.212); RGB{N0f8}(0.133,0.133,0.169) RGB{N0f8}(0.165,0.165,0.2) … RGB{N0f8}(0.2,0.2,0.247) RGB{N0f8}(0.161,0.161,0.208); … ; RGB{N0f8}(0.22,0.212,0.243) RGB{N0f8}(0.208,0.2,0.224) … RGB{N0f8}(0.286,0.153,0.141) RGB{N0f8}(0.259,0.173,0.184); RGB{N0f8}(0.22,0.216,0.243) RGB{N0f8}(0.204,0.184,0.208) … RGB{N0f8}(0.329,0.145,0.153) RGB{N0f8}(0.286,0.165,0.176)]\n",
       " [RGB{N0f8}(0.353,0.204,0.129) RGB{N0f8}(0.443,0.329,0.247) … RGB{N0f8}(0.365,0.271,0.204) RGB{N0f8}(0.345,0.247,0.196); RGB{N0f8}(0.251,0.09,0.039) RGB{N0f8}(0.369,0.259,0.169) … RGB{N0f8}(0.38,0.282,0.208) RGB{N0f8}(0.427,0.329,0.255); … ; RGB{N0f8}(0.122,0.008,0.0) RGB{N0f8}(0.086,0.004,0.016) … RGB{N0f8}(0.231,0.035,0.024) RGB{N0f8}(0.271,0.067,0.051); RGB{N0f8}(0.165,0.024,0.004) RGB{N0f8}(0.098,0.008,0.02) … RGB{N0f8}(0.243,0.063,0.035) RGB{N0f8}(0.29,0.098,0.078)]\n",
       " [RGB{N0f8}(0.733,0.663,0.604) RGB{N0f8}(0.529,0.443,0.384) … RGB{N0f8}(0.475,0.447,0.522) RGB{N0f8}(0.345,0.357,0.447); RGB{N0f8}(0.765,0.686,0.612) RGB{N0f8}(0.596,0.506,0.439) … RGB{N0f8}(0.471,0.435,0.467) RGB{N0f8}(0.384,0.373,0.42); … ; RGB{N0f8}(0.306,0.255,0.318) RGB{N0f8}(0.235,0.196,0.239) … RGB{N0f8}(0.09,0.082,0.082) RGB{N0f8}(0.09,0.086,0.09); RGB{N0f8}(0.31,0.259,0.314) RGB{N0f8}(0.251,0.212,0.251) … RGB{N0f8}(0.098,0.09,0.09) RGB{N0f8}(0.086,0.082,0.09)]\n",
       " [RGB{N0f8}(0.09,0.42,0.678) RGB{N0f8}(0.102,0.424,0.682) … RGB{N0f8}(0.153,0.471,0.718) RGB{N0f8}(0.149,0.463,0.702); RGB{N0f8}(0.102,0.431,0.694) RGB{N0f8}(0.114,0.439,0.698) … RGB{N0f8}(0.157,0.482,0.733) RGB{N0f8}(0.153,0.475,0.718); … ; RGB{N0f8}(0.675,0.765,0.886) RGB{N0f8}(0.667,0.757,0.871) … RGB{N0f8}(0.682,0.769,0.878) RGB{N0f8}(0.659,0.749,0.867); RGB{N0f8}(0.706,0.784,0.894) RGB{N0f8}(0.706,0.78,0.882) … RGB{N0f8}(0.714,0.788,0.882) RGB{N0f8}(0.682,0.761,0.871)]\n",
       " [RGB{N0f8}(0.239,0.231,0.141) RGB{N0f8}(0.314,0.302,0.22) … RGB{N0f8}(0.227,0.278,0.137) RGB{N0f8}(0.216,0.259,0.125); RGB{N0f8}(0.282,0.263,0.176) RGB{N0f8}(0.302,0.275,0.196) … RGB{N0f8}(0.212,0.271,0.114) RGB{N0f8}(0.18,0.231,0.082); … ; RGB{N0f8}(0.11,0.192,0.067) RGB{N0f8}(0.149,0.255,0.082) … RGB{N0f8}(0.286,0.263,0.137) RGB{N0f8}(0.286,0.243,0.129); RGB{N0f8}(0.157,0.255,0.067) RGB{N0f8}(0.176,0.29,0.09) … RGB{N0f8}(0.282,0.275,0.149) RGB{N0f8}(0.282,0.259,0.145)]\n",
       " [RGB{N0f8}(0.282,0.345,0.275) RGB{N0f8}(0.188,0.278,0.18) … RGB{N0f8}(0.153,0.267,0.192) RGB{N0f8}(0.145,0.271,0.204); RGB{N0f8}(0.294,0.361,0.29) RGB{N0f8}(0.231,0.329,0.227) … RGB{N0f8}(0.212,0.333,0.247) RGB{N0f8}(0.184,0.322,0.243); … ; RGB{N0f8}(0.329,0.408,0.329) RGB{N0f8}(0.345,0.38,0.31) … RGB{N0f8}(0.408,0.42,0.322) RGB{N0f8}(0.416,0.412,0.329); RGB{N0f8}(0.588,0.631,0.584) RGB{N0f8}(0.6,0.608,0.569) … RGB{N0f8}(0.427,0.42,0.329) RGB{N0f8}(0.412,0.412,0.325)]\n",
       " [RGB{N0f8}(0.969,0.969,0.969) RGB{N0f8}(0.925,0.925,0.925) … RGB{N0f8}(0.988,0.988,0.988) RGB{N0f8}(1.0,1.0,1.0); RGB{N0f8}(0.961,0.961,0.961) RGB{N0f8}(0.973,0.973,0.973) … RGB{N0f8}(1.0,1.0,1.0) RGB{N0f8}(1.0,1.0,1.0); … ; RGB{N0f8}(1.0,1.0,1.0) RGB{N0f8}(1.0,1.0,1.0) … RGB{N0f8}(0.984,0.984,0.984) RGB{N0f8}(0.957,0.957,0.957); RGB{N0f8}(1.0,1.0,1.0) RGB{N0f8}(1.0,1.0,1.0) … RGB{N0f8}(0.953,0.953,0.953) RGB{N0f8}(0.957,0.957,0.957)]\n",
       " [RGB{N0f8}(0.314,0.361,0.478) RGB{N0f8}(0.31,0.353,0.494) … RGB{N0f8}(0.49,0.506,0.616) RGB{N0f8}(0.576,0.576,0.639); RGB{N0f8}(0.271,0.325,0.463) RGB{N0f8}(0.278,0.329,0.494) … RGB{N0f8}(0.486,0.506,0.616) RGB{N0f8}(0.486,0.486,0.549); … ; RGB{N0f8}(0.122,0.157,0.239) RGB{N0f8}(0.145,0.18,0.263) … RGB{N0f8}(0.176,0.216,0.302) RGB{N0f8}(0.353,0.392,0.424); RGB{N0f8}(0.38,0.4,0.447) RGB{N0f8}(0.333,0.349,0.396) … RGB{N0f8}(0.294,0.325,0.357) RGB{N0f8}(0.451,0.482,0.478)]\n",
       " [RGB{N0f8}(0.765,0.769,0.745) RGB{N0f8}(0.698,0.714,0.694) … RGB{N0f8}(0.22,0.286,0.353) RGB{N0f8}(0.149,0.196,0.255); RGB{N0f8}(0.812,0.827,0.82) RGB{N0f8}(0.69,0.694,0.686) … RGB{N0f8}(0.208,0.271,0.337) RGB{N0f8}(0.129,0.169,0.224); … ; RGB{N0f8}(0.58,0.651,0.745) RGB{N0f8}(0.573,0.643,0.737) … RGB{N0f8}(0.459,0.545,0.616) RGB{N0f8}(0.439,0.522,0.592); RGB{N0f8}(0.569,0.635,0.725) RGB{N0f8}(0.569,0.631,0.722) … RGB{N0f8}(0.451,0.51,0.58) RGB{N0f8}(0.455,0.525,0.596)]\n",
       " [RGB{N0f8}(0.824,0.851,0.898) RGB{N0f8}(0.851,0.875,0.918) … RGB{N0f8}(0.929,0.929,0.929) RGB{N0f8}(0.467,0.467,0.467); RGB{N0f8}(0.847,0.871,0.918) RGB{N0f8}(0.878,0.902,0.945) … RGB{N0f8}(0.914,0.914,0.914) RGB{N0f8}(0.557,0.557,0.557); … ; RGB{N0f8}(0.302,0.298,0.29) RGB{N0f8}(0.314,0.31,0.302) … RGB{N0f8}(0.353,0.333,0.314) RGB{N0f8}(0.341,0.322,0.306); RGB{N0f8}(0.282,0.278,0.271) RGB{N0f8}(0.298,0.294,0.286) … RGB{N0f8}(0.337,0.318,0.294) RGB{N0f8}(0.329,0.31,0.286)]"
      ]
     },
     "execution_count": 195,
     "metadata": {},
     "output_type": "execute_result"
    }
   ],
   "source": [
    "image.(X[rand(1:end, 10)])"
   ]
  },
  {
   "cell_type": "markdown",
   "metadata": {},
   "source": [
    "The images are simply 32 X 32 matrices of numbers in 3 channels (R,G,B). We can now\n",
    "arrange them in batches of say, 1000 and keep a validation set to track our progress.\n",
    "This process is called minibatch learning, which is a popular method of training\n",
    "large neural networks. Rather that sending the entire dataset at once, we break it\n",
    "down into smaller chunks (called minibatches) that are typically chosen at random,\n",
    "and train only on them. It is shown to help with escaping\n",
    "[saddle points](https://en.wikipedia.org/wiki/Saddle_point)."
   ]
  },
  {
   "cell_type": "markdown",
   "metadata": {},
   "source": [
    "Defining a `getarray` function would help in converting the matrices to `Float` type."
   ]
  },
  {
   "cell_type": "code",
   "execution_count": 196,
   "metadata": {},
   "outputs": [
    {
     "data": {
      "text/plain": [
       "50000-element Array{Array{Float32,3},1}:\n",
       " [0.23137255 0.16862746 … 0.59607846 0.5803922; 0.0627451 0.0 … 0.46666667 0.47843137; … ; 0.7058824 0.6784314 … 0.38039216 0.3254902; 0.69411767 0.65882355 … 0.5921569 0.48235294]\n",
       "\n",
       "[0.24313726 0.18039216 … 0.49019608 0.4862745; 0.078431375 0.0 … 0.3254902 0.34117648; … ; 0.54509807 0.48235294 … 0.24313726 0.20784314; 0.5647059 0.5058824 … 0.4627451 0.36078432]\n",
       "\n",
       "[0.24705882 0.1764706 … 0.4 0.40392157; 0.078431375 0.0 … 0.19607843 0.22352941; … ; 0.3764706 0.16470589 … 0.13333334 0.13333334; 0.45490196 0.36862746 … 0.32941177 0.28235295]\n",
       " [0.6039216 0.49411765 … 0.34117648 0.30980393; 0.54901963 0.5686275 … 0.3019608 0.2784314; … ; 0.64705884 0.6117647 … 0.48235294 0.5137255; 0.6392157 0.61960787 … 0.56078434 0.56078434]\n",
       "\n",
       "[0.69411767 0.5372549 … 0.3529412 0.31764707; 0.627451 0.6 … 0.3137255 0.28627452; … ; 0.6039216 0.59607846 … 0.44705883 0.4745098; 0.5803922 0.5803922 … 0.5254902 0.52156866]\n",
       "\n",
       "[0.73333335 0.53333336 … 0.2784314 0.27450982; 0.6627451 0.6039216 … 0.24313726 0.23921569; … ; 0.5019608 0.50980395 … 0.47058824 0.5137255; 0.47058824 0.47843137 … 0.5568628 0.5647059]\n",
       " [1.0 0.99215686 … 0.99215686 0.99215686; 1.0 1.0 … 1.0 1.0; … ; 0.43529412 0.40784314 … 0.27450982 0.30588236; 0.41568628 0.3882353 … 0.30980393 0.3137255]\n",
       "\n",
       "[1.0 0.99215686 … 0.99215686 0.99215686; 1.0 1.0 … 1.0 1.0; … ; 0.4627451 0.43529412 … 0.29803923 0.32941177; 0.44313726 0.41568628 … 0.33333334 0.3372549]\n",
       "\n",
       "[1.0 0.99215686 … 0.99215686 0.99215686; 1.0 1.0 … 1.0 1.0; … ; 0.43137255 0.40784314 … 0.29411766 0.32156864; 0.4117647 0.38431373 … 0.3254902 0.32941177]\n",
       " [0.10980392 0.14509805 … 0.31764707 0.33333334; 0.12941177 0.13333334 … 0.3764706 0.33333334; … ; 0.34509805 0.3529412 … 0.29803923 0.32156864; 0.38039216 0.36862746 … 0.24705882 0.28235295]\n",
       "\n",
       "[0.09803922 0.13333334 … 0.28235295 0.29803923; 0.10980392 0.11764706 … 0.32156864 0.28235295; … ; 0.28235295 0.2901961 … 0.27450982 0.29803923; 0.30588236 0.29411766 … 0.21960784 0.25490198]\n",
       "\n",
       "[0.039215688 0.07450981 … 0.16862746 0.18431373; 0.050980393 0.05490196 … 0.21960784 0.1764706; … ; 0.2 0.20392157 … 0.19215687 0.21568628; 0.21960784 0.20784314 … 0.14509805 0.18039216]\n",
       " [0.6666667 0.65882355 … 0.61960787 0.6156863; 0.65882355 0.6745098 … 0.6117647 0.6039216; … ; 0.26666668 0.27058825 … 0.2784314 0.2784314; 0.2627451 0.26666668 … 0.2784314 0.28627452]\n",
       "\n",
       "[0.7058824 0.69803923 … 0.69803923 0.69411767; 0.70980394 0.7254902 … 0.6901961 0.68235296; … ; 0.29803923 0.3019608 … 0.29411766 0.29411766; 0.29411766 0.29803923 … 0.29411766 0.3019608]\n",
       "\n",
       "[0.7764706 0.76862746 … 0.8392157 0.83137256; 0.7764706 0.7882353 … 0.827451 0.81960785; … ; 0.3019608 0.30588236 … 0.30588236 0.30588236; 0.30588236 0.30980393 … 0.30588236 0.3137255]\n",
       " [0.62352943 0.5882353 … 0.2901961 0.29803923; 0.5568628 0.57254905 … 0.47843137 0.3372549; … ; 0.9647059 0.9529412 … 0.69803923 0.7529412; 0.9647059 0.9529412 … 0.6784314 0.7137255]\n",
       "\n",
       "[0.4 0.35686275 … 0.24705882 0.22745098; 0.29411766 0.28235295 … 0.43529412 0.27058825; … ; 0.52156866 0.5019608 … 0.21960784 0.25490198; 0.54509807 0.52156866 … 0.2 0.22352941]\n",
       "\n",
       "[0.39607844 0.37254903 … 0.21568628 0.21568628; 0.26666668 0.25882354 … 0.3647059 0.23921569; … ; 0.2901961 0.28235295 … 0.08627451 0.105882354; 0.32156864 0.30588236 … 0.06666667 0.07450981]\n",
       " [0.6431373 0.4117647 … 0.42352942 0.35686275; 0.654902 0.45490196 … 0.4117647 0.34901962; … ; 0.6392157 0.6 … 0.38431373 0.49803922; 0.7176471 0.6901961 … 0.35686275 0.47843137]\n",
       "\n",
       "[0.80784315 0.54901963 … 0.5764706 0.5058824; 0.8352941 0.627451 … 0.5568628 0.49803922; … ; 0.6156863 0.6431373 … 0.5803922 0.69803923; 0.6 0.7137255 … 0.52156866 0.6666667]\n",
       "\n",
       "[0.32941177 0.23921569 … 0.27058825 0.22352941; 0.32941177 0.19215687 … 0.28235295 0.22352941; … ; 0.33333334 0.32156864 … 0.105882354 0.1882353; 0.4 0.45490196 … 0.101960786 0.17254902]\n",
       " [0.10980392 0.11764706 … 0.20392157 0.18039216; 0.105882354 0.105882354 … 0.45882353 0.4509804; … ; 0.54901963 0.5686275 … 0.50980395 0.47843137; 0.5254902 0.53333336 … 0.40784314 0.39607844]\n",
       "\n",
       "[0.13725491 0.13333334 … 0.2509804 0.22745098; 0.11764706 0.10980392 … 0.54901963 0.5411765; … ; 0.6901961 0.7058824 … 0.6666667 0.63529414; 0.67058825 0.67058825 … 0.5568628 0.54901963]\n",
       "\n",
       "[0.15294118 0.17254902 … 0.20784314 0.18431373; 0.14901961 0.16078432 … 0.39607844 0.39215687; … ; 0.4862745 0.5058824 … 0.46666667 0.43529412; 0.48235294 0.4862745 … 0.3882353 0.3764706]\n",
       " [0.5254902 0.5137255 … 0.49803922 0.5019608; 0.52156866 0.5058824 … 0.49803922 0.5019608; … ; 0.7607843 0.7411765 … 0.11764706 0.11764706; 0.75686276 0.70980394 … 0.1254902 0.1254902]\n",
       "\n",
       "[0.7294118 0.72156864 … 0.70980394 0.7137255; 0.7411765 0.7294118 … 0.7176471 0.72156864; … ; 0.8666667 0.84313726 … 0.3764706 0.37254903; 0.8509804 0.8156863 … 0.36862746 0.36862746]\n",
       "\n",
       "[0.8745098 0.8627451 … 0.87058824 0.8745098; 0.89411765 0.8784314 … 0.8784314 0.88235295; … ; 0.95686275 0.9372549 … 0.54509807 0.54901963; 0.92941177 0.9019608 … 0.5372549 0.5411765]\n",
       " [0.49019608 0.43137255 … 0.78431374 0.7921569; 0.5568628 0.57254905 … 0.7764706 0.8; … ; 0.40784314 0.4117647 … 0.5372549 0.5372549; 0.4117647 0.42352942 … 0.56078434 0.5647059]\n",
       "\n",
       "[0.49019608 0.39607844 … 0.8039216 0.8156863; 0.57254905 0.5647059 … 0.8039216 0.827451; … ; 0.31764707 0.32941177 … 0.44313726 0.4392157; 0.3254902 0.34117648 … 0.45490196 0.45490196]\n",
       "\n",
       "[0.45490196 0.35686275 … 0.83137256 0.8392157; 0.5568628 0.54509807 … 0.81960785 0.84313726; … ; 0.15686275 0.16078432 … 0.3137255 0.31764707; 0.16470589 0.1764706 … 0.32941177 0.3372549]\n",
       " [0.20784314 0.21176471 … 0.16078432 0.09411765; 0.18039216 0.20784314 … 0.15294118 0.10980392; … ; 0.29411766 0.30980393 … 0.2509804 0.1882353; 0.33333334 0.33333334 … 0.2509804 0.19215687]\n",
       "\n",
       "[0.25490198 0.24705882 … 0.1764706 0.10980392; 0.23137255 0.24313726 … 0.16862746 0.1254902; … ; 0.32156864 0.33333334 … 0.2627451 0.19607843; 0.3254902 0.32941177 … 0.2627451 0.19607843]\n",
       "\n",
       "[0.20784314 0.20392157 … 0.17254902 0.105882354; 0.16078432 0.1764706 … 0.16470589 0.12156863; … ; 0.2627451 0.27058825 … 0.1882353 0.16078432; 0.2784314 0.2784314 … 0.18039216 0.16078432]\n",
       " [0.5568628 0.6745098 … 0.7764706 0.8039216; 0.7490196 0.76862746 … 0.87058824 0.8509804; … ; 0.76862746 0.7490196 … 0.78039217 0.7882353; 0.7294118 0.7137255 … 0.61960787 0.6392157]\n",
       "\n",
       "[0.58431375 0.6745098 … 0.7607843 0.7921569; 0.74509805 0.7529412 … 0.84313726 0.8235294; … ; 0.6156863 0.59607846 … 0.64705884 0.6313726; 0.5882353 0.5764706 … 0.49019608 0.49019608]\n",
       "\n",
       "[0.59607846 0.654902 … 0.75686276 0.78431374; 0.7529412 0.74509805 … 0.8352941 0.8117647; … ; 0.54509807 0.5294118 … 0.5686275 0.57254905; 0.52156866 0.50980395 … 0.41568628 0.43529412]\n",
       " [0.6431373 0.63529414 … 0.6 0.6; 0.65882355 0.6509804 … 0.627451 0.61960787; … ; 0.47058824 0.45490196 … 0.47058824 0.47058824; 0.4745098 0.47058824 … 0.4862745 0.47058824]\n",
       "\n",
       "[0.84313726 0.83137256 … 0.8156863 0.79607844; 0.85490197 0.84313726 … 0.81960785 0.8039216; … ; 0.6117647 0.5921569 … 0.5647059 0.59607846; 0.6039216 0.59607846 … 0.6039216 0.6039216]\n",
       "\n",
       "[0.95686275 0.9411765 … 0.92156863 0.91764706; 0.9607843 0.9490196 … 0.9254902 0.92156863; … ; 0.39215687 0.3882353 … 0.40392157 0.39607844; 0.3764706 0.3882353 … 0.41960785 0.39215687]\n",
       " ⋮\n",
       " [0.6313726 0.6745098 … 0.61960787 0.6039216; 0.5803922 0.5764706 … 0.56078434 0.56078434; … ; 0.5764706 0.60784316 … 0.46666667 0.4745098; 0.56078434 0.59607846 … 0.4745098 0.47843137]\n",
       "\n",
       "[0.6509804 0.69411767 … 0.654902 0.6392157; 0.6 0.59607846 … 0.59607846 0.59607846; … ; 0.40392157 0.43137255 … 0.4 0.40784314; 0.3882353 0.41960785 … 0.4 0.4]\n",
       "\n",
       "[0.62352943 0.6666667 … 0.5882353 0.57254905; 0.57254905 0.5686275 … 0.5294118 0.5294118; … ; 0.27058825 0.28627452 … 0.3137255 0.3254902; 0.2627451 0.28235295 … 0.30588236 0.30588236]\n",
       " [0.98039216 0.9647059 … 0.96862745 0.9764706; 1.0 0.9843137 … 0.98039216 0.9882353; … ; 1.0 0.9843137 … 0.9882353 0.9882353; 1.0 0.9843137 … 0.9882353 0.9882353]\n",
       "\n",
       "[0.9882353 0.972549 … 0.972549 0.98039216; 1.0 0.99215686 … 1.0 1.0; … ; 1.0 0.99215686 … 0.99607843 0.99607843; 1.0 0.99215686 … 0.99607843 0.99607843]\n",
       "\n",
       "[0.9764706 0.9607843 … 0.9647059 0.972549; 0.99607843 0.98039216 … 0.9843137 0.9843137; … ; 0.99607843 0.98039216 … 0.9843137 0.9843137; 0.99607843 0.98039216 … 0.9843137 0.9843137]\n",
       " [0.8862745 0.8862745 … 0.6862745 0.6784314; 0.87058824 0.8784314 … 0.6784314 0.6784314; … ; 0.94509804 0.9411765 … 0.56078434 0.56078434; 0.9254902 0.92156863 … 0.54509807 0.5372549]\n",
       "\n",
       "[0.8980392 0.8980392 … 0.6901961 0.68235296; 0.87058824 0.8901961 … 0.68235296 0.68235296; … ; 0.94509804 0.94509804 … 0.4627451 0.46666667; 0.92156863 0.92156863 … 0.4509804 0.44705883]\n",
       "\n",
       "[0.92156863 0.92941177 … 0.7058824 0.69803923; 0.8862745 0.9098039 … 0.69803923 0.69803923; … ; 0.98039216 0.972549 … 0.3764706 0.3882353; 0.9607843 0.9490196 … 0.37254903 0.37254903]\n",
       " [0.7372549 0.7294118 … 0.7176471 0.7254902; 0.7254902 0.72156864 … 0.7176471 0.72156864; … ; 0.74509805 0.7176471 … 0.68235296 0.6784314; 0.7372549 0.7176471 … 0.61960787 0.60784316]\n",
       "\n",
       "[0.7647059 0.75686276 … 0.75686276 0.7607843; 0.7529412 0.7490196 … 0.7529412 0.75686276; … ; 0.7647059 0.7294118 … 0.7176471 0.7137255; 0.75686276 0.73333335 … 0.6509804 0.64705884]\n",
       "\n",
       "[0.7882353 0.78431374 … 0.7764706 0.78039217; 0.7764706 0.77254903 … 0.77254903 0.7764706; … ; 0.7882353 0.7490196 … 0.7372549 0.7372549; 0.78039217 0.7490196 … 0.67058825 0.6666667]\n",
       " [0.60784316 0.6039216 … 0.6039216 0.6039216; 0.6039216 0.6 … 0.59607846 0.6; … ; 0.43137255 0.43137255 … 0.5137255 0.52156866; 0.5137255 0.50980395 … 0.5294118 0.5294118]\n",
       "\n",
       "[0.60784316 0.6039216 … 0.6117647 0.6117647; 0.6039216 0.6 … 0.6039216 0.60784316; … ; 0.3764706 0.3764706 … 0.4627451 0.46666667; 0.4392157 0.4392157 … 0.4627451 0.4627451]\n",
       "\n",
       "[0.60784316 0.6039216 … 0.60784316 0.60784316; 0.6039216 0.6 … 0.6 0.6039216; … ; 0.24313726 0.24705882 … 0.28235295 0.28627452; 0.25882354 0.25882354 … 0.28235295 0.28235295]\n",
       " [0.8862745 0.88235295 … 0.4745098 0.7019608; 0.88235295 0.8862745 … 0.39215687 0.52156866; … ; 0.2784314 0.15686275 … 0.36862746 0.35686275; 0.2627451 0.2 … 0.37254903 0.3647059]\n",
       "\n",
       "[0.8392157 0.83137256 … 0.5372549 0.7411765; 0.74509805 0.7490196 … 0.47058824 0.58431375; … ; 0.44313726 0.23137255 … 0.48235294 0.4862745; 0.43137255 0.33333334 … 0.49411765 0.49411765]\n",
       "\n",
       "[0.69411767 0.69411767 … 0.39607844 0.6745098; 0.5803922 0.5803922 … 0.3254902 0.47058824; … ; 0.4392157 0.23921569 … 0.45490196 0.45882353; 0.42745098 0.33333334 … 0.47843137 0.46666667]\n",
       " [0.6117647 0.60784316 … 0.6117647 0.60784316; 0.61960787 0.6156863 … 0.6156863 0.6156863; … ; 0.627451 0.62352943 … 0.6117647 0.60784316; 0.61960787 0.6156863 … 0.59607846 0.59607846]\n",
       "\n",
       "[0.62352943 0.61960787 … 0.6313726 0.627451; 0.6313726 0.627451 … 0.63529414 0.63529414; … ; 0.64705884 0.6431373 … 0.6431373 0.6392157; 0.6392157 0.63529414 … 0.627451 0.627451]\n",
       "\n",
       "[0.6431373 0.6392157 … 0.6431373 0.6392157; 0.6509804 0.64705884 … 0.64705884 0.64705884; … ; 0.65882355 0.654902 … 0.6509804 0.64705884; 0.6509804 0.64705884 … 0.63529414 0.63529414]\n",
       " [0.5686275 0.5921569 … 0.57254905 0.5568628; 0.6 0.6117647 … 0.53333336 0.5058824; … ; 0.18431373 0.18039216 … 0.16078432 0.16078432; 0.19215687 0.18039216 … 0.14117648 0.14509805]\n",
       "\n",
       "[0.6313726 0.6509804 … 0.6392157 0.61960787; 0.6627451 0.6745098 … 0.59607846 0.5686275; … ; 0.1882353 0.18431373 … 0.16862746 0.16862746; 0.19607843 0.18431373 … 0.14901961 0.15294118]\n",
       "\n",
       "[0.7607843 0.78039217 … 0.7647059 0.7372549; 0.7921569 0.8039216 … 0.7411765 0.7019608; … ; 0.25882354 0.25490198 … 0.22745098 0.22745098; 0.27058825 0.25490198 … 0.20784314 0.21176471]\n",
       " [1.0 0.99607843 … 0.44705883 0.4627451; 0.99607843 0.99607843 … 0.42745098 0.44705883; … ; 0.9490196 0.9490196 … 0.99215686 0.9647059; 0.9372549 0.9490196 … 0.9882353 0.99215686]\n",
       "\n",
       "[0.9607843 0.96862745 … 0.2627451 0.26666668; 0.95686275 0.96862745 … 0.25882354 0.26666668; … ; 0.5803922 0.5803922 … 0.7019608 0.6666667; 0.58431375 0.5803922 … 0.70980394 0.70980394]\n",
       "\n",
       "[0.5176471 0.5254902 … 0.101960786 0.105882354; 0.5137255 0.52156866 … 0.105882354 0.105882354; … ; 0.2509804 0.24705882 … 0.3137255 0.2627451; 0.2509804 0.24705882 … 0.31764707 0.29803923]\n",
       " [0.13725491 0.15686275 … 0.30980393 0.34901962; 0.22352941 0.17254902 … 0.5529412 0.45490196; … ; 0.23921569 0.21568628 … 0.06666667 0.02745098; 0.17254902 0.18039216 … 0.08235294 0.047058824]\n",
       "\n",
       "[0.69803923 0.6901961 … 0.5764706 0.5803922; 0.7137255 0.72156864 … 0.69411767 0.58431375; … ; 0.26666668 0.27450982 … 0.13725491 0.09019608; 0.21960784 0.25882354 … 0.16862746 0.12156863]\n",
       "\n",
       "[0.92156863 0.9372549 … 0.77254903 0.7411765; 0.91764706 0.98039216 … 0.80784315 0.6862745; … ; 0.29411766 0.3372549 … 0.20784314 0.1254902; 0.28627452 0.34509805 … 0.25882354 0.19607843]\n",
       " [0.7411765 0.7294118 … 0.6745098 0.6627451; 0.7607843 0.7490196 … 0.67058825 0.654902; … ; 0.7764706 0.7411765 … 0.6862745 0.6862745; 0.7764706 0.7411765 … 0.76862746 0.7647059]\n",
       "\n",
       "[0.827451 0.8156863 … 0.7607843 0.7607843; 0.8235294 0.8117647 … 0.7490196 0.74509805; … ; 0.74509805 0.70980394 … 0.6627451 0.6627451; 0.7411765 0.70980394 … 0.7411765 0.74509805]\n",
       "\n",
       "[0.9411765 0.9254902 … 0.87058824 0.8627451; 0.9372549 0.9254902 … 0.85490197 0.84705883; … ; 0.6666667 0.62352943 … 0.6117647 0.6039216; 0.6784314 0.63529414 … 0.67058825 0.67058825]\n",
       " [0.8980392 0.9254902 … 0.8666667 0.87058824; 0.87058824 0.9372549 … 0.8901961 0.8235294; … ; 0.5372549 0.50980395 … 0.7921569 0.83137256; 0.47843137 0.4627451 … 0.6431373 0.6392157]\n",
       "\n",
       "[0.8980392 0.92941177 … 0.8745098 0.8745098; 0.8666667 0.9372549 … 0.89411765 0.827451; … ; 0.5176471 0.49803922 … 0.7882353 0.827451; 0.46666667 0.45490196 … 0.6431373 0.6392157]\n",
       "\n",
       "[0.9372549 0.96862745 … 0.91764706 0.9137255; 0.8980392 0.9764706 … 0.93333334 0.8627451; … ; 0.49411765 0.47058824 … 0.7764706 0.8117647; 0.44705883 0.43137255 … 0.63529414 0.6313726]"
      ]
     },
     "execution_count": 196,
     "metadata": {},
     "output_type": "execute_result"
    }
   ],
   "source": [
    "getarray(X) = float.(permutedims(channelview(X), (2, 3, 1)))\n",
    "imgs = getarray.(image.(X))"
   ]
  },
  {
   "cell_type": "markdown",
   "metadata": {},
   "source": [
    "The first 49k images (in batches of 1000) will be our training set, and the rest is\n",
    "for validation. `partition` handily breaks down the set we give it in consecutive parts\n",
    "(1000 in this case). `cat` is a shorthand for concatenating multi-dimensional arrays along\n",
    "any dimension."
   ]
  },
  {
   "cell_type": "code",
   "execution_count": 197,
   "metadata": {
    "scrolled": true
   },
   "outputs": [
    {
     "data": {
      "text/plain": [
       "10×1000 Flux.OneHotMatrix{CUDA.CuArray{Flux.OneHotVector,1}}:\n",
       " 0  0  0  0  1  0  1  0  0  0  0  0  0  …  0  0  0  0  1  0  1  0  0  0  0  0\n",
       " 0  0  0  0  0  0  0  0  0  0  0  0  0     0  1  0  0  0  1  0  0  0  0  1  1\n",
       " 0  0  0  0  0  0  0  0  1  0  0  0  0     0  0  0  1  0  0  0  1  0  0  0  0\n",
       " 0  0  0  0  0  0  0  0  0  1  0  0  0     0  0  0  0  0  0  0  0  0  0  0  0\n",
       " 0  0  1  0  0  0  0  0  0  0  0  0  0     0  0  1  0  0  0  0  0  0  0  0  0\n",
       " 0  0  0  0  0  1  0  0  0  0  0  0  0  …  1  0  0  0  0  0  0  0  0  0  0  0\n",
       " 0  0  0  0  0  0  0  0  0  0  0  0  0     0  0  0  0  0  0  0  0  1  0  0  0\n",
       " 0  0  0  0  0  0  0  0  0  0  1  0  0     0  0  0  0  0  0  0  0  0  0  0  0\n",
       " 1  0  0  0  0  0  0  1  0  0  0  1  0     0  0  0  0  0  0  0  0  0  0  0  0\n",
       " 0  1  0  1  0  0  0  0  0  0  0  0  1     0  0  0  0  0  0  0  0  0  1  0  0"
      ]
     },
     "execution_count": 197,
     "metadata": {},
     "output_type": "execute_result"
    }
   ],
   "source": [
    "# W H C N\n",
    "# (data, labels) -> minibatch\n",
    "# [mb1, mb2, ...] -> dataset\n",
    "train = ([(cat(imgs[i]..., dims = 4), labels[:,i]) for i in partition(1:49000, 1000)]) |> gpu\n",
    "valset = 49001:50000\n",
    "valX = cat(imgs[valset]..., dims = 4) |> gpu\n",
    "valY = labels[:, valset] |> gpu"
   ]
  },
  {
   "cell_type": "markdown",
   "metadata": {},
   "source": [
    "## Defining the Classifier\n",
    "--------------------------\n",
    "Now we can define our Convolutional Neural Network (CNN)."
   ]
  },
  {
   "cell_type": "markdown",
   "metadata": {},
   "source": [
    "A convolutional neural network is one which defines a kernel and slides it across a matrix\n",
    "to create an intermediate representation to extract features from. It creates higher order\n",
    "features as it goes into deeper layers, making it suitable for images, where the strucure of\n",
    "the subject is what will help us determine which class it belongs to."
   ]
  },
  {
   "cell_type": "code",
   "execution_count": 199,
   "metadata": {},
   "outputs": [
    {
     "data": {
      "text/plain": [
       "32×32×3×1000 CUDA.CuArray{Float32,4}:\n",
       "[:, :, 1, 1] =\n",
       " 0.231373   0.168627   0.196078   0.266667  …  0.619608  0.596078  0.580392\n",
       " 0.0627451  0.0        0.0705882  0.2          0.482353  0.466667  0.478431\n",
       " 0.0980392  0.0627451  0.192157   0.32549      0.462745  0.470588  0.427451\n",
       " 0.129412   0.14902    0.341176   0.415686     0.490196  0.47451   0.368627\n",
       " 0.196078   0.231373   0.4        0.498039     0.341176  0.294118  0.262745\n",
       " 0.278431   0.329412   0.431373   0.505882  …  0.262745  0.137255  0.12549\n",
       " 0.380392   0.435294   0.482353   0.509804     0.376471  0.34902   0.258824\n",
       " 0.45098    0.466667   0.509804   0.54902      0.396078  0.494118  0.4\n",
       " 0.537255   0.501961   0.517647   0.501961     0.466667  0.490196  0.52549\n",
       " 0.603922   0.603922   0.611765   0.54902      0.517647  0.501961  0.521569\n",
       " 0.603922   0.607843   0.611765   0.576471  …  0.533333  0.509804  0.52549\n",
       " 0.568627   0.572549   0.572549   0.529412     0.521569  0.517647  0.521569\n",
       " 0.556863   0.552941   0.54902    0.564706     0.529412  0.533333  0.521569\n",
       " ⋮                                          ⋱            ⋮         \n",
       " 0.560784   0.498039   0.505882   0.505882  …  0.47451   0.423529  0.533333\n",
       " 0.560784   0.490196   0.513726   0.501961     0.505882  0.541176  0.701961\n",
       " 0.552941   0.513726   0.545098   0.545098     0.443137  0.580392  0.780392\n",
       " 0.560784   0.545098   0.541176   0.584314     0.4       0.623529  0.745098\n",
       " 0.584314   0.521569   0.533333   0.576471     0.54902   0.733333  0.603922\n",
       " 0.67451    0.564706   0.529412   0.533333  …  0.741176  0.827451  0.533333\n",
       " 0.792157   0.733333   0.592157   0.501961     0.843137  0.729412  0.458824\n",
       " 0.847059   0.756863   0.658824   0.592157     0.807843  0.486275  0.278431\n",
       " 0.862745   0.788235   0.729412   0.67451      0.678431  0.219608  0.129412\n",
       " 0.815686   0.788235   0.776471   0.74902      0.627451  0.219608  0.207843\n",
       " 0.705882   0.678431   0.729412   0.760784  …  0.721569  0.380392  0.32549\n",
       " 0.694118   0.658824   0.701961   0.737255     0.847059  0.592157  0.482353\n",
       "\n",
       "[:, :, 2, 1] =\n",
       " 0.243137   0.180392   0.188235   0.211765  …  0.517647  0.490196   0.486275\n",
       " 0.0784314  0.0        0.0313726  0.105882     0.345098  0.32549    0.341176\n",
       " 0.0941176  0.027451   0.105882   0.196078     0.329412  0.329412   0.286275\n",
       " 0.0980392  0.0784314  0.211765   0.247059     0.341176  0.333333   0.243137\n",
       " 0.12549    0.12549    0.254902   0.309804     0.223529  0.184314   0.164706\n",
       " 0.188235   0.207843   0.286275   0.321569  …  0.152941  0.0392157  0.0509804\n",
       " 0.270588   0.294118   0.333333   0.329412     0.247059  0.239216   0.184314\n",
       " 0.321569   0.298039   0.352941   0.380392     0.258824  0.360784   0.290196\n",
       " 0.392157   0.321569   0.356863   0.341176     0.32549   0.337255   0.372549\n",
       " 0.470588   0.439216   0.447059   0.392157     0.364706  0.337255   0.360784\n",
       " 0.478431   0.458824   0.458824   0.423529  …  0.372549  0.337255   0.364706\n",
       " 0.447059   0.427451   0.427451   0.380392     0.352941  0.341176   0.360784\n",
       " 0.45098    0.415686   0.411765   0.411765     0.356863  0.34902    0.356863\n",
       " ⋮                                          ⋱            ⋮          \n",
       " 0.407843   0.313726   0.337255   0.333333  …  0.360784  0.321569   0.466667\n",
       " 0.407843   0.298039   0.333333   0.317647     0.454902  0.454902   0.635294\n",
       " 0.4        0.313726   0.34902    0.341176     0.478431  0.533333   0.721569\n",
       " 0.403922   0.341176   0.34902    0.376471     0.443137  0.584314   0.682353\n",
       " 0.419608   0.313726   0.345098   0.388235     0.47451   0.647059   0.517647\n",
       " 0.501961   0.345098   0.333333   0.345098  …  0.623529  0.709804   0.419608\n",
       " 0.615686   0.505882   0.392157   0.309804     0.717647  0.607843   0.337255\n",
       " 0.682353   0.533333   0.478431   0.435294     0.678431  0.364706   0.188235\n",
       " 0.713726   0.588235   0.580392   0.545098     0.564706  0.113725   0.0745098\n",
       " 0.666667   0.6        0.631373   0.615686     0.521569  0.121569   0.133333\n",
       " 0.545098   0.482353   0.564706   0.6       …  0.580392  0.243137   0.207843\n",
       " 0.564706   0.505882   0.556863   0.584314     0.721569  0.462745   0.360784\n",
       "\n",
       "[:, :, 3, 1] =\n",
       " 0.247059   0.176471   0.168627   …  0.423529   0.4        0.403922\n",
       " 0.0784314  0.0        0.0           0.215686   0.196078   0.223529\n",
       " 0.0823529  0.0        0.0313726     0.196078   0.196078   0.164706\n",
       " 0.0666667  0.0156863  0.0980392     0.196078   0.188235   0.137255\n",
       " 0.0823529  0.0431373  0.133333      0.105882   0.0901961  0.0980392\n",
       " 0.113725   0.0941176  0.145098   …  0.0588235  0.0        0.0156863\n",
       " 0.156863   0.141176   0.168627      0.145098   0.14902    0.117647\n",
       " 0.192157   0.129412   0.184314      0.129412   0.231373   0.180392\n",
       " 0.266667   0.160784   0.2           0.168627   0.176471   0.219608\n",
       " 0.34902    0.301961   0.321569      0.203922   0.176471   0.215686\n",
       " 0.368627   0.321569   0.321569   …  0.215686   0.180392   0.223529\n",
       " 0.34902    0.286275   0.270588      0.2        0.180392   0.219608\n",
       " 0.337255   0.270588   0.266667      0.203922   0.188235   0.219608\n",
       " ⋮                                ⋱             ⋮          \n",
       " 0.258824   0.14902    0.192157   …  0.196078   0.141176   0.196078\n",
       " 0.25098    0.12549    0.188235      0.152941   0.176471   0.32549\n",
       " 0.254902   0.137255   0.180392      0.0392157  0.172549   0.4\n",
       " 0.282353   0.172549   0.164706      0.0352941  0.247059   0.388235\n",
       " 0.290196   0.145098   0.188235      0.164706   0.356863   0.294118\n",
       " 0.298039   0.0705882  0.137255   …  0.341176   0.447059   0.227451\n",
       " 0.321569   0.101961   0.0980392     0.415686   0.356863   0.188235\n",
       " 0.341176   0.0627451  0.0745098     0.411765   0.192157   0.101961\n",
       " 0.356863   0.0862745  0.0941176     0.341176   0.0352941  0.0352941\n",
       " 0.376471   0.133333   0.101961      0.27451    0.027451   0.0784314\n",
       " 0.376471   0.164706   0.117647   …  0.368627   0.133333   0.133333\n",
       " 0.454902   0.368627   0.341176      0.54902    0.329412   0.282353\n",
       "\n",
       "[:, :, 1, 2] =\n",
       " 0.603922  0.494118  0.411765  0.4       …  0.356863   0.341176  0.309804\n",
       " 0.54902   0.568627  0.490196  0.486275     0.376471   0.301961  0.278431\n",
       " 0.54902   0.545098  0.45098   0.576471     0.309804   0.266667  0.262745\n",
       " 0.533333  0.537255  0.478431  0.517647     0.298039   0.25098   0.278431\n",
       " 0.505882  0.552941  0.533333  0.729412     0.278431   0.266667  0.341176\n",
       " 0.533333  0.533333  0.498039  0.6       …  0.262745   0.317647  0.356863\n",
       " 0.572549  0.486275  0.345098  0.333333     0.32549    0.301961  0.317647\n",
       " 0.635294  0.431373  0.247059  0.286275     0.368627   0.32549   0.290196\n",
       " 0.498039  0.27451   0.145098  0.133333     0.345098   0.317647  0.247059\n",
       " 0.278431  0.290196  0.282353  0.317647     0.345098   0.262745  0.219608\n",
       " 0.192157  0.384314  0.411765  0.482353  …  0.388235   0.364706  0.309804\n",
       " 0.231373  0.403922  0.34902   0.439216     0.403922   0.360784  0.372549\n",
       " 0.329412  0.407843  0.317647  0.34902      0.4        0.313726  0.337255\n",
       " ⋮                                       ⋱             ⋮         \n",
       " 0.27451   0.337255  0.333333  0.141176  …  0.823529   0.815686  0.8\n",
       " 0.607843  0.635294  0.596078  0.188235     0.831373   0.823529  0.823529\n",
       " 0.635294  0.486275  0.431373  0.184314     0.741176   0.760784  0.8\n",
       " 0.584314  0.227451  0.113725  0.121569     0.270588   0.380392  0.690196\n",
       " 0.682353  0.372549  0.223529  0.239216     0.0745098  0.172549  0.607843\n",
       " 0.611765  0.592157  0.6       0.627451  …  0.152941   0.133333  0.34902\n",
       " 0.654902  0.580392  0.4       0.486275     0.243137   0.219608  0.345098\n",
       " 0.682353  0.552941  0.172549  0.168627     0.403922   0.372549  0.486275\n",
       " 0.643137  0.552941  0.45098   0.443137     0.301961   0.266667  0.368627\n",
       " 0.686275  0.611765  0.603922  0.576471     0.164706   0.239216  0.364706\n",
       " 0.647059  0.611765  0.623529  0.513726  …  0.403922   0.482353  0.513726\n",
       " 0.639216  0.619608  0.639216  0.568627     0.560784   0.560784  0.560784\n",
       "\n",
       "[:, :, 2, 2] =\n",
       " 0.694118  0.537255  0.407843  0.396078  …  0.372549   0.352941  0.317647\n",
       " 0.627451  0.6       0.490196  0.505882     0.388235   0.313726  0.286275\n",
       " 0.607843  0.572549  0.45098   0.6          0.321569   0.27451   0.270588\n",
       " 0.576471  0.556863  0.47451   0.521569     0.305882   0.258824  0.286275\n",
       " 0.537255  0.572549  0.545098  0.729412     0.286275   0.27451   0.34902\n",
       " 0.564706  0.584314  0.580392  0.67451   …  0.270588   0.32549   0.364706\n",
       " 0.603922  0.541176  0.427451  0.411765     0.333333   0.309804  0.32549\n",
       " 0.67451   0.490196  0.301961  0.321569     0.376471   0.333333  0.298039\n",
       " 0.537255  0.352941  0.203922  0.152941     0.356863   0.329412  0.258824\n",
       " 0.294118  0.384314  0.364706  0.341176     0.356863   0.27451   0.231373\n",
       " 0.180392  0.478431  0.505882  0.517647  …  0.4        0.376471  0.321569\n",
       " 0.227451  0.47451   0.443137  0.513726     0.415686   0.364706  0.372549\n",
       " 0.345098  0.482353  0.411765  0.458824     0.4        0.309804  0.329412\n",
       " ⋮                                       ⋱             ⋮         \n",
       " 0.278431  0.388235  0.376471  0.14902   …  0.729412   0.741176  0.741176\n",
       " 0.627451  0.713726  0.662745  0.2          0.752941   0.756863  0.760784\n",
       " 0.65098   0.556863  0.498039  0.196078     0.67451    0.705882  0.745098\n",
       " 0.576471  0.247059  0.152941  0.133333     0.219608   0.341176  0.666667\n",
       " 0.666667  0.372549  0.247059  0.254902     0.0509804  0.156863  0.603922\n",
       " 0.584314  0.588235  0.619608  0.647059  …  0.156863   0.137255  0.356863\n",
       " 0.623529  0.568627  0.407843  0.494118     0.262745   0.235294  0.352941\n",
       " 0.643137  0.537255  0.180392  0.160784     0.423529   0.384314  0.482353\n",
       " 0.607843  0.545098  0.466667  0.443137     0.301961   0.258824  0.345098\n",
       " 0.654902  0.603922  0.627451  0.6          0.133333   0.207843  0.32549\n",
       " 0.603922  0.596078  0.631373  0.509804  …  0.364706   0.447059  0.47451\n",
       " 0.580392  0.580392  0.611765  0.529412     0.521569   0.52549   0.521569\n",
       "\n",
       "[:, :, 3, 2] =\n",
       " 0.733333  0.533333  0.372549  0.388235  …  0.278431  0.278431  0.27451\n",
       " 0.662745  0.603922  0.462745  0.517647     0.305882  0.243137  0.239216\n",
       " 0.643137  0.584314  0.439216  0.623529     0.25098   0.215686  0.215686\n",
       " 0.607843  0.572549  0.47451   0.545098     0.25098   0.207843  0.231373\n",
       " 0.564706  0.596078  0.556863  0.745098     0.235294  0.223529  0.290196\n",
       " 0.584314  0.647059  0.643137  0.709804  …  0.223529  0.278431  0.317647\n",
       " 0.67451   0.658824  0.545098  0.470588     0.282353  0.262745  0.278431\n",
       " 0.752941  0.603922  0.415686  0.388235     0.321569  0.278431  0.243137\n",
       " 0.541176  0.4       0.262745  0.219608     0.298039  0.270588  0.2\n",
       " 0.270588  0.423529  0.439216  0.431373     0.286275  0.203922  0.160784\n",
       " 0.192157  0.564706  0.647059  0.647059  …  0.329412  0.301961  0.247059\n",
       " 0.262745  0.564706  0.560784  0.623529     0.345098  0.294118  0.309804\n",
       " 0.392157  0.572549  0.517647  0.576471     0.333333  0.25098   0.282353\n",
       " ⋮                                       ⋱            ⋮         \n",
       " 0.337255  0.490196  0.443137  0.188235  …  0.560784  0.537255  0.576471\n",
       " 0.705882  0.85098   0.756863  0.258824     0.556863  0.52549   0.568627\n",
       " 0.713726  0.678431  0.584314  0.254902     0.509804  0.521569  0.596078\n",
       " 0.619608  0.32549   0.215686  0.180392     0.156863  0.282353  0.627451\n",
       " 0.717647  0.454902  0.317647  0.309804     0.054902  0.172549  0.631373\n",
       " 0.647059  0.682353  0.701961  0.713726  …  0.207843  0.2       0.419608\n",
       " 0.67451   0.65098   0.482353  0.54902      0.333333  0.309804  0.419608\n",
       " 0.666667  0.588235  0.219608  0.188235     0.482353  0.435294  0.521569\n",
       " 0.627451  0.596078  0.517647  0.47451      0.329412  0.286275  0.368627\n",
       " 0.65098   0.627451  0.666667  0.639216     0.141176  0.223529  0.356863\n",
       " 0.501961  0.509804  0.556863  0.498039  …  0.376471  0.470588  0.513726\n",
       " 0.470588  0.478431  0.521569  0.490196     0.545098  0.556863  0.564706\n",
       "\n",
       "[:, :, 1, 3] =\n",
       " 1.0       0.992157  0.992157  0.992157  …  0.992157  0.992157  0.992157\n",
       " 1.0       1.0       1.0       1.0          1.0       1.0       1.0\n",
       " 1.0       0.996078  0.996078  0.996078     0.996078  0.996078  0.996078\n",
       " 1.0       1.0       1.0       1.0          1.0       1.0       1.0\n",
       " 1.0       1.0       1.0       1.0          1.0       1.0       1.0\n",
       " 1.0       1.0       1.0       1.0       …  1.0       1.0       1.0\n",
       " 1.0       1.0       1.0       1.0          1.0       1.0       1.0\n",
       " 1.0       1.0       1.0       1.0          0.996078  0.996078  0.996078\n",
       " 1.0       1.0       1.0       1.0          0.980392  0.980392  0.984314\n",
       " 1.0       1.0       1.0       1.0          0.909804  0.882353  0.870588\n",
       " 1.0       0.992157  0.996078  0.992157  …  0.721569  0.662745  0.631373\n",
       " 1.0       0.992157  0.996078  0.92549      0.564706  0.541176  0.533333\n",
       " 1.0       0.984314  0.984314  0.866667     0.533333  0.533333  0.505882\n",
       " ⋮                                       ⋱            ⋮         \n",
       " 0.501961  0.47451   0.478431  0.396078  …  0.203922  0.27451   0.290196\n",
       " 0.439216  0.411765  0.454902  0.478431     0.243137  0.254902  0.282353\n",
       " 0.439216  0.411765  0.439216  0.411765     0.239216  0.258824  0.290196\n",
       " 0.454902  0.419608  0.392157  0.321569     0.231373  0.243137  0.27451\n",
       " 0.407843  0.352941  0.309804  0.266667     0.270588  0.266667  0.301961\n",
       " 0.329412  0.309804  0.278431  0.243137  …  0.270588  0.298039  0.329412\n",
       " 0.309804  0.309804  0.294118  0.270588     0.243137  0.270588  0.286275\n",
       " 0.384314  0.392157  0.380392  0.360784     0.25098   0.258824  0.262745\n",
       " 0.439216  0.431373  0.431373  0.403922     0.27451   0.282353  0.298039\n",
       " 0.443137  0.435294  0.411765  0.372549     0.282353  0.282353  0.282353\n",
       " 0.435294  0.407843  0.388235  0.34902   …  0.266667  0.27451   0.305882\n",
       " 0.415686  0.388235  0.372549  0.34902      0.305882  0.309804  0.313726\n",
       "\n",
       "[:, :, 2, 3] =\n",
       " 1.0       0.992157  0.992157  0.992157  …  0.992157  0.992157  0.992157\n",
       " 1.0       1.0       1.0       1.0          1.0       1.0       1.0\n",
       " 1.0       0.996078  0.996078  0.996078     0.996078  0.996078  0.996078\n",
       " 1.0       1.0       1.0       1.0          1.0       1.0       1.0\n",
       " 1.0       1.0       1.0       1.0          1.0       1.0       1.0\n",
       " 1.0       1.0       1.0       1.0       …  1.0       1.0       1.0\n",
       " 1.0       1.0       1.0       1.0          0.996078  0.996078  0.996078\n",
       " 1.0       1.0       1.0       1.0          0.992157  0.992157  0.992157\n",
       " 1.0       1.0       1.0       1.0          0.992157  0.992157  0.992157\n",
       " 1.0       0.996078  1.0       1.0          0.94902   0.92549   0.909804\n",
       " 1.0       0.992157  0.992157  0.988235  …  0.792157  0.741176  0.709804\n",
       " 1.0       0.992157  0.996078  0.92549      0.654902  0.635294  0.627451\n",
       " 1.0       0.984314  0.988235  0.870588     0.619608  0.615686  0.588235\n",
       " ⋮                                       ⋱            ⋮         \n",
       " 0.580392  0.545098  0.47451   0.294118  …  0.247059  0.317647  0.341176\n",
       " 0.517647  0.478431  0.45098   0.388235     0.286275  0.298039  0.32549\n",
       " 0.482353  0.45098   0.454902  0.4          0.278431  0.298039  0.329412\n",
       " 0.486275  0.447059  0.415686  0.345098     0.270588  0.282353  0.313726\n",
       " 0.435294  0.380392  0.333333  0.290196     0.313726  0.305882  0.341176\n",
       " 0.360784  0.337255  0.301961  0.266667  …  0.309804  0.337255  0.368627\n",
       " 0.341176  0.333333  0.317647  0.294118     0.282353  0.309804  0.32549\n",
       " 0.415686  0.415686  0.403922  0.388235     0.290196  0.298039  0.301961\n",
       " 0.470588  0.458824  0.454902  0.431373     0.313726  0.317647  0.333333\n",
       " 0.470588  0.462745  0.439216  0.403922     0.317647  0.313726  0.313726\n",
       " 0.462745  0.435294  0.415686  0.380392  …  0.294118  0.298039  0.329412\n",
       " 0.443137  0.415686  0.4       0.376471     0.333333  0.333333  0.337255\n",
       "\n",
       "[:, :, 3, 3] =\n",
       " 1.0       0.992157  0.992157  0.992157  …  0.992157  0.992157  0.992157\n",
       " 1.0       1.0       1.0       1.0          1.0       1.0       1.0\n",
       " 1.0       0.996078  0.996078  0.996078     0.996078  0.996078  0.996078\n",
       " 1.0       1.0       1.0       1.0          1.0       1.0       1.0\n",
       " 1.0       1.0       1.0       1.0          1.0       1.0       1.0\n",
       " 1.0       1.0       1.0       1.0       …  1.0       1.0       1.0\n",
       " 1.0       0.992157  0.996078  0.996078     0.992157  0.992157  0.992157\n",
       " 1.0       0.988235  0.992157  0.992157     0.992157  0.992157  0.992157\n",
       " 1.0       0.996078  0.996078  0.996078     0.988235  0.988235  0.992157\n",
       " 1.0       1.0       1.0       1.0          0.909804  0.882353  0.870588\n",
       " 1.0       0.996078  0.996078  0.992157  …  0.690196  0.631373  0.6\n",
       " 1.0       0.984314  0.992157  0.917647     0.513726  0.486275  0.482353\n",
       " 0.972549  0.960784  0.960784  0.839216     0.513726  0.509804  0.482353\n",
       " ⋮                                       ⋱            ⋮         \n",
       " 0.458824  0.439216  0.4       0.266667  …  0.247059  0.309804  0.313726\n",
       " 0.407843  0.384314  0.396078  0.368627     0.294118  0.305882  0.317647\n",
       " 0.427451  0.407843  0.431373  0.396078     0.286275  0.301961  0.333333\n",
       " 0.447059  0.423529  0.403922  0.341176     0.27451   0.286275  0.317647\n",
       " 0.4       0.356863  0.321569  0.290196     0.317647  0.305882  0.345098\n",
       " 0.32549   0.313726  0.290196  0.266667  …  0.317647  0.341176  0.372549\n",
       " 0.301961  0.309804  0.309804  0.290196     0.286275  0.313726  0.329412\n",
       " 0.376471  0.396078  0.392157  0.384314     0.294118  0.301961  0.305882\n",
       " 0.431373  0.435294  0.443137  0.423529     0.317647  0.321569  0.337255\n",
       " 0.439216  0.435294  0.415686  0.380392     0.313726  0.309804  0.309804\n",
       " 0.431373  0.407843  0.384314  0.34902   …  0.286275  0.294118  0.321569\n",
       " 0.411765  0.384314  0.368627  0.345098     0.32549   0.32549   0.329412\n",
       "\n",
       "...\n",
       "\n",
       "[:, :, 1, 998] =\n",
       " 0.568627  0.513726   0.45098    0.592157   …  0.494118  0.494118  0.490196\n",
       " 0.505882  0.486275   0.403922   0.541176      0.494118  0.494118  0.490196\n",
       " 0.454902  0.458824   0.396078   0.529412      0.494118  0.490196  0.486275\n",
       " 0.423529  0.384314   0.329412   0.411765      0.494118  0.486275  0.486275\n",
       " 0.537255  0.376471   0.364706   0.490196      0.545098  0.533333  0.529412\n",
       " 0.678431  0.603922   0.603922   0.654902   …  0.654902  0.647059  0.603922\n",
       " 0.639216  0.619608   0.643137   0.592157      0.72549   0.745098  0.717647\n",
       " 0.580392  0.560784   0.611765   0.568627      0.658824  0.745098  0.764706\n",
       " 0.572549  0.556863   0.560784   0.560784      0.501961  0.694118  0.694118\n",
       " 0.513726  0.501961   0.513726   0.517647      0.368627  0.521569  0.678431\n",
       " 0.521569  0.509804   0.513726   0.513726   …  0.25098   0.490196  0.572549\n",
       " 0.505882  0.478431   0.47451    0.490196      0.215686  0.592157  0.8\n",
       " 0.443137  0.439216   0.435294   0.454902      0.133333  0.541176  0.960784\n",
       " ⋮                                          ⋱            ⋮         \n",
       " 0.231373  0.258824   0.333333   0.34902    …  0.168627  0.211765  0.160784\n",
       " 0.219608  0.0666667  0.172549   0.266667      0.14902   0.156863  0.219608\n",
       " 0.321569  0.0666667  0.0745098  0.101961      0.180392  0.282353  0.411765\n",
       " 0.329412  0.0666667  0.0980392  0.129412      0.262745  0.435294  0.494118\n",
       " 0.34902   0.0901961  0.0901961  0.0980392     0.270588  0.376471  0.458824\n",
       " 0.427451  0.298039   0.145098   0.0980392  …  0.403922  0.45098   0.470588\n",
       " 0.482353  0.372549   0.12549    0.101961      0.458824  0.458824  0.482353\n",
       " 0.462745  0.211765   0.0901961  0.0745098     0.443137  0.439216  0.439216\n",
       " 0.470588  0.207843   0.109804   0.101961      0.458824  0.454902  0.427451\n",
       " 0.490196  0.356863   0.180392   0.152941      0.482353  0.45098   0.478431\n",
       " 0.490196  0.494118   0.407843   0.215686   …  0.505882  0.462745  0.498039\n",
       " 0.498039  0.498039   0.505882   0.415686      0.501961  0.486275  0.494118\n",
       "\n",
       "[:, :, 2, 998] =\n",
       " 0.580392  0.52549    0.466667   0.603922  …  0.411765  0.411765  0.407843\n",
       " 0.517647  0.498039   0.419608   0.560784     0.411765  0.411765  0.407843\n",
       " 0.466667  0.466667   0.411765   0.541176     0.411765  0.407843  0.403922\n",
       " 0.435294  0.396078   0.345098   0.415686     0.411765  0.407843  0.403922\n",
       " 0.529412  0.368627   0.364706   0.47451      0.45098   0.447059  0.447059\n",
       " 0.545098  0.490196   0.509804   0.54902   …  0.521569  0.513726  0.517647\n",
       " 0.509804  0.513726   0.560784   0.509804     0.619608  0.580392  0.596078\n",
       " 0.580392  0.576471   0.639216   0.611765     0.623529  0.580392  0.607843\n",
       " 0.686275  0.678431   0.686275   0.709804     0.501961  0.560784  0.564706\n",
       " 0.682353  0.670588   0.682353   0.690196     0.368627  0.478431  0.670588\n",
       " 0.686275  0.67451    0.67451    0.67451   …  0.239216  0.533333  0.682353\n",
       " 0.654902  0.639216   0.639216   0.654902     0.243137  0.635294  0.843137\n",
       " 0.596078  0.592157   0.584314   0.588235     0.184314  0.576471  0.972549\n",
       " ⋮                                         ⋱            ⋮         \n",
       " 0.309804  0.329412   0.439216   0.458824  …  0.25098   0.305882  0.270588\n",
       " 0.290196  0.109804   0.235294   0.337255     0.247059  0.266667  0.34902\n",
       " 0.388235  0.0862745  0.0941176  0.129412     0.290196  0.407843  0.556863\n",
       " 0.419608  0.0941176  0.105882   0.137255     0.4       0.584314  0.658824\n",
       " 0.470588  0.152941   0.117647   0.113725     0.419608  0.533333  0.623529\n",
       " 0.564706  0.392157   0.196078   0.129412  …  0.556863  0.603922  0.627451\n",
       " 0.623529  0.482353   0.196078   0.14902      0.619608  0.623529  0.643137\n",
       " 0.6       0.321569   0.176471   0.133333     0.607843  0.607843  0.607843\n",
       " 0.607843  0.321569   0.211765   0.172549     0.619608  0.615686  0.592157\n",
       " 0.643137  0.490196   0.301961   0.247059     0.631373  0.6       0.623529\n",
       " 0.647059  0.643137   0.545098   0.333333  …  0.654902  0.611765  0.631373\n",
       " 0.65098   0.647059   0.65098    0.545098     0.662745  0.643137  0.627451\n",
       "\n",
       "[:, :, 3, 998] =\n",
       " 0.615686  0.568627  0.486275  0.623529  …  0.407843  0.407843  0.403922\n",
       " 0.552941  0.541176  0.439216  0.576471     0.407843  0.407843  0.403922\n",
       " 0.501961  0.509804  0.431373  0.572549     0.407843  0.403922  0.4\n",
       " 0.470588  0.443137  0.364706  0.427451     0.403922  0.403922  0.4\n",
       " 0.560784  0.407843  0.380392  0.443137     0.443137  0.439216  0.439216\n",
       " 0.517647  0.470588  0.486275  0.513726  …  0.490196  0.470588  0.47451\n",
       " 0.443137  0.458824  0.505882  0.458824     0.545098  0.490196  0.501961\n",
       " 0.45098   0.454902  0.513726  0.478431     0.54902   0.478431  0.494118\n",
       " 0.439216  0.427451  0.431373  0.435294     0.490196  0.490196  0.458824\n",
       " 0.356863  0.337255  0.341176  0.345098     0.407843  0.392157  0.509804\n",
       " 0.368627  0.341176  0.329412  0.333333  …  0.270588  0.4       0.454902\n",
       " 0.352941  0.309804  0.305882  0.317647     0.211765  0.568627  0.768627\n",
       " 0.286275  0.27451   0.290196  0.329412     0.121569  0.541176  0.945098\n",
       " ⋮                                       ⋱            ⋮         \n",
       " 0.298039  0.407843  0.52549   0.564706  …  0.188235  0.227451  0.164706\n",
       " 0.25098   0.152941  0.282353  0.396078     0.145098  0.145098  0.176471\n",
       " 0.329412  0.105882  0.101961  0.141176     0.14902   0.235294  0.309804\n",
       " 0.337255  0.12549   0.129412  0.152941     0.196078  0.329412  0.341176\n",
       " 0.298039  0.113725  0.109804  0.12549      0.188235  0.25098   0.309804\n",
       " 0.290196  0.211765  0.12549   0.113725  …  0.305882  0.329412  0.34902\n",
       " 0.329412  0.262745  0.121569  0.12549      0.309804  0.298039  0.333333\n",
       " 0.337255  0.137255  0.113725  0.109804     0.278431  0.254902  0.262745\n",
       " 0.341176  0.152941  0.113725  0.121569     0.333333  0.298039  0.270588\n",
       " 0.298039  0.239216  0.121569  0.141176     0.407843  0.341176  0.341176\n",
       " 0.262745  0.317647  0.298039  0.160784  …  0.415686  0.356863  0.364706\n",
       " 0.298039  0.313726  0.356863  0.305882     0.34902   0.345098  0.356863\n",
       "\n",
       "[:, :, 1, 999] =\n",
       " 0.572549  0.72549   0.972549  0.980392  …  0.992157  0.992157  1.0\n",
       " 0.560784  0.341176  0.690196  0.937255     1.0       1.0       1.0\n",
       " 0.760784  0.329412  0.262745  0.54902      1.0       1.0       1.0\n",
       " 0.87451   0.47451   0.227451  0.192157     1.0       1.0       1.0\n",
       " 0.976471  0.631373  0.313726  0.203922     1.0       1.0       1.0\n",
       " 1.0       0.811765  0.411765  0.247059  …  1.0       1.0       1.0\n",
       " 1.0       0.894118  0.541176  0.341176     1.0       1.0       1.0\n",
       " 1.0       0.913725  0.584314  0.482353     1.0       1.0       1.0\n",
       " 1.0       0.870588  0.47451   0.392157     1.0       1.0       1.0\n",
       " 1.0       0.831373  0.411765  0.32549      1.0       1.0       1.0\n",
       " 1.0       0.741176  0.419608  0.396078  …  1.0       1.0       1.0\n",
       " 0.984314  0.607843  0.388235  0.419608     1.0       1.0       1.0\n",
       " 0.968627  0.541176  0.321569  0.356863     1.0       1.0       1.0\n",
       " ⋮                                       ⋱            ⋮         \n",
       " 0.321569  0.282353  0.298039  0.427451  …  1.0       1.0       1.0\n",
       " 0.305882  0.313726  0.32549   0.290196     1.0       1.0       1.0\n",
       " 0.333333  0.32549   0.415686  0.345098     1.0       1.0       1.0\n",
       " 0.454902  0.305882  0.380392  0.431373     1.0       1.0       1.0\n",
       " 0.54902   0.305882  0.356863  0.4          0.996078  1.0       1.0\n",
       " 0.647059  0.329412  0.364706  0.411765  …  0.992157  0.996078  1.0\n",
       " 0.788235  0.321569  0.321569  0.372549     1.0       0.996078  1.0\n",
       " 0.85098   0.352941  0.305882  0.309804     0.92549   0.996078  1.0\n",
       " 0.917647  0.447059  0.329412  0.317647     0.568627  0.952941  1.0\n",
       " 0.980392  0.52549   0.282353  0.27451      0.215686  0.756863  1.0\n",
       " 1.0       0.780392  0.6       0.580392  …  0.145098  0.486275  0.968627\n",
       " 1.0       0.976471  0.952941  0.945098     0.572549  0.65098   0.933333\n",
       "\n",
       "[:, :, 2, 999] =\n",
       " 0.572549  0.72549   0.972549  0.980392  …  0.992157  0.992157  1.0\n",
       " 0.560784  0.337255  0.686275  0.933333     1.0       1.0       1.0\n",
       " 0.74902   0.313726  0.247059  0.537255     1.0       1.0       1.0\n",
       " 0.854902  0.45098   0.203922  0.168627     1.0       1.0       1.0\n",
       " 0.956863  0.603922  0.278431  0.172549     1.0       1.0       1.0\n",
       " 1.0       0.784314  0.372549  0.203922  …  1.0       1.0       1.0\n",
       " 1.0       0.87451   0.501961  0.286275     1.0       1.0       1.0\n",
       " 1.0       0.894118  0.541176  0.427451     1.0       1.0       1.0\n",
       " 1.0       0.85098   0.435294  0.333333     1.0       1.0       1.0\n",
       " 1.0       0.807843  0.368627  0.270588     1.0       1.0       1.0\n",
       " 1.0       0.721569  0.380392  0.337255  …  1.0       1.0       1.0\n",
       " 0.980392  0.584314  0.345098  0.360784     1.0       1.0       1.0\n",
       " 0.968627  0.521569  0.278431  0.301961     1.0       1.0       1.0\n",
       " ⋮                                       ⋱            ⋮         \n",
       " 0.313726  0.25098   0.247059  0.360784  …  1.0       1.0       1.0\n",
       " 0.294118  0.286275  0.27451   0.223529     1.0       1.0       1.0\n",
       " 0.32549   0.294118  0.364706  0.278431     1.0       1.0       1.0\n",
       " 0.443137  0.27451   0.333333  0.368627     1.0       1.0       1.0\n",
       " 0.52549   0.270588  0.305882  0.341176     0.996078  1.0       1.0\n",
       " 0.615686  0.290196  0.313726  0.356863  …  0.992157  0.996078  1.0\n",
       " 0.764706  0.290196  0.282353  0.32549      1.0       0.996078  1.0\n",
       " 0.835294  0.329412  0.27451   0.27451      0.92549   0.996078  1.0\n",
       " 0.909804  0.427451  0.305882  0.286275     0.568627  0.952941  1.0\n",
       " 0.980392  0.517647  0.266667  0.25098      0.215686  0.756863  1.0\n",
       " 1.0       0.776471  0.592157  0.568627  …  0.145098  0.486275  0.968627\n",
       " 1.0       0.976471  0.952941  0.945098     0.572549  0.65098   0.933333\n",
       "\n",
       "[:, :, 3, 999] =\n",
       " 0.572549  0.72549   0.972549  0.980392  …  0.992157  0.992157  1.0\n",
       " 0.560784  0.337255  0.686275  0.937255     1.0       1.0       1.0\n",
       " 0.752941  0.317647  0.25098   0.541176     1.0       1.0       1.0\n",
       " 0.862745  0.454902  0.211765  0.176471     1.0       1.0       1.0\n",
       " 0.968627  0.611765  0.290196  0.180392     1.0       1.0       1.0\n",
       " 1.0       0.792157  0.376471  0.203922  …  1.0       1.0       1.0\n",
       " 1.0       0.87451   0.494118  0.27451      1.0       1.0       1.0\n",
       " 1.0       0.894118  0.533333  0.419608     1.0       1.0       1.0\n",
       " 1.0       0.847059  0.423529  0.32549      1.0       1.0       1.0\n",
       " 1.0       0.807843  0.360784  0.258824     1.0       1.0       1.0\n",
       " 1.0       0.717647  0.368627  0.32549   …  1.0       1.0       1.0\n",
       " 0.984314  0.584314  0.345098  0.356863     1.0       1.0       1.0\n",
       " 0.968627  0.517647  0.282353  0.301961     1.0       1.0       1.0\n",
       " ⋮                                       ⋱            ⋮         \n",
       " 0.301961  0.227451  0.207843  0.313726  …  1.0       1.0       1.0\n",
       " 0.286275  0.262745  0.235294  0.176471     1.0       1.0       1.0\n",
       " 0.313726  0.270588  0.32549   0.227451     1.0       1.0       1.0\n",
       " 0.431373  0.254902  0.294118  0.317647     1.0       1.0       1.0\n",
       " 0.52549   0.254902  0.27451   0.294118     0.996078  1.0       1.0\n",
       " 0.623529  0.282353  0.290196  0.313726  …  0.992157  0.996078  1.0\n",
       " 0.768627  0.278431  0.25098   0.282353     1.0       0.996078  1.0\n",
       " 0.835294  0.313726  0.243137  0.227451     0.92549   0.996078  1.0\n",
       " 0.909804  0.411765  0.270588  0.239216     0.568627  0.952941  1.0\n",
       " 0.976471  0.498039  0.227451  0.2          0.215686  0.756863  1.0\n",
       " 1.0       0.760784  0.564706  0.529412  …  0.145098  0.486275  0.968627\n",
       " 1.0       0.972549  0.94902   0.937255     0.572549  0.65098   0.933333\n",
       "\n",
       "[:, :, 1, 1000] =\n",
       " 0.796078  0.788235  0.815686  0.866667  …  0.733333  0.741176  0.741176\n",
       " 0.752941  0.745098  0.788235  0.823529     0.709804  0.713726  0.733333\n",
       " 0.741176  0.756863  0.788235  0.792157     0.709804  0.733333  0.745098\n",
       " 0.752941  0.784314  0.831373  0.858824     0.694118  0.713726  0.72549\n",
       " 0.780392  0.811765  0.827451  0.854902     0.717647  0.717647  0.72549\n",
       " 0.776471  0.807843  0.807843  0.780392  …  0.658824  0.694118  0.662745\n",
       " 0.745098  0.756863  0.756863  0.705882     0.658824  0.682353  0.666667\n",
       " 0.729412  0.741176  0.717647  0.670588     0.654902  0.694118  0.690196\n",
       " 0.760784  0.74902   0.717647  0.666667     0.619608  0.682353  0.694118\n",
       " 0.733333  0.713726  0.721569  0.67451      0.588235  0.635294  0.682353\n",
       " 0.72549   0.72549   0.701961  0.611765  …  0.564706  0.619608  0.643137\n",
       " 0.713726  0.717647  0.65098   0.560784     0.537255  0.584314  0.611765\n",
       " 0.72549   0.694118  0.627451  0.552941     0.52549   0.545098  0.619608\n",
       " ⋮                                       ⋱            ⋮         \n",
       " 0.611765  0.627451  0.639216  0.556863  …  0.388235  0.407843  0.52549\n",
       " 0.654902  0.615686  0.647059  0.54902      0.372549  0.384314  0.501961\n",
       " 0.666667  0.662745  0.670588  0.584314     0.376471  0.403922  0.498039\n",
       " 0.647059  0.670588  0.670588  0.615686     0.411765  0.458824  0.478431\n",
       " 0.65098   0.654902  0.658824  0.603922     0.407843  0.458824  0.45098\n",
       " 0.623529  0.627451  0.662745  0.552941  …  0.403922  0.466667  0.486275\n",
       " 0.670588  0.658824  0.654902  0.603922     0.415686  0.435294  0.462745\n",
       " 0.619608  0.619608  0.627451  0.584314     0.431373  0.443137  0.454902\n",
       " 0.615686  0.607843  0.639216  0.643137     0.423529  0.490196  0.494118\n",
       " 0.654902  0.647059  0.654902  0.658824     0.396078  0.470588  0.482353\n",
       " 0.596078  0.682353  0.662745  0.615686  …  0.423529  0.447059  0.478431\n",
       " 0.662745  0.682353  0.647059  0.639216     0.403922  0.466667  0.517647\n",
       "\n",
       "[:, :, 2, 1000] =\n",
       " 0.807843  0.792157  0.819608  0.878431  …  0.760784  0.756863  0.756863\n",
       " 0.756863  0.74902   0.796078  0.835294     0.741176  0.741176  0.752941\n",
       " 0.756863  0.772549  0.803922  0.811765     0.737255  0.752941  0.756863\n",
       " 0.768627  0.796078  0.847059  0.866667     0.721569  0.737255  0.741176\n",
       " 0.784314  0.815686  0.839216  0.854902     0.717647  0.733333  0.741176\n",
       " 0.780392  0.815686  0.811765  0.780392  …  0.682353  0.698039  0.682353\n",
       " 0.760784  0.772549  0.756863  0.705882     0.678431  0.690196  0.686275\n",
       " 0.745098  0.74902   0.717647  0.654902     0.662745  0.705882  0.705882\n",
       " 0.764706  0.74902   0.721569  0.647059     0.603922  0.694118  0.705882\n",
       " 0.74902   0.729412  0.729412  0.654902     0.54902   0.639216  0.686275\n",
       " 0.733333  0.733333  0.705882  0.576471  …  0.509804  0.611765  0.65098\n",
       " 0.721569  0.721569  0.639216  0.509804     0.482353  0.576471  0.635294\n",
       " 0.729412  0.694118  0.6       0.494118     0.462745  0.509804  0.631373\n",
       " ⋮                                       ⋱            ⋮         \n",
       " 0.643137  0.647059  0.654902  0.54902   …  0.305882  0.341176  0.509804\n",
       " 0.670588  0.65098   0.662745  0.54902      0.305882  0.34902   0.494118\n",
       " 0.67451   0.678431  0.682353  0.588235     0.32549   0.388235  0.494118\n",
       " 0.662745  0.67451   0.678431  0.611765     0.364706  0.443137  0.494118\n",
       " 0.670588  0.670588  0.666667  0.607843     0.376471  0.447059  0.466667\n",
       " 0.647059  0.654902  0.666667  0.572549  …  0.392157  0.454902  0.486275\n",
       " 0.682353  0.662745  0.666667  0.639216     0.415686  0.439216  0.47451\n",
       " 0.647059  0.635294  0.65098   0.635294     0.431373  0.454902  0.466667\n",
       " 0.643137  0.631373  0.654902  0.662745     0.435294  0.486275  0.494118\n",
       " 0.662745  0.662745  0.670588  0.670588     0.431373  0.482353  0.494118\n",
       " 0.631373  0.682353  0.666667  0.647059  …  0.454902  0.470588  0.490196\n",
       " 0.666667  0.678431  0.658824  0.662745     0.443137  0.478431  0.513726\n",
       "\n",
       "[:, :, 3, 1000] =\n",
       " 0.815686  0.792157  0.819608  0.870588  …  0.760784  0.756863  0.760784\n",
       " 0.760784  0.756863  0.8       0.835294     0.741176  0.74902   0.752941\n",
       " 0.772549  0.788235  0.815686  0.827451     0.745098  0.752941  0.756863\n",
       " 0.784314  0.815686  0.854902  0.878431     0.729412  0.741176  0.745098\n",
       " 0.792157  0.827451  0.847059  0.854902     0.721569  0.729412  0.741176\n",
       " 0.792157  0.823529  0.819608  0.776471  …  0.682353  0.705882  0.690196\n",
       " 0.772549  0.776471  0.760784  0.694118     0.694118  0.698039  0.686275\n",
       " 0.756863  0.756863  0.721569  0.635294     0.662745  0.698039  0.701961\n",
       " 0.776471  0.752941  0.721569  0.619608     0.580392  0.690196  0.705882\n",
       " 0.760784  0.745098  0.729412  0.631373     0.498039  0.631373  0.686275\n",
       " 0.741176  0.737255  0.701961  0.533333  …  0.439216  0.588235  0.647059\n",
       " 0.72549   0.72549   0.623529  0.45098      0.411765  0.54902   0.639216\n",
       " 0.737255  0.686275  0.568627  0.431373     0.392157  0.462745  0.631373\n",
       " ⋮                                       ⋱            ⋮         \n",
       " 0.658824  0.658824  0.662745  0.537255  …  0.223529  0.278431  0.482353\n",
       " 0.666667  0.662745  0.662745  0.545098     0.231373  0.305882  0.478431\n",
       " 0.678431  0.678431  0.678431  0.580392     0.258824  0.352941  0.47451\n",
       " 0.666667  0.670588  0.682353  0.603922     0.309804  0.407843  0.486275\n",
       " 0.678431  0.67451   0.670588  0.603922     0.337255  0.419608  0.454902\n",
       " 0.658824  0.666667  0.666667  0.576471  …  0.356863  0.423529  0.462745\n",
       " 0.678431  0.666667  0.678431  0.658824     0.392157  0.411765  0.45098\n",
       " 0.654902  0.65098   0.670588  0.662745     0.419608  0.435294  0.443137\n",
       " 0.647059  0.647059  0.666667  0.670588     0.423529  0.462745  0.470588\n",
       " 0.670588  0.666667  0.67451   0.678431     0.427451  0.466667  0.478431\n",
       " 0.643137  0.678431  0.670588  0.658824  …  0.45098   0.458824  0.47451\n",
       " 0.658824  0.666667  0.658824  0.666667     0.447059  0.470588  0.494118"
      ]
     },
     "execution_count": 199,
     "metadata": {},
     "output_type": "execute_result"
    }
   ],
   "source": [
    "# Flux.Data.Dataloader\n",
    "# MLDataUtils.jl, MLDatasets.jl\n",
    "train[1][1]"
   ]
  },
  {
   "cell_type": "code",
   "execution_count": 200,
   "metadata": {},
   "outputs": [
    {
     "data": {
      "text/plain": [
       "Chain(Conv((5, 5), 3=>16, relu), MaxPool((2, 2), pad = (0, 0, 0, 0), stride = (2, 2)), Conv((5, 5), 16=>8, relu), MaxPool((2, 2), pad = (0, 0, 0, 0), stride = (2, 2)), #73, Dense(200, 120), Dense(120, 84), Dense(84, 10), softmax)"
      ]
     },
     "execution_count": 200,
     "metadata": {},
     "output_type": "execute_result"
    }
   ],
   "source": [
    "m = Chain(\n",
    "  Conv((5,5), 3=>16, relu),\n",
    "  MaxPool((2,2)),\n",
    "  Conv((5,5), 16=>8, relu),\n",
    "  MaxPool((2,2)),\n",
    "  x -> reshape(x, :, size(x, 4)),\n",
    "  Dense(200, 120),\n",
    "  Dense(120, 84),\n",
    "  Dense(84, 10),\n",
    "  softmax) |> gpu"
   ]
  },
  {
   "cell_type": "markdown",
   "metadata": {},
   "source": [
    "We will use a crossentropy loss and an Momentum optimiser here. Crossentropy will be a\n",
    "good option when it comes to working with mulitple independent classes. Momentum gradually\n",
    "lowers the learning rate as we proceed with the training. It helps maintain a bit of\n",
    "adaptivity in our optimisation, preventing us from over shooting from our desired destination."
   ]
  },
  {
   "cell_type": "markdown",
   "metadata": {},
   "source": [
    "$$ y\\hat = model(x) $$"
   ]
  },
  {
   "cell_type": "code",
   "execution_count": 202,
   "metadata": {},
   "outputs": [
    {
     "data": {
      "text/plain": [
       "Momentum(0.01, 0.9, IdDict{Any,Any}())"
      ]
     },
     "execution_count": 202,
     "metadata": {},
     "output_type": "execute_result"
    }
   ],
   "source": [
    "using Flux: crossentropy, Momentum\n",
    "\n",
    "loss(x, y) = sum(crossentropy(m(x), y))\n",
    "opt = Momentum(0.01)"
   ]
  },
  {
   "cell_type": "markdown",
   "metadata": {},
   "source": [
    "We can start writing our train loop where we will keep track of some basic accuracy\n",
    "numbers about our model. We can define an `accuracy` function for it like so."
   ]
  },
  {
   "cell_type": "code",
   "execution_count": 205,
   "metadata": {},
   "outputs": [
    {
     "data": {
      "text/plain": [
       "accuracy (generic function with 1 method)"
      ]
     },
     "execution_count": 205,
     "metadata": {},
     "output_type": "execute_result"
    }
   ],
   "source": [
    "accuracy(x, y) = mean(onecold(cpu(m(x)), 1:10) .== onecold(cpu(y), 1:10))"
   ]
  },
  {
   "cell_type": "markdown",
   "metadata": {},
   "source": [
    "## Training\n",
    "-----------"
   ]
  },
  {
   "cell_type": "markdown",
   "metadata": {},
   "source": [
    "Training is where we do a bunch of the interesting operations we defined earlier,\n",
    "and see what our net is capable of. We will loop over the dataset 10 times and\n",
    "feed the inputs to the neural network and optimise."
   ]
  },
  {
   "cell_type": "code",
   "execution_count": 208,
   "metadata": {},
   "outputs": [
    {
     "name": "stdout",
     "output_type": "stream",
     "text": [
      "accuracy(valX, valY) = 0.523\n",
      "accuracy(valX, valY) = 0.521\n",
      "accuracy(valX, valY) = 0.526\n",
      "accuracy(valX, valY) = 0.539\n",
      "accuracy(valX, valY) = 0.539\n",
      "accuracy(valX, valY) = 0.542\n",
      "accuracy(valX, valY) = 0.555\n",
      "accuracy(valX, valY) = 0.565\n",
      "accuracy(valX, valY) = 0.552\n",
      "accuracy(valX, valY) = 0.559\n"
     ]
    }
   ],
   "source": [
    "# Flux.train!(loss, ps, data, opt, cb = (...))\n",
    "\n",
    "\n",
    "epochs = 10\n",
    "\n",
    "for epoch = 1:epochs\n",
    "  for d in train\n",
    "    gs = gradient(params(m)) do\n",
    "      l = loss(d...)\n",
    "    end\n",
    "    update!(opt, params(m), gs)\n",
    "  end\n",
    "  @show accuracy(valX, valY)\n",
    "end"
   ]
  },
  {
   "cell_type": "markdown",
   "metadata": {},
   "source": [
    "Seeing our training routine unfold gives us an idea of how the network learnt the\n",
    "This is not bad for a small hand-written network, trained for a limited time."
   ]
  },
  {
   "cell_type": "markdown",
   "metadata": {},
   "source": [
    "Training on a GPU\n",
    "-----------------"
   ]
  },
  {
   "cell_type": "markdown",
   "metadata": {},
   "source": [
    "The `gpu` functions you see sprinkled through this bit of the code tell Flux to move\n",
    "these entities to an available GPU, and subsequently train on it. No extra faffing\n",
    "about required! The same bit of code would work on any hardware with some small\n",
    "annotations like you saw here."
   ]
  },
  {
   "cell_type": "markdown",
   "metadata": {},
   "source": [
    "## Testing the Network\n",
    "----------------------"
   ]
  },
  {
   "cell_type": "markdown",
   "metadata": {},
   "source": [
    "We have trained the network for 100 passes over the training dataset. But we need to\n",
    "check if the network has learnt anything at all."
   ]
  },
  {
   "cell_type": "markdown",
   "metadata": {},
   "source": [
    "We will check this by predicting the class label that the neural network outputs, and\n",
    "checking it against the ground-truth. If the prediction is correct, we add the sample\n",
    "to the list of correct predictions. This will be done on a yet unseen section of data."
   ]
  },
  {
   "cell_type": "markdown",
   "metadata": {},
   "source": [
    "Okay, first step. Let us perform the exact same preprocessing on this set, as we did\n",
    "on our training set."
   ]
  },
  {
   "cell_type": "code",
   "execution_count": 209,
   "metadata": {},
   "outputs": [
    {
     "data": {
      "text/plain": [
       "10-element Array{Tuple{CUDA.CuArray{Float32,4},Flux.OneHotMatrix{CUDA.CuArray{Flux.OneHotVector,1}}},1}:\n",
       " ([0.61960787 0.62352943 … 0.49411765 0.45490196; 0.59607846 0.5921569 … 0.49019608 0.46666667; … ; 0.23921569 0.19215687 … 0.11372549 0.078431375; 0.21176471 0.21960784 … 0.13333334 0.08235294]\n",
       "\n",
       "[0.4392157 0.43529412 … 0.35686275 0.33333334; 0.4392157 0.43137255 … 0.35686275 0.34509805; … ; 0.45490196 0.4 … 0.32156864 0.2509804; 0.41960785 0.4117647 … 0.32941177 0.2627451]\n",
       "\n",
       "[0.19215687 0.18431373 … 0.14117648 0.12941177; 0.2 0.15686275 … 0.1254902 0.13333334; … ; 0.65882355 0.5803922 … 0.49411765 0.41960785; 0.627451 0.58431375 … 0.5058824 0.43137255]\n",
       "\n",
       "[0.92156863 0.90588236 … 0.9137255 0.9098039; 0.93333334 0.92156863 … 0.9254902 0.92156863; … ; 0.32156864 0.18039216 … 0.7254902 0.73333335; 0.33333334 0.24313726 … 0.7058824 0.7294118]\n",
       "\n",
       "[0.92156863 0.90588236 … 0.9137255 0.9098039; 0.93333334 0.92156863 … 0.9254902 0.92156863; … ; 0.3764706 0.22352941 … 0.78431374 0.7921569; 0.39607844 0.29411766 … 0.7647059 0.78431374]\n",
       "\n",
       "[0.92156863 0.90588236 … 0.9137255 0.9098039; 0.93333334 0.92156863 … 0.9254902 0.92156863; … ; 0.32156864 0.14117648 … 0.76862746 0.78431374; 0.3254902 0.1882353 … 0.7490196 0.78039217]\n",
       "\n",
       "[0.61960787 0.61960787 … 0.92941177 0.93333334; 0.6666667 0.6745098 … 0.9647059 0.9647059; … ; 0.09019608 0.105882354 … 0.015686275 0.019607844; 0.10980392 0.11764706 … 0.015686275 0.02745098]\n",
       "\n",
       "[0.74509805 0.73333335 … 0.9372549 0.94509804; 0.78431374 0.78039217 … 0.9647059 0.96862745; … ; 0.13333334 0.14901961 … 0.023529412 0.02745098; 0.16078432 0.16862746 … 0.019607844 0.03137255]\n",
       "\n",
       "[0.87058824 0.85490197 … 0.9529412 0.9647059; 0.8980392 0.8862745 … 0.98039216 0.9843137; … ; 0.15294118 0.16862746 … 0.011764706 0.011764706; 0.18431373 0.19607843 … 0.011764706 0.02745098]\n",
       "\n",
       "...\n",
       "\n",
       "[0.40392157 0.4862745 … 0.039215688 0.05882353; 0.63529414 0.47843137 … 0.07058824 0.043137256; … ; 0.49019608 0.48235294 … 0.20392157 0.34117648; 0.4745098 0.46666667 … 0.20784314 0.2627451]\n",
       "\n",
       "[0.4862745 0.58431375 … 0.05882353 0.07450981; 0.6862745 0.5372549 … 0.08627451 0.047058824; … ; 0.48235294 0.47843137 … 0.15294118 0.21960784; 0.46666667 0.45882353 … 0.1882353 0.16470589]\n",
       "\n",
       "[0.39607844 0.47058824 … 0.03529412 0.050980393; 0.5803922 0.41960785 … 0.0627451 0.03137255; … ; 0.5254902 0.5176471 … 0.13725491 0.16862746; 0.5137255 0.5058824 … 0.19607843 0.14509805]\n",
       "\n",
       "[0.3019608 0.28235295 … 0.21960784 0.21960784; 0.2901961 0.2784314 … 0.22352941 0.21176471; … ; 0.27450982 0.3019608 … 0.15294118 0.1254902; 0.1882353 0.22352941 … 0.09411765 0.13725491]\n",
       "\n",
       "[0.44705883 0.43529412 … 0.22745098 0.22745098; 0.41960785 0.3647059 … 0.23529412 0.22745098; … ; 0.34901962 0.34901962 … 0.15294118 0.15294118; 0.28627452 0.2784314 … 0.105882354 0.17254902]\n",
       "\n",
       "[0.12941177 0.09803922 … 0.16470589 0.15686275; 0.13333334 0.12156863 … 0.1764706 0.15294118; … ; 0.101960786 0.1254902 … 0.13725491 0.10980392; 0.047058824 0.08235294 … 0.08627451 0.11764706]\n",
       "\n",
       "[0.6862745 0.6901961 … 0.74509805 0.7372549; 0.69411767 0.7019608 … 0.7529412 0.7490196; … ; 0.45490196 0.43137255 … 0.30588236 0.39215687; 0.44313726 0.41568628 … 0.2784314 0.3647059]\n",
       "\n",
       "[0.7058824 0.70980394 … 0.8 0.7921569; 0.7137255 0.72156864 … 0.80784315 0.8039216; … ; 0.4509804 0.43529412 … 0.3647059 0.45882353; 0.4392157 0.41960785 … 0.33333334 0.43137255]\n",
       "\n",
       "[0.68235296 0.6862745 … 0.8117647 0.8039216; 0.6901961 0.69803923 … 0.81960785 0.8156863; … ; 0.48235294 0.4745098 … 0.44313726 0.54901963; 0.46666667 0.45882353 … 0.40392157 0.5137255], [0 0 … 0 0; 0 0 … 0 0; … ; 0 1 … 0 1; 0 0 … 0 0])\n",
       " ([0.07058824 0.078431375 … 0.29411766 0.40392157; 0.3019608 0.18431373 … 0.38431373 0.35686275; … ; 0.4 0.4 … 0.13725491 0.13333334; 0.39607844 0.4 … 0.13725491 0.14509805]\n",
       "\n",
       "[0.06666667 0.078431375 … 0.21568628 0.28627452; 0.28235295 0.1882353 … 0.27058825 0.24705882; … ; 0.3019608 0.3019608 … 0.105882354 0.101960786; 0.29411766 0.3019608 … 0.10980392 0.11372549]\n",
       "\n",
       "[0.050980393 0.05882353 … 0.16078432 0.20784314; 0.2509804 0.17254902 … 0.20392157 0.18431373; … ; 0.22352941 0.22352941 … 0.09411765 0.09411765; 0.21568628 0.22352941 … 0.101960786 0.105882354]\n",
       "\n",
       "[0.15686275 0.18039216 … 0.08627451 0.08235294; 0.18431373 0.19607843 … 0.08235294 0.08627451; … ; 0.078431375 0.11764706 … 0.16470589 0.16078432; 0.08235294 0.09019608 … 0.14901961 0.14901961]\n",
       "\n",
       "[0.1882353 0.21176471 … 0.14117648 0.14117648; 0.2 0.22352941 … 0.13725491 0.13333334; … ; 0.09803922 0.14901961 … 0.2 0.20392157; 0.101960786 0.1254902 … 0.1882353 0.1882353]\n",
       "\n",
       "[0.18431373 0.21568628 … 0.14117648 0.12941177; 0.19215687 0.22745098 … 0.13725491 0.1254902; … ; 0.07450981 0.10980392 … 0.15686275 0.15686275; 0.078431375 0.08627451 … 0.14509805 0.14117648]\n",
       "\n",
       "[0.94509804 0.9137255 … 0.6862745 0.6627451; 0.9490196 0.93333334 … 0.61960787 0.60784316; … ; 0.48235294 0.41960785 … 0.24705882 0.23921569; 0.4392157 0.3882353 … 0.2627451 0.23529412]\n",
       "\n",
       "[0.95686275 0.9411765 … 0.67058825 0.63529414; 0.9647059 0.9411765 … 0.60784316 0.58431375; … ; 0.44705883 0.39215687 … 0.24705882 0.23529412; 0.40392157 0.3647059 … 0.2627451 0.23137255]\n",
       "\n",
       "[0.96862745 0.9529412 … 0.65882355 0.62352943; 0.96862745 0.9529412 … 0.5921569 0.56078434; … ; 0.41960785 0.37254903 … 0.25882354 0.25490198; 0.3764706 0.34509805 … 0.26666668 0.24313726]\n",
       "\n",
       "...\n",
       "\n",
       "[1.0 1.0 … 1.0 1.0; 1.0 0.99215686 … 0.99607843 0.99607843; … ; 1.0 0.99607843 … 1.0 1.0; 1.0 0.99607843 … 1.0 1.0]\n",
       "\n",
       "[1.0 1.0 … 1.0 1.0; 1.0 0.99215686 … 0.99607843 0.99607843; … ; 1.0 0.99607843 … 1.0 1.0; 1.0 0.99607843 … 1.0 1.0]\n",
       "\n",
       "[1.0 1.0 … 1.0 1.0; 1.0 0.99215686 … 0.99607843 0.99607843; … ; 1.0 0.99607843 … 1.0 1.0; 1.0 0.99607843 … 1.0 1.0]\n",
       "\n",
       "[0.20392157 0.29411766 … 0.1254902 0.11764706; 0.25490198 0.32156864 … 0.105882354 0.10980392; … ; 0.3372549 0.25490198 … 0.20392157 0.1764706; 0.42352942 0.29803923 … 0.19215687 0.18039216]\n",
       "\n",
       "[0.2627451 0.31764707 … 0.16862746 0.16470589; 0.30588236 0.3529412 … 0.16078432 0.16862746; … ; 0.35686275 0.29411766 … 0.2509804 0.22745098; 0.39607844 0.34509805 … 0.23529412 0.24313726]\n",
       "\n",
       "[0.22352941 0.25882354 … 0.1764706 0.16862746; 0.23529412 0.2509804 … 0.17254902 0.17254902; … ; 0.24705882 0.23921569 … 0.22352941 0.18431373; 0.28235295 0.26666668 … 0.2 0.18039216]\n",
       "\n",
       "[0.87058824 0.85882354 … 0.85882354 0.8627451; 0.87058824 0.85490197 … 0.85882354 0.85490197; … ; 0.8745098 0.85490197 … 0.85882354 0.85882354; 0.87058824 0.85882354 … 0.85882354 0.85490197]\n",
       "\n",
       "[0.6117647 0.6 … 0.6039216 0.60784316; 0.60784316 0.59607846 … 0.6 0.6; … ; 0.6117647 0.6 … 0.6 0.6; 0.6117647 0.6 … 0.6039216 0.6039216]\n",
       "\n",
       "[0.99215686 0.98039216 … 0.98039216 0.98039216; 0.99215686 0.9882353 … 0.9882353 0.9764706; … ; 1.0 0.9764706 … 0.9843137 0.99215686; 0.99607843 0.99215686 … 0.9764706 0.972549], [0 1 … 0 0; 0 0 … 0 0; … ; 0 0 … 1 0; 0 0 … 0 0])\n",
       " ([0.38431373 0.6117647 … 0.3764706 0.3647059; 0.25490198 0.3372549 … 0.07058824 0.015686275; … ; 0.5058824 0.54509807 … 0.40392157 0.39607844; 0.5058824 0.53333336 … 0.38431373 0.3529412]\n",
       "\n",
       "[0.3882353 0.59607846 … 0.4 0.36862746; 0.24705882 0.32156864 … 0.05882353 0.019607844; … ; 0.48235294 0.5137255 … 0.44313726 0.43529412; 0.48235294 0.5019608 … 0.42352942 0.39215687]\n",
       "\n",
       "[0.53333336 0.7294118 … 0.40392157 0.3529412; 0.39215687 0.3529412 … 0.07058824 0.015686275; … ; 0.40784314 0.44313726 … 0.3882353 0.3882353; 0.4117647 0.43137255 … 0.38431373 0.3529412]\n",
       "\n",
       "[0.8039216 0.8039216 … 0.80784315 0.67058825; 0.8117647 0.81960785 … 0.69803923 0.5254902; … ; 0.31764707 0.3137255 … 0.6431373 0.84313726; 0.29411766 0.26666668 … 0.69411767 0.81960785]\n",
       "\n",
       "[0.78431374 0.7764706 … 0.8156863 0.6745098; 0.7882353 0.7921569 … 0.68235296 0.50980395; … ; 0.19607843 0.1764706 … 0.64705884 0.8392157; 0.16862746 0.14117648 … 0.6901961 0.8156863]\n",
       "\n",
       "[0.6862745 0.6784314 … 0.69803923 0.54901963; 0.69411767 0.69411767 … 0.5686275 0.40392157; … ; 0.101960786 0.0627451 … 0.5372549 0.7294118; 0.07058824 0.050980393 … 0.58431375 0.7137255]\n",
       "\n",
       "[0.45490196 0.4117647 … 0.25882354 0.31764707; 0.37254903 0.32941177 … 0.23137255 0.2784314; … ; 0.16862746 0.18039216 … 0.44705883 0.29803923; 0.18039216 0.23137255 … 0.3529412 0.27058825]\n",
       "\n",
       "[0.49019608 0.45882353 … 0.3882353 0.43137255; 0.46666667 0.4392157 … 0.40784314 0.44313726; … ; 0.1882353 0.2 … 0.39607844 0.27450982; 0.21568628 0.26666668 … 0.3254902 0.2509804]\n",
       "\n",
       "[0.59607846 0.5882353 … 0.5254902 0.5764706; 0.5686275 0.5529412 … 0.5137255 0.5294118; … ; 0.13725491 0.14901961 … 0.3529412 0.25882354; 0.15294118 0.2 … 0.28235295 0.22745098]\n",
       "\n",
       "...\n",
       "\n",
       "[0.17254902 0.1764706 … 0.16470589 0.17254902; 0.19607843 0.1882353 … 0.17254902 0.18039216; … ; 0.105882354 0.105882354 … 0.30980393 0.3019608; 0.050980393 0.047058824 … 0.3137255 0.30588236]\n",
       "\n",
       "[0.13725491 0.14117648 … 0.16470589 0.16862746; 0.16862746 0.16078432 … 0.16078432 0.16470589; … ; 0.11372549 0.11372549 … 0.31764707 0.30980393; 0.07058824 0.06666667 … 0.32156864 0.3137255]\n",
       "\n",
       "[0.105882354 0.10980392 … 0.12941177 0.14901961; 0.12941177 0.12156863 … 0.12941177 0.14509805; … ; 0.09803922 0.09803922 … 0.3137255 0.30588236; 0.0627451 0.05490196 … 0.31764707 0.30980393]\n",
       "\n",
       "[0.8 0.7882353 … 0.68235296 0.6627451; 0.8039216 0.78039217 … 0.67058825 0.6313726; … ; 0.42352942 0.36078432 … 0.3764706 0.37254903; 0.35686275 0.3372549 … 0.36078432 0.4]\n",
       "\n",
       "[0.84313726 0.83137256 … 0.70980394 0.6901961; 0.84705883 0.81960785 … 0.69411767 0.654902; … ; 0.34509805 0.26666668 … 0.29803923 0.2784314; 0.2784314 0.2509804 … 0.28627452 0.31764707]\n",
       "\n",
       "[0.6745098 0.6627451 … 0.54509807 0.5254902; 0.68235296 0.65882355 … 0.54509807 0.5058824; … ; 0.3019608 0.21960784 … 0.21176471 0.19607843; 0.21568628 0.18039216 … 0.20392157 0.24313726]\n",
       "\n",
       "[0.5647059 0.5686275 … 0.43529412 0.46666667; 0.5294118 0.53333336 … 0.40784314 0.5254902; … ; 0.36862746 0.34117648 … 0.48235294 0.5019608; 0.4 0.3764706 … 0.47058824 0.5764706]\n",
       "\n",
       "[0.8980392 0.8862745 … 0.56078434 0.6039216; 0.8901961 0.8784314 … 0.5294118 0.6666667; … ; 0.47058824 0.4392157 … 0.57254905 0.58431375; 0.46666667 0.43137255 … 0.58431375 0.68235296]\n",
       "\n",
       "[0.53333336 0.5568628 … 0.44313726 0.44705883; 0.4627451 0.45490196 … 0.41568628 0.5058824; … ; 0.3529412 0.33333334 … 0.4862745 0.49803922; 0.3647059 0.34901962 … 0.48235294 0.5803922], [0 0 … 0 0; 1 0 … 0 0; … ; 0 0 … 0 0; 0 0 … 0 0])\n",
       " ([0.06666667 0.06666667 … 0.08235294 0.078431375; 0.08235294 0.08235294 … 0.09803922 0.09019608; … ; 0.3254902 0.3254902 … 0.35686275 0.34509805; 0.31764707 0.31764707 … 0.36078432 0.34509805]\n",
       "\n",
       "[0.07450981 0.07450981 … 0.09019608 0.08235294; 0.09411765 0.09019608 … 0.09803922 0.09019608; … ; 0.3254902 0.3254902 … 0.36862746 0.35686275; 0.31764707 0.31764707 … 0.3764706 0.36078432]\n",
       "\n",
       "[0.023529412 0.023529412 … 0.023529412 0.019607844; 0.03137255 0.02745098 … 0.02745098 0.019607844; … ; 0.1882353 0.18431373 … 0.21568628 0.21176471; 0.18431373 0.1764706 … 0.22745098 0.21960784]\n",
       "\n",
       "[0.3882353 0.28235295 … 0.09803922 0.09411765; 0.36078432 0.25882354 … 0.07450981 0.11764706; … ; 0.90588236 0.92156863 … 0.58431375 0.60784316; 0.7019608 0.83137256 … 0.7490196 0.7529412]\n",
       "\n",
       "[0.38431373 0.3019608 … 0.1254902 0.13333334; 0.37254903 0.3019608 … 0.09411765 0.15294118; … ; 0.8509804 0.85490197 … 0.5019608 0.53333336; 0.67058825 0.7882353 … 0.7254902 0.7254902]\n",
       "\n",
       "[0.3647059 0.24313726 … 0.07450981 0.05490196; 0.3372549 0.24313726 … 0.050980393 0.07450981; … ; 0.7882353 0.8 … 0.48235294 0.50980395; 0.5764706 0.7137255 … 0.68235296 0.6862745]\n",
       "\n",
       "[0.8156863 0.78039217 … 0.5568628 0.49803922; 0.7647059 0.7529412 … 0.37254903 0.21568628; … ; 0.8117647 0.8156863 … 0.7490196 0.7254902; 0.8235294 0.78039217 … 0.7921569 0.7764706]\n",
       "\n",
       "[0.8117647 0.77254903 … 0.5058824 0.47058824; 0.75686276 0.7411765 … 0.3137255 0.20784314; … ; 0.7019608 0.6862745 … 0.5803922 0.5686275; 0.7019608 0.6431373 … 0.61960787 0.63529414]\n",
       "\n",
       "[0.84705883 0.8117647 … 0.4627451 0.4509804; 0.78431374 0.76862746 … 0.29803923 0.20784314; … ; 0.6627451 0.6509804 … 0.5294118 0.53333336; 0.6666667 0.6117647 … 0.5764706 0.6039216]\n",
       "\n",
       "...\n",
       "\n",
       "[0.5254902 0.50980395 … 0.23921569 0.28235295; 0.69411767 0.6039216 … 0.15294118 0.18431373; … ; 0.38431373 0.36078432 … 0.58431375 0.7058824; 0.36078432 0.34117648 … 0.7294118 0.8039216]\n",
       "\n",
       "[0.49019608 0.47843137 … 0.2627451 0.30588236; 0.65882355 0.5686275 … 0.2 0.23137255; … ; 0.53333336 0.5372549 … 0.5764706 0.6862745; 0.49803922 0.5058824 … 0.7294118 0.8039216]\n",
       "\n",
       "[0.45882353 0.43137255 … 0.1764706 0.21960784; 0.6313726 0.53333336 … 0.105882354 0.13725491; … ; 0.34117648 0.34901962 … 0.68235296 0.78039217; 0.3254902 0.3372549 … 0.78039217 0.8509804]\n",
       "\n",
       "[0.4745098 0.44705883 … 0.2784314 0.29411766; 0.44705883 0.4392157 … 0.23921569 0.26666668; … ; 0.75686276 0.77254903 … 0.21568628 0.25882354; 0.78431374 0.8117647 … 0.23137255 0.25490198]\n",
       "\n",
       "[0.43529412 0.4117647 … 0.27450982 0.29411766; 0.4117647 0.40392157 … 0.23137255 0.26666668; … ; 0.70980394 0.7254902 … 0.21960784 0.25882354; 0.7372549 0.76862746 … 0.23529412 0.25882354]\n",
       "\n",
       "[0.42352942 0.3882353 … 0.3019608 0.32941177; 0.4 0.38039216 … 0.25490198 0.29411766; … ; 0.7254902 0.7411765 … 0.23921569 0.2901961; 0.7372549 0.76862746 … 0.2509804 0.28235295]\n",
       "\n",
       "[0.74509805 0.7372549 … 0.7372549 0.74509805; 0.7254902 0.7137255 … 0.7176471 0.7294118; … ; 0.43137255 0.4 … 0.3764706 0.39215687; 0.4627451 0.4509804 … 0.40784314 0.40784314]\n",
       "\n",
       "[0.8352941 0.8117647 … 0.827451 0.8392157; 0.8352941 0.8117647 … 0.827451 0.8352941; … ; 0.3882353 0.3529412 … 0.34901962 0.3647059; 0.42745098 0.41568628 … 0.3882353 0.3882353]\n",
       "\n",
       "[0.90588236 0.89411765 … 0.8980392 0.90588236; 0.8980392 0.8901961 … 0.8901961 0.9019608; … ; 0.3254902 0.28627452 … 0.2901961 0.3019608; 0.3882353 0.36862746 … 0.34509805 0.34117648], [0 0 … 0 0; 0 1 … 0 0; … ; 0 0 … 0 0; 0 0 … 0 1])\n",
       " ([0.47843137 0.47843137 … 0.5647059 0.44313726; 0.4862745 0.4627451 … 0.5411765 0.4509804; … ; 0.7411765 0.73333335 … 0.654902 0.6313726; 0.69803923 0.7058824 … 0.6745098 0.67058825]\n",
       "\n",
       "[0.58431375 0.5568628 … 0.3882353 0.32941177; 0.59607846 0.54509807 … 0.37254903 0.29803923; … ; 0.7490196 0.7411765 … 0.6509804 0.627451; 0.7137255 0.7176471 … 0.67058825 0.6666667]\n",
       "\n",
       "[0.7176471 0.6627451 … 0.32941177 0.30980393; 0.7294118 0.63529414 … 0.3529412 0.29803923; … ; 0.7176471 0.69411767 … 0.57254905 0.54901963; 0.6901961 0.6784314 … 0.5921569 0.5882353]\n",
       "\n",
       "[0.34901962 0.21960784 … 0.07450981 0.21960784; 0.40784314 0.19607843 … 0.039215688 0.1254902; … ; 0.5411765 0.5176471 … 0.26666668 0.21960784; 0.49803922 0.5294118 … 0.2784314 0.2627451]\n",
       "\n",
       "[0.24313726 0.1764706 … 0.0627451 0.20784314; 0.2509804 0.12941177 … 0.023529412 0.10980392; … ; 0.5568628 0.56078434 … 0.2509804 0.21960784; 0.5294118 0.6 … 0.23529412 0.23921569]\n",
       "\n",
       "[0.23529412 0.16078432 … 0.047058824 0.1882353; 0.24313726 0.10980392 … 0.019607844 0.105882354; … ; 0.40784314 0.38431373 … 0.21960784 0.18039216; 0.37254903 0.41568628 … 0.19607843 0.2]\n",
       "\n",
       "[0.8901961 0.9019608 … 0.90588236 0.91764706; 0.9019608 0.9137255 … 0.8980392 0.91764706; … ; 0.23137255 0.24705882 … 0.3372549 0.30980393; 0.2 0.20784314 … 0.29803923 0.28235295]\n",
       "\n",
       "[0.8784314 0.8862745 … 0.8745098 0.8862745; 0.87058824 0.8784314 … 0.85490197 0.87058824; … ; 0.2901961 0.30588236 … 0.41568628 0.3882353; 0.25882354 0.26666668 … 0.36078432 0.34901962]\n",
       "\n",
       "[0.81960785 0.84313726 … 0.79607844 0.827451; 0.7764706 0.79607844 … 0.7490196 0.7921569; … ; 0.3137255 0.31764707 … 0.40784314 0.39607844; 0.28235295 0.2784314 … 0.34117648 0.3529412]\n",
       "\n",
       "...\n",
       "\n",
       "[0.8392157 0.84705883 … 0.99215686 0.9882353; 0.8627451 0.8784314 … 1.0 1.0; … ; 0.74509805 0.76862746 … 0.44313726 0.5254902; 0.7137255 0.7372549 … 0.39215687 0.5019608]\n",
       "\n",
       "[0.8745098 0.8784314 … 0.99215686 0.99215686; 0.8980392 0.9098039 … 1.0 1.0; … ; 0.76862746 0.79607844 … 0.3529412 0.45490196; 0.73333335 0.7607843 … 0.32156864 0.4392157]\n",
       "\n",
       "[0.9098039 0.9137255 … 0.99215686 0.9882353; 0.93333334 0.94509804 … 1.0 1.0; … ; 0.79607844 0.827451 … 0.26666668 0.36862746; 0.7529412 0.78431374 … 0.25882354 0.37254903]\n",
       "\n",
       "[0.09411765 0.105882354 … 0.09019608 0.11372549; 0.101960786 0.09803922 … 0.07450981 0.101960786; … ; 0.20784314 0.28627452 … 0.47843137 0.47058824; 0.38431373 0.4862745 … 0.49803922 0.49411765]\n",
       "\n",
       "[0.105882354 0.11764706 … 0.06666667 0.09411765; 0.11372549 0.10980392 … 0.050980393 0.08235294; … ; 0.19215687 0.25490198 … 0.40784314 0.40392157; 0.34117648 0.42745098 … 0.41960785 0.41960785]\n",
       "\n",
       "[0.14117648 0.15294118 … 0.11372549 0.11764706; 0.14901961 0.14509805 … 0.09803922 0.105882354; … ; 0.19215687 0.24705882 … 0.38039216 0.38039216; 0.32156864 0.39607844 … 0.39215687 0.39215687]\n",
       "\n",
       "[0.4627451 0.46666667 … 0.5568628 0.6; 0.44705883 0.44313726 … 0.54901963 0.63529414; … ; 0.32941177 0.3372549 … 0.3137255 0.30588236; 0.34509805 0.32941177 … 0.3372549 0.32941177]\n",
       "\n",
       "[0.4117647 0.41568628 … 0.2509804 0.29411766; 0.39607844 0.39607844 … 0.25490198 0.35686275; … ; 0.3019608 0.30980393 … 0.2784314 0.26666668; 0.32941177 0.31764707 … 0.30588236 0.29411766]\n",
       "\n",
       "[0.3882353 0.39215687 … 0.07450981 0.11764706; 0.37254903 0.37254903 … 0.06666667 0.14901961; … ; 0.3019608 0.30980393 … 0.2509804 0.24705882; 0.27058825 0.25882354 … 0.27058825 0.2627451], [0 0 … 0 0; 0 0 … 0 1; … ; 1 0 … 0 0; 0 0 … 0 0])\n",
       " ([0.2 0.30588236 … 0.25882354 0.24705882; 0.50980395 0.7764706 … 0.22745098 0.21568628; … ; 0.7490196 0.7647059 … 0.7921569 0.77254903; 0.8 0.7921569 … 0.7176471 0.7764706]\n",
       "\n",
       "[0.25490198 0.34117648 … 0.2509804 0.2509804; 0.50980395 0.76862746 … 0.21960784 0.22352941; … ; 0.69803923 0.7137255 … 0.73333335 0.7176471; 0.7294118 0.7254902 … 0.654902 0.7176471]\n",
       "\n",
       "[0.28627452 0.3764706 … 0.21176471 0.20784314; 0.49411765 0.7529412 … 0.18039216 0.18039216; … ; 0.6 0.6156863 … 0.63529414 0.61960787; 0.59607846 0.59607846 … 0.5686275 0.627451]\n",
       "\n",
       "[0.64705884 0.54509807 … 0.34509805 0.49019608; 0.67058825 0.68235296 … 0.4745098 0.5294118; … ; 0.28235295 0.4627451 … 0.25882354 0.34117648; 0.45490196 0.45490196 … 0.2 0.27450982]\n",
       "\n",
       "[0.6392157 0.54509807 … 0.25882354 0.41568628; 0.6392157 0.6627451 … 0.39215687 0.44705883; … ; 0.3254902 0.49803922 … 0.27058825 0.34117648; 0.49803922 0.49019608 … 0.20392157 0.2627451]\n",
       "\n",
       "[0.45490196 0.3529412 … 0.1882353 0.36078432; 0.46666667 0.47843137 … 0.30588236 0.37254903; … ; 0.16078432 0.30980393 … 0.14509805 0.24705882; 0.3137255 0.29803923 … 0.105882354 0.16862746]\n",
       "\n",
       "[0.58431375 0.58431375 … 0.5882353 0.58431375; 0.5882353 0.5882353 … 0.5921569 0.58431375; … ; 0.12941177 0.18039216 … 0.08627451 0.08627451; 0.12941177 0.12941177 … 0.09803922 0.105882354]\n",
       "\n",
       "[0.59607846 0.59607846 … 0.6 0.59607846; 0.6 0.6 … 0.6039216 0.59607846; … ; 0.22745098 0.2901961 … 0.14509805 0.17254902; 0.23137255 0.21960784 … 0.14901961 0.16470589]\n",
       "\n",
       "[0.6156863 0.6156863 … 0.61960787 0.6156863; 0.61960787 0.61960787 … 0.62352943 0.6156863; … ; 0.34117648 0.39607844 … 0.28235295 0.30588236; 0.34901962 0.34509805 … 0.28627452 0.30980393]\n",
       "\n",
       "...\n",
       "\n",
       "[0.74509805 0.7372549 … 0.75686276 0.7490196; 0.75686276 0.7529412 … 0.7607843 0.7529412; … ; 0.8117647 0.8117647 … 0.84705883 0.84705883; 0.7647059 0.7647059 … 0.8392157 0.8352941]\n",
       "\n",
       "[0.7254902 0.7176471 … 0.7647059 0.7607843; 0.7372549 0.73333335 … 0.76862746 0.7607843; … ; 0.68235296 0.68235296 … 0.7254902 0.72156864; 0.6431373 0.6392157 … 0.7176471 0.7137255]\n",
       "\n",
       "[0.70980394 0.7019608 … 0.7529412 0.74509805; 0.72156864 0.7176471 … 0.7529412 0.7490196; … ; 0.5254902 0.5254902 … 0.5568628 0.56078434; 0.49411765 0.49411765 … 0.54509807 0.54509807]\n",
       "\n",
       "[0.22745098 0.15294118 … 0.20784314 0.2627451; 0.18431373 0.16078432 … 0.19215687 0.28235295; … ; 0.48235294 0.5058824 … 0.5058824 0.49411765; 0.5019608 0.50980395 … 0.5058824 0.4862745]\n",
       "\n",
       "[0.23137255 0.16862746 … 0.20392157 0.23137255; 0.2 0.18431373 … 0.22745098 0.2901961; … ; 0.43529412 0.4509804 … 0.44705883 0.44705883; 0.45882353 0.45490196 … 0.44705883 0.44313726]\n",
       "\n",
       "[0.32156864 0.26666668 … 0.22745098 0.22745098; 0.3137255 0.3019608 … 0.27058825 0.31764707; … ; 0.4509804 0.46666667 … 0.46666667 0.4627451; 0.4745098 0.4745098 … 0.46666667 0.45882353]\n",
       "\n",
       "[0.30980393 0.30588236 … 0.29803923 0.29411766; 0.3019608 0.3019608 … 0.29803923 0.29411766; … ; 0.30588236 0.36078432 … 0.46666667 0.42745098; 0.2627451 0.3254902 … 0.49803922 0.44313726]\n",
       "\n",
       "[0.3529412 0.34901962 … 0.32156864 0.32156864; 0.34509805 0.34509805 … 0.32156864 0.32156864; … ; 0.30980393 0.3529412 … 0.49411765 0.45490196; 0.27450982 0.32941177 … 0.5176471 0.47843137]\n",
       "\n",
       "[0.44313726 0.4392157 … 0.4 0.39607844; 0.43529412 0.43137255 … 0.4 0.39607844; … ; 0.2627451 0.30588236 … 0.4392157 0.4117647; 0.22352941 0.28235295 … 0.44313726 0.40392157], [0 0 … 0 0; 0 0 … 0 0; … ; 0 0 … 0 0; 0 0 … 0 0])\n",
       " ([0.7882353 0.827451 … 0.7176471 0.7372549; 0.91764706 0.972549 … 0.77254903 0.6666667; … ; 0.08235294 0.050980393 … 0.21960784 0.41960785; 0.5803922 0.50980395 … 0.5058824 0.67058825]\n",
       "\n",
       "[0.7882353 0.827451 … 0.7019608 0.72156864; 0.91764706 0.972549 … 0.76862746 0.6627451; … ; 0.09019608 0.05882353 … 0.21960784 0.42352942; 0.58431375 0.50980395 … 0.5058824 0.67058825]\n",
       "\n",
       "[0.7882353 0.827451 … 0.7254902 0.7372549; 0.9254902 0.98039216 … 0.8039216 0.6784314; … ; 0.07058824 0.050980393 … 0.21960784 0.41960785; 0.57254905 0.50980395 … 0.5058824 0.67058825]\n",
       "\n",
       "[0.48235294 0.4745098 … 0.5882353 0.63529414; 0.48235294 0.4745098 … 0.7176471 0.6627451; … ; 0.4627451 0.45882353 … 0.44705883 0.43529412; 0.45490196 0.44313726 … 0.42745098 0.42745098]\n",
       "\n",
       "[0.87058824 0.8627451 … 0.84705883 0.85490197; 0.8901961 0.8784314 … 0.90588236 0.8627451; … ; 0.48235294 0.47843137 … 0.47058824 0.45882353; 0.4745098 0.4627451 … 0.4509804 0.4509804]\n",
       "\n",
       "[1.0 0.99607843 … 0.96862745 0.98039216; 0.9882353 0.98039216 … 0.9764706 0.972549; … ; 0.45882353 0.45490196 … 0.45490196 0.44313726; 0.4509804 0.4392157 … 0.43529412 0.43529412]\n",
       "\n",
       "[0.9764706 0.87058824 … 1.0 1.0; 0.9764706 0.8627451 … 1.0 1.0; … ; 0.85882354 0.87058824 … 0.28235295 0.5686275; 0.85490197 0.8666667 … 0.8235294 0.9647059]\n",
       "\n",
       "[0.9764706 0.87058824 … 1.0 1.0; 0.9764706 0.85490197 … 1.0 1.0; … ; 0.79607844 0.80784315 … 0.2509804 0.54901963; 0.7921569 0.8039216 … 0.8117647 0.9529412]\n",
       "\n",
       "[0.972549 0.85882354 … 1.0 1.0; 0.9647059 0.827451 … 1.0 1.0; … ; 0.41568628 0.42745098 … 0.22745098 0.52156866; 0.41568628 0.42352942 … 0.8039216 0.9490196]\n",
       "\n",
       "...\n",
       "\n",
       "[1.0 0.9882353 … 0.99215686 0.99215686; 1.0 1.0 … 1.0 1.0; … ; 1.0 0.99215686 … 1.0 1.0; 1.0 0.99607843 … 1.0 1.0]\n",
       "\n",
       "[1.0 0.9882353 … 0.99215686 0.99215686; 1.0 1.0 … 1.0 1.0; … ; 1.0 0.99215686 … 1.0 1.0; 1.0 0.99607843 … 1.0 1.0]\n",
       "\n",
       "[1.0 0.9882353 … 0.99215686 0.99215686; 1.0 1.0 … 1.0 1.0; … ; 1.0 0.99215686 … 1.0 1.0; 1.0 0.99607843 … 1.0 1.0]\n",
       "\n",
       "[0.3764706 0.36862746 … 0.27450982 0.26666668; 0.34509805 0.34509805 … 0.2509804 0.24705882; … ; 0.14509805 0.13725491 … 0.09803922 0.105882354; 0.13333334 0.13333334 … 0.08627451 0.101960786]\n",
       "\n",
       "[0.5411765 0.5294118 … 0.43529412 0.42745098; 0.50980395 0.5058824 … 0.41568628 0.4117647; … ; 0.23137255 0.22745098 … 0.20392157 0.1882353; 0.21568628 0.21568628 … 0.1882353 0.18039216]\n",
       "\n",
       "[0.7529412 0.7372549 … 0.6745098 0.6666667; 0.72156864 0.7176471 … 0.64705884 0.6431373; … ; 0.30588236 0.29411766 … 0.2509804 0.23921569; 0.28235295 0.28235295 … 0.23529412 0.22352941]\n",
       "\n",
       "[0.74509805 0.7490196 … 0.43529412 0.40392157; 0.7529412 0.75686276 … 0.41568628 0.4; … ; 0.15294118 0.13333334 … 0.27450982 0.27450982; 0.10980392 0.15294118 … 0.2 0.21176471]\n",
       "\n",
       "[0.8156863 0.81960785 … 0.57254905 0.54509807; 0.8235294 0.83137256 … 0.5529412 0.5372549; … ; 0.23921569 0.22352941 … 0.37254903 0.37254903; 0.20392157 0.24313726 … 0.29803923 0.30980393]\n",
       "\n",
       "[0.9607843 0.9647059 … 0.9098039 0.8901961; 0.9529412 0.9607843 … 0.9019608 0.89411765; … ; 0.4392157 0.42745098 … 0.62352943 0.62352943; 0.3882353 0.43529412 … 0.54901963 0.56078434], [0 1 … 0 0; 0 0 … 0 0; … ; 1 0 … 1 1; 0 0 … 0 0])\n",
       " ([0.45490196 0.45882353 … 0.39607844 0.39215687; 0.44313726 0.41568628 … 0.36862746 0.35686275; … ; 0.3529412 0.35686275 … 0.29411766 0.28235295; 0.3254902 0.31764707 … 0.3019608 0.2901961]\n",
       "\n",
       "[0.45882353 0.4627451 … 0.40392157 0.39607844; 0.45490196 0.42352942 … 0.3764706 0.36862746; … ; 0.35686275 0.3647059 … 0.30980393 0.29803923; 0.3254902 0.31764707 … 0.31764707 0.3019608]\n",
       "\n",
       "[0.47058824 0.47843137 … 0.4 0.39215687; 0.4862745 0.45490196 … 0.4 0.39215687; … ; 0.40392157 0.40784314 … 0.34117648 0.32941177; 0.3647059 0.35686275 … 0.3647059 0.3529412]\n",
       "\n",
       "[0.6431373 0.5568628 … 0.6392157 0.42745098; 0.53333336 0.4745098 … 0.7529412 0.60784316; … ; 0.5921569 0.59607846 … 0.5803922 0.57254905; 0.57254905 0.5764706 … 0.5686275 0.56078434]\n",
       "\n",
       "[0.654902 0.56078434 … 0.6627451 0.43529412; 0.5411765 0.48235294 … 0.7490196 0.5882353; … ; 0.5882353 0.5882353 … 0.5803922 0.57254905; 0.5686275 0.57254905 … 0.5686275 0.5568628]\n",
       "\n",
       "[0.6784314 0.57254905 … 0.7372549 0.40392157; 0.57254905 0.4862745 … 0.79607844 0.6039216; … ; 0.6117647 0.6117647 … 0.5921569 0.5882353; 0.5921569 0.59607846 … 0.5764706 0.57254905]\n",
       "\n",
       "[0.27058825 0.2627451 … 0.9764706 0.9529412; 0.24705882 0.27058825 … 0.9607843 0.98039216; … ; 0.5568628 0.4745098 … 0.49411765 0.46666667; 0.6431373 0.4627451 … 0.5803922 0.44705883]\n",
       "\n",
       "[0.35686275 0.35686275 … 0.972549 0.94509804; 0.32941177 0.36078432 … 0.972549 0.98039216; … ; 0.6666667 0.6392157 … 0.6117647 0.52156866; 0.7490196 0.6156863 … 0.61960787 0.5803922]\n",
       "\n",
       "[0.19215687 0.1882353 … 0.9372549 0.9137255; 0.21176471 0.19215687 … 0.85490197 0.93333334; … ; 0.42352942 0.34901962 … 0.60784316 0.38039216; 0.5019608 0.3372549 … 0.56078434 0.49803922]\n",
       "\n",
       "...\n",
       "\n",
       "[0.7058824 0.7019608 … 0.8156863 0.80784315; 0.7019608 0.6901961 … 0.8235294 0.8; … ; 0.61960787 0.6117647 … 0.40392157 0.4509804; 0.6 0.5803922 … 0.4117647 0.45882353]\n",
       "\n",
       "[0.84313726 0.8352941 … 0.93333334 0.93333334; 0.84313726 0.83137256 … 0.94509804 0.9254902; … ; 0.6039216 0.59607846 … 0.45882353 0.46666667; 0.58431375 0.5647059 … 0.4627451 0.46666667]\n",
       "\n",
       "[0.98039216 0.972549 … 0.9882353 0.9882353; 0.9882353 0.972549 … 1.0 0.99215686; … ; 0.6 0.5921569 … 0.25882354 0.28235295; 0.5803922 0.56078434 … 0.27450982 0.29803923]\n",
       "\n",
       "[0.7176471 0.77254903 … 0.8666667 0.8627451; 0.6666667 0.7294118 … 0.85882354 0.8509804; … ; 0.96862745 0.972549 … 0.94509804 0.93333334; 0.99215686 0.99607843 … 0.90588236 0.9019608]\n",
       "\n",
       "[0.56078434 0.6117647 … 0.6784314 0.67058825; 0.5176471 0.57254905 … 0.6745098 0.6666667; … ; 0.9411765 0.94509804 … 0.8666667 0.8666667; 0.95686275 0.9607843 … 0.8235294 0.83137256]\n",
       "\n",
       "[0.56078434 0.6 … 0.6313726 0.62352943; 0.5019608 0.5529412 … 0.627451 0.61960787; … ; 0.972549 0.9764706 … 0.9254902 0.92156863; 0.9882353 0.99215686 … 0.88235295 0.8862745]\n",
       "\n",
       "[0.36862746 0.46666667 … 0.43529412 0.4862745; 0.37254903 0.43137255 … 0.4745098 0.4392157; … ; 0.4392157 0.44313726 … 0.57254905 0.5058824; 0.4392157 0.45490196 … 0.41960785 0.4627451]\n",
       "\n",
       "[0.36078432 0.45490196 … 0.41568628 0.4745098; 0.38431373 0.43529412 … 0.45882353 0.42352942; … ; 0.40784314 0.41960785 … 0.54901963 0.4862745; 0.41568628 0.43529412 … 0.39215687 0.4392157]\n",
       "\n",
       "[0.29411766 0.34901962 … 0.32941177 0.3529412; 0.30588236 0.33333334 … 0.35686275 0.3137255; … ; 0.3254902 0.30588236 … 0.45490196 0.36078432; 0.3137255 0.32156864 … 0.3019608 0.31764707], [0 0 … 0 0; 0 1 … 0 0; … ; 0 0 … 0 0; 0 0 … 0 0])\n",
       " ([0.79607844 0.7921569 … 0.83137256 0.8235294; 0.8117647 0.8039216 … 0.84313726 0.8392157; … ; 0.8392157 0.81960785 … 0.7882353 0.7764706; 0.72156864 0.7176471 … 0.7882353 0.7764706]\n",
       "\n",
       "[0.81960785 0.8156863 … 0.8392157 0.8352941; 0.827451 0.81960785 … 0.85490197 0.84705883; … ; 0.7921569 0.78431374 … 0.7411765 0.7294118; 0.6784314 0.68235296 … 0.7411765 0.7294118]\n",
       "\n",
       "[0.8745098 0.87058824 … 0.8862745 0.88235295; 0.88235295 0.8784314 … 0.8901961 0.8862745; … ; 0.7137255 0.7058824 … 0.6745098 0.67058825; 0.5764706 0.5882353 … 0.6784314 0.6666667]\n",
       "\n",
       "[0.3529412 0.21176471 … 0.21568628 0.16862746; 0.33333334 0.24705882 … 0.26666668 0.17254902; … ; 0.30980393 0.3137255 … 0.3647059 0.40784314; 0.30588236 0.30980393 … 0.3764706 0.42745098]\n",
       "\n",
       "[0.28235295 0.13333334 … 0.21176471 0.16470589; 0.23529412 0.14901961 … 0.2627451 0.16862746; … ; 0.32941177 0.33333334 … 0.36862746 0.41568628; 0.3254902 0.32941177 … 0.38039216 0.43529412]\n",
       "\n",
       "[0.21960784 0.09019608 … 0.23137255 0.18039216; 0.16862746 0.101960786 … 0.28235295 0.18039216; … ; 0.30588236 0.30980393 … 0.34509805 0.4; 0.3019608 0.30588236 … 0.36078432 0.41960785]\n",
       "\n",
       "[0.5137255 0.7647059 … 0.0 0.0; 0.70980394 0.85490197 … 0.003921569 0.0; … ; 0.7921569 0.7882353 … 0.0 0.0; 0.42352942 0.6901961 … 0.0 0.003921569]\n",
       "\n",
       "[0.39607844 0.5647059 … 0.0 0.0; 0.5568628 0.6431373 … 0.003921569 0.0; … ; 0.654902 0.6666667 … 0.0 0.0; 0.42745098 0.7176471 … 0.0 0.003921569]\n",
       "\n",
       "[0.20392157 0.39215687 … 0.0 0.0; 0.38039216 0.47058824 … 0.0 0.0; … ; 0.6509804 0.67058825 … 0.0 0.0; 0.47843137 0.8 … 0.0 0.003921569]\n",
       "\n",
       "...\n",
       "\n",
       "[0.7529412 0.74509805 … 0.78431374 0.78039217; 0.7490196 0.7019608 … 0.78431374 0.76862746; … ; 0.60784316 0.57254905 … 0.62352943 0.54901963; 0.59607846 0.47843137 … 0.62352943 0.5176471]\n",
       "\n",
       "[0.73333335 0.69803923 … 0.80784315 0.8; 0.7372549 0.6627451 … 0.80784315 0.7882353; … ; 0.7058824 0.6745098 … 0.54901963 0.4745098; 0.6901961 0.58431375 … 0.5568628 0.44313726]\n",
       "\n",
       "[0.6666667 0.62352943 … 0.8156863 0.8117647; 0.6784314 0.6 … 0.81960785 0.8; … ; 0.79607844 0.7607843 … 0.42745098 0.3137255; 0.7882353 0.6745098 … 0.44705883 0.2901961]\n",
       "\n",
       "[0.8627451 0.8627451 … 0.8901961 0.8784314; 0.8627451 0.8627451 … 0.8980392 0.8901961; … ; 0.89411765 0.9137255 … 0.6509804 0.6745098; 0.8666667 0.8980392 … 0.5411765 0.6627451]\n",
       "\n",
       "[0.84705883 0.84705883 … 0.88235295 0.87058824; 0.84705883 0.84705883 … 0.8901961 0.88235295; … ; 0.7647059 0.7882353 … 0.60784316 0.6392157; 0.73333335 0.76862746 … 0.5058824 0.6313726]\n",
       "\n",
       "[0.9137255 0.9137255 … 0.9372549 0.9254902; 0.9137255 0.9137255 … 0.94509804 0.9372549; … ; 0.6156863 0.6313726 … 0.3647059 0.38431373; 0.5764706 0.60784316 … 0.27058825 0.38039216]\n",
       "\n",
       "[0.89411765 0.88235295 … 0.7647059 0.7647059; 0.8745098 0.8627451 … 0.77254903 0.76862746; … ; 0.78431374 0.7607843 … 0.32156864 0.36862746; 0.8352941 0.81960785 … 0.64705884 0.627451]\n",
       "\n",
       "[0.8862745 0.8745098 … 0.6901961 0.6901961; 0.8784314 0.8666667 … 0.7019608 0.7058824; … ; 0.89411765 0.87058824 … 0.33333334 0.38039216; 0.9490196 0.93333334 … 0.7372549 0.7176471]\n",
       "\n",
       "[0.93333334 0.9137255 … 0.6666667 0.67058825; 0.9254902 0.9098039 … 0.6862745 0.6901961; … ; 0.6862745 0.67058825 … 0.29411766 0.33333334; 0.7294118 0.7058824 … 0.5019608 0.4862745], [0 0 … 0 0; 0 1 … 0 0; … ; 0 0 … 0 0; 1 0 … 1 0])\n",
       " ([0.3137255 0.3137255 … 0.34509805 0.34509805; 0.3019608 0.3019608 … 0.34509805 0.34509805; … ; 0.41960785 0.27450982 … 0.18431373 0.16862746; 0.44313726 0.4117647 … 0.13725491 0.16862746]\n",
       "\n",
       "[0.45882353 0.45882353 … 0.4745098 0.47058824; 0.46666667 0.46666667 … 0.4745098 0.4745098; … ; 0.4509804 0.2901961 … 0.2784314 0.25882354; 0.48235294 0.44313726 … 0.21960784 0.2509804]\n",
       "\n",
       "[0.6901961 0.6901961 … 0.6862745 0.6862745; 0.69803923 0.69803923 … 0.6862745 0.6862745; … ; 0.5529412 0.3764706 … 0.40392157 0.3882353; 0.6 0.54901963 … 0.34117648 0.38039216]\n",
       "\n",
       "[0.2627451 0.25882354 … 0.38431373 0.38431373; 0.2509804 0.24313726 … 0.39215687 0.39215687; … ; 0.36078432 0.39215687 … 0.09803922 0.101960786; 0.38039216 0.3764706 … 0.09803922 0.101960786]\n",
       "\n",
       "[0.34117648 0.34117648 … 0.3647059 0.36078432; 0.2784314 0.27450982 … 0.3764706 0.3764706; … ; 0.35686275 0.3882353 … 0.105882354 0.105882354; 0.38039216 0.3764706 … 0.101960786 0.105882354]\n",
       "\n",
       "[0.2901961 0.2901961 … 0.29803923 0.29803923; 0.20392157 0.2 … 0.3137255 0.3137255; … ; 0.34117648 0.38039216 … 0.11764706 0.12156863; 0.38039216 0.38039216 … 0.12156863 0.1254902]\n",
       "\n",
       "[0.40392157 0.36862746 … 0.2784314 0.24313726; 0.3764706 0.3254902 … 0.21176471 0.16470589; … ; 0.30980393 0.31764707 … 0.5882353 0.58431375; 0.39607844 0.4117647 … 0.53333336 0.5372549]\n",
       "\n",
       "[0.34901962 0.32156864 … 0.25490198 0.22745098; 0.33333334 0.28235295 … 0.19607843 0.15294118; … ; 0.28627452 0.29411766 … 0.5294118 0.5137255; 0.34901962 0.3647059 … 0.47843137 0.4745098]\n",
       "\n",
       "[0.25882354 0.24313726 … 0.18039216 0.15294118; 0.2509804 0.21568628 … 0.12156863 0.07450981; … ; 0.16078432 0.1764706 … 0.38039216 0.38431373; 0.24313726 0.23921569 … 0.34901962 0.35686275]\n",
       "\n",
       "...\n",
       "\n",
       "[0.078431375 0.07450981 … 0.047058824 0.050980393; 0.08235294 0.078431375 … 0.039215688 0.047058824; … ; 0.12941177 0.13333334 … 0.105882354 0.09803922; 0.12156863 0.1254902 … 0.101960786 0.09803922]\n",
       "\n",
       "[0.05882353 0.05490196 … 0.043137256 0.047058824; 0.0627451 0.0627451 … 0.03529412 0.043137256; … ; 0.09803922 0.101960786 … 0.09411765 0.08627451; 0.09019608 0.09411765 … 0.09019608 0.078431375]\n",
       "\n",
       "[0.047058824 0.043137256 … 0.03529412 0.039215688; 0.050980393 0.050980393 … 0.02745098 0.03529412; … ; 0.05490196 0.05882353 … 0.21960784 0.18431373; 0.047058824 0.050980393 … 0.20784314 0.18431373]\n",
       "\n",
       "[0.09803922 0.05882353 … 0.36078432 0.29411766; 0.047058824 0.078431375 … 0.58431375 0.40784314; … ; 0.40392157 0.40784314 … 0.3882353 0.36078432; 0.37254903 0.37254903 … 0.37254903 0.36078432]\n",
       "\n",
       "[0.15686275 0.14117648 … 0.44313726 0.34901962; 0.09803922 0.14509805 … 0.65882355 0.45882353; … ; 0.5176471 0.5137255 … 0.49803922 0.4745098; 0.49411765 0.48235294 … 0.48235294 0.47058824]\n",
       "\n",
       "[0.047058824 0.011764706 … 0.4392157 0.36078432; 0.023529412 0.02745098 … 0.69411767 0.5137255; … ; 0.3254902 0.3254902 … 0.32941177 0.30980393; 0.30588236 0.29803923 … 0.31764707 0.3137255]\n",
       "\n",
       "[0.28627452 0.38431373 … 0.5294118 0.79607844; 0.27058825 0.32941177 … 0.2784314 0.47058824; … ; 0.4509804 0.48235294 … 0.25882354 0.105882354; 0.45490196 0.4745098 … 0.26666668 0.105882354]\n",
       "\n",
       "[0.30588236 0.40392157 … 0.58431375 0.84313726; 0.28627452 0.34901962 … 0.32156864 0.52156866; … ; 0.4745098 0.4862745 … 0.25490198 0.105882354; 0.47058824 0.47843137 … 0.25490198 0.101960786]\n",
       "\n",
       "[0.29411766 0.44313726 … 0.6039216 0.8745098; 0.27450982 0.38039216 … 0.3137255 0.5294118; … ; 0.35686275 0.37254903 … 0.23137255 0.105882354; 0.3529412 0.36862746 … 0.22745098 0.101960786], [0 0 … 0 0; 0 1 … 1 0; … ; 1 0 … 0 0; 0 0 … 0 0])"
      ]
     },
     "execution_count": 209,
     "metadata": {},
     "output_type": "execute_result"
    }
   ],
   "source": [
    "valset = Metalhead.valimgs(CIFAR10)\n",
    "valimg = [getarray(valset[i].img) for i in 1:10000]\n",
    "labels = onehotbatch([valset[i].ground_truth.class for i in 1:10000],1:10)\n",
    "test = gpu.([(cat(valimg[i]..., dims = 4), labels[:,i]) for i in partition(1:10000, 1000)])"
   ]
  },
  {
   "cell_type": "markdown",
   "metadata": {},
   "source": [
    "Next, display some of the images from the test set."
   ]
  },
  {
   "cell_type": "code",
   "execution_count": 210,
   "metadata": {},
   "outputs": [
    {
     "data": {
      "text/html": [
       "<table><tbody><tr><td style='text-align:center;vertical-align:middle; margin: 0.5em;border:1px #90999f solid;border-collapse:collapse'><img style='max-width: 100px; max-height:100px;display:inline' src=\"data:image/png;base64,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\"></td><td style='text-align:center;vertical-align:middle; margin: 0.5em;border:1px #90999f solid;border-collapse:collapse'><img style='max-width: 100px; max-height:100px;display:inline' src=\"data:image/png;base64,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\"></td><td style='text-align:center;vertical-align:middle; margin: 0.5em;border:1px #90999f solid;border-collapse:collapse'><img style='max-width: 100px; max-height:100px;display:inline' src=\"data:image/png;base64,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\"></td><td style='text-align:center;vertical-align:middle; margin: 0.5em;border:1px #90999f solid;border-collapse:collapse'><img style='max-width: 100px; max-height:100px;display:inline' src=\"data:image/png;base64,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\"></td><td style='text-align:center;vertical-align:middle; margin: 0.5em;border:1px #90999f solid;border-collapse:collapse'><img style='max-width: 100px; max-height:100px;display:inline' src=\"data:image/png;base64,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\"></td><td style='text-align:center;vertical-align:middle; margin: 0.5em;border:1px #90999f solid;border-collapse:collapse'><img style='max-width: 100px; max-height:100px;display:inline' src=\"data:image/png;base64,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\"></td><td style='text-align:center;vertical-align:middle; margin: 0.5em;border:1px #90999f solid;border-collapse:collapse'><img style='max-width: 100px; max-height:100px;display:inline' src=\"data:image/png;base64,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\"></td><td style='text-align:center;vertical-align:middle; margin: 0.5em;border:1px #90999f solid;border-collapse:collapse'><img style='max-width: 100px; max-height:100px;display:inline' src=\"data:image/png;base64,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\"></td><td style='text-align:center;vertical-align:middle; margin: 0.5em;border:1px #90999f solid;border-collapse:collapse'><img style='max-width: 100px; max-height:100px;display:inline' src=\"data:image/png;base64,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\"></td><td style='text-align:center;vertical-align:middle; margin: 0.5em;border:1px #90999f solid;border-collapse:collapse'><img style='max-width: 100px; max-height:100px;display:inline' src=\"data:image/png;base64,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\"></td></tr></tbody></table><div><small>(a vector displayed as a row to save space)</small></div>"
      ],
      "text/plain": [
       "10-element Array{Array{RGB{Normed{UInt8,8}},2},1}:\n",
       " [RGB{N0f8}(0.529,0.525,0.616) RGB{N0f8}(0.373,0.38,0.471) … RGB{N0f8}(0.133,0.22,0.161) RGB{N0f8}(0.149,0.235,0.18); RGB{N0f8}(0.498,0.498,0.62) RGB{N0f8}(0.369,0.384,0.475) … RGB{N0f8}(0.125,0.227,0.129) RGB{N0f8}(0.078,0.173,0.078); … ; RGB{N0f8}(0.416,0.443,0.357) RGB{N0f8}(0.565,0.627,0.522) … RGB{N0f8}(0.384,0.459,0.286) RGB{N0f8}(0.384,0.439,0.314); RGB{N0f8}(0.29,0.369,0.243) RGB{N0f8}(0.408,0.498,0.38) … RGB{N0f8}(0.329,0.404,0.243) RGB{N0f8}(0.349,0.392,0.263)]\n",
       " [RGB{N0f8}(0.62,0.678,0.6) RGB{N0f8}(0.447,0.502,0.396) … RGB{N0f8}(0.596,0.592,0.553) RGB{N0f8}(0.58,0.573,0.529); RGB{N0f8}(0.565,0.62,0.541) RGB{N0f8}(0.388,0.431,0.325) … RGB{N0f8}(0.596,0.549,0.549) RGB{N0f8}(0.482,0.455,0.463); … ; RGB{N0f8}(0.424,0.369,0.388) RGB{N0f8}(0.384,0.357,0.431) … RGB{N0f8}(0.612,0.631,0.549) RGB{N0f8}(0.522,0.514,0.373); RGB{N0f8}(0.408,0.439,0.384) RGB{N0f8}(0.475,0.533,0.451) … RGB{N0f8}(0.635,0.631,0.518) RGB{N0f8}(0.463,0.475,0.369)]\n",
       " [RGB{N0f8}(0.165,0.271,0.216) RGB{N0f8}(0.082,0.169,0.122) … RGB{N0f8}(0.22,0.341,0.255) RGB{N0f8}(0.129,0.235,0.157); RGB{N0f8}(0.18,0.31,0.231) RGB{N0f8}(0.216,0.314,0.247) … RGB{N0f8}(0.169,0.231,0.173) RGB{N0f8}(0.086,0.145,0.086); … ; RGB{N0f8}(0.31,0.157,0.122) RGB{N0f8}(0.184,0.078,0.067) … RGB{N0f8}(0.012,0.031,0.016) RGB{N0f8}(0.067,0.106,0.071); RGB{N0f8}(0.31,0.153,0.106) RGB{N0f8}(0.2,0.075,0.055) … RGB{N0f8}(0.016,0.035,0.016) RGB{N0f8}(0.051,0.09,0.055)]\n",
       " [RGB{N0f8}(0.608,0.659,0.753) RGB{N0f8}(0.584,0.647,0.737) … RGB{N0f8}(0.616,0.702,0.757) RGB{N0f8}(0.612,0.702,0.757); RGB{N0f8}(0.631,0.682,0.773) RGB{N0f8}(0.612,0.678,0.765) … RGB{N0f8}(0.631,0.718,0.769) RGB{N0f8}(0.631,0.718,0.769); … ; RGB{N0f8}(0.294,0.4,0.435) RGB{N0f8}(0.298,0.408,0.443) … RGB{N0f8}(0.302,0.427,0.435) RGB{N0f8}(0.325,0.443,0.455); RGB{N0f8}(0.278,0.384,0.42) RGB{N0f8}(0.282,0.388,0.424) … RGB{N0f8}(0.298,0.42,0.431) RGB{N0f8}(0.333,0.451,0.463)]\n",
       " [RGB{N0f8}(0.282,0.153,0.102) RGB{N0f8}(0.357,0.2,0.125) … RGB{N0f8}(0.247,0.149,0.094) RGB{N0f8}(0.365,0.204,0.106); RGB{N0f8}(0.282,0.153,0.102) RGB{N0f8}(0.337,0.188,0.122) … RGB{N0f8}(0.286,0.169,0.102) RGB{N0f8}(0.416,0.235,0.094); … ; RGB{N0f8}(0.243,0.173,0.133) RGB{N0f8}(0.286,0.176,0.094) … RGB{N0f8}(0.71,0.58,0.471) RGB{N0f8}(0.714,0.576,0.459); RGB{N0f8}(0.271,0.188,0.141) RGB{N0f8}(0.275,0.192,0.137) … RGB{N0f8}(0.757,0.62,0.502) RGB{N0f8}(0.761,0.624,0.514)]\n",
       " [RGB{N0f8}(0.592,0.533,0.431) RGB{N0f8}(0.608,0.545,0.439) … RGB{N0f8}(0.91,0.91,0.89) RGB{N0f8}(0.98,0.984,0.965); RGB{N0f8}(0.592,0.502,0.392) RGB{N0f8}(0.588,0.498,0.38) … RGB{N0f8}(0.82,0.827,0.804) RGB{N0f8}(0.965,0.969,0.949); … ; RGB{N0f8}(0.733,0.737,0.694) RGB{N0f8}(0.549,0.553,0.51) … RGB{N0f8}(0.835,0.843,0.824) RGB{N0f8}(0.973,0.973,0.953); RGB{N0f8}(0.91,0.918,0.902) RGB{N0f8}(0.831,0.835,0.824) … RGB{N0f8}(0.929,0.937,0.918) RGB{N0f8}(0.98,0.98,0.965)]\n",
       " [RGB{N0f8}(0.745,0.804,0.867) RGB{N0f8}(0.682,0.757,0.843) … RGB{N0f8}(0.588,0.655,0.733) RGB{N0f8}(0.58,0.647,0.733); RGB{N0f8}(0.788,0.831,0.878) RGB{N0f8}(0.753,0.8,0.859) … RGB{N0f8}(0.596,0.663,0.737) RGB{N0f8}(0.596,0.659,0.749); … ; RGB{N0f8}(0.475,0.478,0.498) RGB{N0f8}(0.467,0.471,0.49) … RGB{N0f8}(0.302,0.306,0.325) RGB{N0f8}(0.306,0.31,0.329); RGB{N0f8}(0.384,0.388,0.408) RGB{N0f8}(0.384,0.388,0.408) … RGB{N0f8}(0.294,0.298,0.318) RGB{N0f8}(0.298,0.302,0.322)]\n",
       " [RGB{N0f8}(0.188,0.055,0.031) RGB{N0f8}(0.18,0.047,0.024) … RGB{N0f8}(0.18,0.063,0.008) RGB{N0f8}(0.208,0.098,0.027); RGB{N0f8}(0.133,0.027,0.027) RGB{N0f8}(0.122,0.02,0.016) … RGB{N0f8}(0.192,0.094,0.059) RGB{N0f8}(0.149,0.063,0.035); … ; RGB{N0f8}(0.329,0.322,0.184) RGB{N0f8}(0.325,0.322,0.161) … RGB{N0f8}(0.478,0.545,0.396) RGB{N0f8}(0.486,0.553,0.412); RGB{N0f8}(0.271,0.271,0.153) RGB{N0f8}(0.322,0.325,0.188) … RGB{N0f8}(0.522,0.592,0.435) RGB{N0f8}(0.494,0.569,0.392)]\n",
       " [RGB{N0f8}(0.502,0.506,0.478) RGB{N0f8}(0.376,0.38,0.357) … RGB{N0f8}(0.788,0.792,0.78) RGB{N0f8}(0.961,0.961,0.965); RGB{N0f8}(0.42,0.424,0.384) RGB{N0f8}(0.294,0.302,0.259) … RGB{N0f8}(0.635,0.635,0.627) RGB{N0f8}(0.902,0.902,0.906); … ; RGB{N0f8}(0.878,0.871,0.863) RGB{N0f8}(0.671,0.663,0.655) … RGB{N0f8}(0.682,0.686,0.694) RGB{N0f8}(0.89,0.894,0.902); RGB{N0f8}(0.965,0.969,0.973) RGB{N0f8}(0.859,0.863,0.867) … RGB{N0f8}(0.859,0.875,0.886) RGB{N0f8}(0.949,0.957,0.965)]\n",
       " [RGB{N0f8}(0.824,0.702,0.494) RGB{N0f8}(0.937,0.882,0.796) … RGB{N0f8}(0.663,0.522,0.192) RGB{N0f8}(0.651,0.51,0.176); RGB{N0f8}(0.827,0.706,0.518) RGB{N0f8}(0.949,0.902,0.835) … RGB{N0f8}(0.659,0.518,0.192) RGB{N0f8}(0.647,0.506,0.176); … ; RGB{N0f8}(0.745,0.733,0.702) RGB{N0f8}(0.761,0.749,0.714) … RGB{N0f8}(0.329,0.235,0.004) RGB{N0f8}(0.322,0.235,0.024); RGB{N0f8}(0.741,0.729,0.694) RGB{N0f8}(0.757,0.745,0.71) … RGB{N0f8}(0.365,0.294,0.129) RGB{N0f8}(0.306,0.22,0.02)]"
      ]
     },
     "execution_count": 210,
     "metadata": {},
     "output_type": "execute_result"
    }
   ],
   "source": [
    "ids = rand(1:10000, 10)\n",
    "image.(valset[ids])"
   ]
  },
  {
   "cell_type": "markdown",
   "metadata": {},
   "source": [
    "The outputs are energies for the 10 classes. Higher the energy for a class, the more the\n",
    "network thinks that the image is of the particular class. Every column corresponds to the\n",
    "output of one image, with the 10 floats in the column being the energies."
   ]
  },
  {
   "cell_type": "markdown",
   "metadata": {},
   "source": [
    "Let's see how the model fared."
   ]
  },
  {
   "cell_type": "code",
   "execution_count": 211,
   "metadata": {},
   "outputs": [
    {
     "data": {
      "text/plain": [
       "10×1000 CUDA.CuArray{Float32,2}:\n",
       " 0.361702    0.752502     0.00145399  …  0.00288521  0.0397814   0.049462\n",
       " 0.0122657   0.0301652    0.037621       0.00220341  0.00634744  0.00134109\n",
       " 0.346332    0.00658156   0.0378321      0.0111104   0.174368    0.000111776\n",
       " 0.0140035   0.0629492    0.0588202      0.71503     0.126512    1.65209f-6\n",
       " 0.0283672   0.00617254   0.044954       0.00154363  0.188099    6.17493f-6\n",
       " 0.0104762   0.00717852   0.615102    …  0.258693    0.137272    4.48546f-7\n",
       " 0.147106    0.00547686   0.1788         0.00100871  0.226154    4.57029f-8\n",
       " 0.00198456  0.000834688  0.0155913      0.00416268  0.0696157   2.5117f-6\n",
       " 0.0743906   0.0695673    0.00267944     0.00025254  0.0270106   0.948624\n",
       " 0.00337211  0.0585725    0.00714609     0.00311036  0.00484035  0.000449973"
      ]
     },
     "execution_count": 211,
     "metadata": {},
     "output_type": "execute_result"
    }
   ],
   "source": [
    "ids = rand(1:10000, 1000)\n",
    "rand_test = getarray.(image.(valset[ids]))\n",
    "rand_test = cat(rand_test..., dims = 4) |> gpu\n",
    "rand_truth = ground_truth.(valset[ids])\n",
    "rand_truth = class.(rand_truth)\n",
    "op_test = m(rand_test)"
   ]
  },
  {
   "cell_type": "markdown",
   "metadata": {},
   "source": [
    "This looks similar to how we would expect the results to be. At this point, it's a good\n",
    "idea to see how our net actually performs on new data, that we have prepared."
   ]
  },
  {
   "cell_type": "code",
   "execution_count": 212,
   "metadata": {},
   "outputs": [
    {
     "data": {
      "text/plain": [
       "0.565"
      ]
     },
     "execution_count": 212,
     "metadata": {},
     "output_type": "execute_result"
    }
   ],
   "source": [
    "accuracy(test[1]...)"
   ]
  },
  {
   "cell_type": "markdown",
   "metadata": {},
   "source": [
    "This is much better than random chance set at 10% (since we only have 10 classes), and\n",
    "not bad at all for a small hand written network like ours."
   ]
  },
  {
   "cell_type": "markdown",
   "metadata": {},
   "source": [
    "Let's take a look at how the net performed on all the classes performed individually."
   ]
  },
  {
   "cell_type": "code",
   "execution_count": 213,
   "metadata": {},
   "outputs": [
    {
     "data": {
      "text/plain": [
       "10-element Array{Float64,1}:\n",
       " 0.5267857142857143\n",
       " 0.7572815533980582\n",
       " 0.3969465648854962\n",
       " 0.3238095238095238\n",
       " 0.40594059405940597\n",
       " 0.5544554455445545\n",
       " 0.7037037037037037\n",
       " 0.5060240963855421\n",
       " 0.696969696969697\n",
       " 0.4880952380952381"
      ]
     },
     "execution_count": 213,
     "metadata": {},
     "output_type": "execute_result"
    }
   ],
   "source": [
    "op_test = cpu(op_test)\n",
    "op_classes = onecold(op_test)\n",
    "\n",
    "class_pred = zeros(10)\n",
    "class_actual = zeros(10)\n",
    "for (actual, pred) in zip(rand_truth, op_classes)\n",
    "    if actual == pred\n",
    "        class_pred[pred] += 1\n",
    "    end\n",
    "    class_actual[actual] += 1\n",
    "end\n",
    "\n",
    "class_pred ./ class_actual"
   ]
  },
  {
   "cell_type": "markdown",
   "metadata": {},
   "source": [
    "The spread seems pretty good, with certain classes performing significantly better than the others.\n",
    "Why should that be?"
   ]
  },
  {
   "cell_type": "code",
   "execution_count": null,
   "metadata": {},
   "outputs": [],
   "source": []
  }
 ],
 "metadata": {
  "@webio": {
   "lastCommId": null,
   "lastKernelId": null
  },
  "kernelspec": {
   "display_name": "Julia 1.5.0",
   "language": "julia",
   "name": "julia-1.5"
  },
  "language_info": {
   "file_extension": ".jl",
   "mimetype": "application/julia",
   "name": "julia",
   "version": "1.5.0"
  }
 },
 "nbformat": 4,
 "nbformat_minor": 3
}
