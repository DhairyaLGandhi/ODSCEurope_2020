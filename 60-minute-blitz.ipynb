{
 "cells": [
  {
   "outputs": [],
   "cell_type": "markdown",
   "source": [
    "Deep Learning with Flux: A 60 Minute Blitz\n",
    "====================="
   ],
   "metadata": {}
  },
  {
   "outputs": [],
   "cell_type": "markdown",
   "source": [
    "This is a quick intro to [Flux](https://github.com/FluxML/Flux.jl) loosely\n",
    "based on [PyTorch's\n",
    "tutorial](https://pytorch.org/tutorials/beginner/deep_learning_60min_blitz.html).\n",
    "It introduces basic Julia programming, as well Zygote, a source-to-source\n",
    "automatic differentiation (AD) framework in Julia.\n",
    "We'll use these tools to build a very simple neural network."
   ],
   "metadata": {}
  },
  {
   "outputs": [],
   "cell_type": "markdown",
   "source": [
    "Arrays\n",
    "-------"
   ],
   "metadata": {}
  },
  {
   "outputs": [],
   "cell_type": "markdown",
   "source": [
    "The starting point for all of our models is the `Array` (sometimes referred to\n",
    "as a `Tensor` in other frameworks). This is really just a list of numbers,\n",
    "which might be arranged into a shape like a square. Let's write down an array\n",
    "with three elements."
   ],
   "metadata": {}
  },
  {
   "outputs": [],
   "cell_type": "code",
   "source": [
    "x = [1, 2, 3]"
   ],
   "metadata": {},
   "execution_count": null
  },
  {
   "outputs": [],
   "cell_type": "markdown",
   "source": [
    "Here's a matrix – a square array with four elements."
   ],
   "metadata": {}
  },
  {
   "outputs": [],
   "cell_type": "code",
   "source": [
    "x = [1 2; 3 4]"
   ],
   "metadata": {},
   "execution_count": null
  },
  {
   "outputs": [],
   "cell_type": "markdown",
   "source": [
    "We often work with arrays of thousands of elements, and don't usually write\n",
    "them down by hand. Here's how we can create an array of 5×3 = 15 elements,\n",
    "each a random number from zero to one."
   ],
   "metadata": {}
  },
  {
   "outputs": [],
   "cell_type": "code",
   "source": [
    "x = rand(5, 3)"
   ],
   "metadata": {},
   "execution_count": null
  },
  {
   "outputs": [],
   "cell_type": "markdown",
   "source": [
    "There's a few functions like this; try replacing `rand` with `ones`, `zeros`,\n",
    "or `randn` to see what they do."
   ],
   "metadata": {}
  },
  {
   "outputs": [],
   "cell_type": "markdown",
   "source": [
    "By default, Julia works stores numbers is a high-precision format called\n",
    "`Float64`. In ML we often don't need all those digits, and can ask Julia to\n",
    "work with `Float32` instead. We can even ask for more digits using `BigFloat`."
   ],
   "metadata": {}
  },
  {
   "outputs": [],
   "cell_type": "code",
   "source": [
    "x = rand(BigFloat, 5, 3)"
   ],
   "metadata": {},
   "execution_count": null
  },
  {
   "outputs": [],
   "cell_type": "code",
   "source": [
    "x = rand(Float32, 5, 3)"
   ],
   "metadata": {},
   "execution_count": null
  },
  {
   "outputs": [],
   "cell_type": "markdown",
   "source": [
    "We can ask the array how many elements it has."
   ],
   "metadata": {}
  },
  {
   "outputs": [],
   "cell_type": "code",
   "source": [
    "length(x)"
   ],
   "metadata": {},
   "execution_count": null
  },
  {
   "outputs": [],
   "cell_type": "markdown",
   "source": [
    "Or, more specifically, what size it has."
   ],
   "metadata": {}
  },
  {
   "outputs": [],
   "cell_type": "code",
   "source": [
    "size(x)"
   ],
   "metadata": {},
   "execution_count": null
  },
  {
   "outputs": [],
   "cell_type": "markdown",
   "source": [
    "We sometimes want to see some elements of the array on their own."
   ],
   "metadata": {}
  },
  {
   "outputs": [],
   "cell_type": "code",
   "source": [
    "x"
   ],
   "metadata": {},
   "execution_count": null
  },
  {
   "outputs": [],
   "cell_type": "code",
   "source": [
    "x[2, 3]"
   ],
   "metadata": {},
   "execution_count": null
  },
  {
   "outputs": [],
   "cell_type": "markdown",
   "source": [
    "This means get the second row and the third column. We can also get every row\n",
    "of the third column."
   ],
   "metadata": {}
  },
  {
   "outputs": [],
   "cell_type": "code",
   "source": [
    "x[:, 3]"
   ],
   "metadata": {},
   "execution_count": null
  },
  {
   "outputs": [],
   "cell_type": "markdown",
   "source": [
    "We can add arrays, and subtract them, which adds or subtracts each element of\n",
    "the array."
   ],
   "metadata": {}
  },
  {
   "outputs": [],
   "cell_type": "code",
   "source": [
    "x + x"
   ],
   "metadata": {},
   "execution_count": null
  },
  {
   "outputs": [],
   "cell_type": "code",
   "source": [
    "x - x"
   ],
   "metadata": {},
   "execution_count": null
  },
  {
   "outputs": [],
   "cell_type": "markdown",
   "source": [
    "Julia supports a feature called *broadcasting*, using the `.` syntax. This\n",
    "tiles small arrays (or single numbers) to fill bigger ones."
   ],
   "metadata": {}
  },
  {
   "outputs": [],
   "cell_type": "code",
   "source": [
    "x .+ 1"
   ],
   "metadata": {},
   "execution_count": null
  },
  {
   "outputs": [],
   "cell_type": "markdown",
   "source": [
    "We can see Julia tile the column vector `1:5` across all rows of the larger\n",
    "array."
   ],
   "metadata": {}
  },
  {
   "outputs": [],
   "cell_type": "code",
   "source": [
    "zeros(5,5) .+ (1:5)"
   ],
   "metadata": {},
   "execution_count": null
  },
  {
   "outputs": [],
   "cell_type": "markdown",
   "source": [
    "The x' syntax is used to transpose a column `1:5` into an equivalent row, and\n",
    "Julia will tile that across columns."
   ],
   "metadata": {}
  },
  {
   "outputs": [],
   "cell_type": "code",
   "source": [
    "zeros(5,5) .+ (1:5)'"
   ],
   "metadata": {},
   "execution_count": null
  },
  {
   "outputs": [],
   "cell_type": "markdown",
   "source": [
    "We can use this to make a times table."
   ],
   "metadata": {}
  },
  {
   "outputs": [],
   "cell_type": "code",
   "source": [
    "(1:5) .* (1:5)'"
   ],
   "metadata": {},
   "execution_count": null
  },
  {
   "outputs": [],
   "cell_type": "markdown",
   "source": [
    "Finally, and importantly for machine learning, we can conveniently do things like\n",
    "matrix multiply."
   ],
   "metadata": {}
  },
  {
   "outputs": [],
   "cell_type": "code",
   "source": [
    "W = randn(5, 10)\n",
    "x = rand(10)\n",
    "W * x"
   ],
   "metadata": {},
   "execution_count": null
  },
  {
   "outputs": [],
   "cell_type": "markdown",
   "source": [
    "Julia's arrays are very powerful, and you can learn more about what they can\n",
    "do [here](https://docs.julialang.org/en/v1/manual/arrays/)."
   ],
   "metadata": {}
  },
  {
   "outputs": [],
   "cell_type": "markdown",
   "source": [
    "### CUDA Arrays"
   ],
   "metadata": {}
  },
  {
   "outputs": [],
   "cell_type": "markdown",
   "source": [
    "CUDA functionality is provided separately by the [CuArrays\n",
    "package](https://github.com/JuliaGPU/CuArrays.jl). If you have a GPU and CUDA\n",
    "available, you can run `] add CuArrays` in a REPL or IJulia to get it."
   ],
   "metadata": {}
  },
  {
   "outputs": [],
   "cell_type": "markdown",
   "source": [
    "Once CuArrays is loaded you can move any array to the GPU with the `cu`\n",
    "function, and it supports all of the above operations with the same syntax."
   ],
   "metadata": {}
  },
  {
   "outputs": [],
   "cell_type": "code",
   "source": [
    "# using CuArrays\n",
    "# x = cu(rand(5, 3))"
   ],
   "metadata": {},
   "execution_count": null
  },
  {
   "outputs": [],
   "cell_type": "markdown",
   "source": [
    "Automatic Differentiation\n",
    "-------------------------"
   ],
   "metadata": {}
  },
  {
   "outputs": [],
   "cell_type": "markdown",
   "source": [
    "You probably learned to take derivatives in school. We start with a simple\n",
    "mathematical function like"
   ],
   "metadata": {}
  },
  {
   "outputs": [],
   "cell_type": "code",
   "source": [
    "f(x) = 3x^2 + 2x + 1\n",
    "\n",
    "f(5)"
   ],
   "metadata": {},
   "execution_count": null
  },
  {
   "outputs": [],
   "cell_type": "markdown",
   "source": [
    "In simple cases it's pretty easy to work out the gradient by hand – here it's\n",
    "`6x+2`. But it's much easier to make Flux do the work for us!"
   ],
   "metadata": {}
  },
  {
   "outputs": [],
   "cell_type": "code",
   "source": [
    "using Flux: gradient\n",
    "\n",
    "df(x) = gradient(f, x)[1]\n",
    "\n",
    "df(5)"
   ],
   "metadata": {},
   "execution_count": null
  },
  {
   "outputs": [],
   "cell_type": "markdown",
   "source": [
    "You can try this with a few different inputs to make sure it's really the same\n",
    "as `6x+2`. We can even do this multiple times (but the second derivative is a\n",
    "fairly boring `6`)."
   ],
   "metadata": {}
  },
  {
   "outputs": [],
   "cell_type": "code",
   "source": [
    "ddf(x) = gradient(df, x)[1]\n",
    "\n",
    "ddf(5)"
   ],
   "metadata": {},
   "execution_count": null
  },
  {
   "outputs": [],
   "cell_type": "markdown",
   "source": [
    "Flux's AD can handle any Julia code you throw at it, including loops,\n",
    "recursion and custom layers, so long as the mathematical functions you call\n",
    "are differentiable. For example, we can differentiate a Taylor approximation\n",
    "to the `sin` function."
   ],
   "metadata": {}
  },
  {
   "outputs": [],
   "cell_type": "code",
   "source": [
    "mysin(x) = sum((-1)^k*x^(1+2k)/factorial(1+2k) for k in 0:5)\n",
    "\n",
    "x = 0.5\n",
    "\n",
    "mysin(x), gradient(mysin, x)"
   ],
   "metadata": {},
   "execution_count": null
  },
  {
   "outputs": [],
   "cell_type": "code",
   "source": [
    "sin(x), cos(x)"
   ],
   "metadata": {},
   "execution_count": null
  },
  {
   "outputs": [],
   "cell_type": "markdown",
   "source": [
    "You can see that the derivative we calculated is very close to `cos(x)`, as we\n",
    "expect."
   ],
   "metadata": {}
  },
  {
   "outputs": [],
   "cell_type": "markdown",
   "source": [
    "This gets more interesting when we consider functions that take *arrays* as\n",
    "inputs, rather than just a single number. For example, here's a function that\n",
    "takes a matrix and two vectors (the definition itself is arbitrary)"
   ],
   "metadata": {}
  },
  {
   "outputs": [],
   "cell_type": "code",
   "source": [
    "myloss(W, b, x) = sum(W * x .+ b)\n",
    "\n",
    "W = randn(3, 5)\n",
    "b = zeros(3)\n",
    "x = rand(5)\n",
    "\n",
    "gradient(myloss, W, b, x)"
   ],
   "metadata": {},
   "execution_count": null
  },
  {
   "outputs": [],
   "cell_type": "markdown",
   "source": [
    "Now we get gradients for each of the inputs `W`, `b` and `x`, which will come\n",
    "in handy when we want to train models."
   ],
   "metadata": {}
  },
  {
   "outputs": [],
   "cell_type": "markdown",
   "source": [
    "Because ML models can contain hundreds of parameters, Flux provides a slightly\n",
    "different way of writing `gradient`. We instead mark arrays with `param` to\n",
    "indicate that we want their derivatives. `W` and `b` represent the weight and\n",
    "bias respectively."
   ],
   "metadata": {}
  },
  {
   "outputs": [],
   "cell_type": "code",
   "source": [
    "using Flux: params\n",
    "\n",
    "W = randn(3, 5)\n",
    "b = zeros(3)\n",
    "x = rand(5)\n",
    "\n",
    "y(x) = sum(W * x .+ b)\n",
    "\n",
    "grads = gradient(()->y(x), params([W, b]))\n",
    "\n",
    "grads[W], grads[b]"
   ],
   "metadata": {},
   "execution_count": null
  },
  {
   "outputs": [],
   "cell_type": "markdown",
   "source": [
    "We can now grab the gradients of `W` and `b` directly from those parameters."
   ],
   "metadata": {}
  },
  {
   "outputs": [],
   "cell_type": "markdown",
   "source": [
    "This comes in handy when working with *layers*. A layer is just a handy\n",
    "container for some parameters. For example, `Dense` does a linear transform\n",
    "for you."
   ],
   "metadata": {}
  },
  {
   "outputs": [],
   "cell_type": "code",
   "source": [
    "using Flux\n",
    "\n",
    "m = Dense(10, 5)\n",
    "\n",
    "x = rand(Float32, 10)"
   ],
   "metadata": {},
   "execution_count": null
  },
  {
   "outputs": [],
   "cell_type": "markdown",
   "source": [
    "We can easily get the parameters of any layer or model with params with\n",
    "`params`."
   ],
   "metadata": {}
  },
  {
   "outputs": [],
   "cell_type": "code",
   "source": [
    "params(m)"
   ],
   "metadata": {},
   "execution_count": null
  },
  {
   "outputs": [],
   "cell_type": "markdown",
   "source": [
    "This makes it very easy to calculate the gradient for all\n",
    "parameters in a network, even if it has many parameters."
   ],
   "metadata": {}
  },
  {
   "outputs": [],
   "cell_type": "code",
   "source": [
    "x = rand(Float32, 10)\n",
    "m = Chain(Dense(10, 5, relu), Dense(5, 2), softmax)\n",
    "l(x) = sum(Flux.crossentropy(m(x), [0.5, 0.5]))\n",
    "grads = gradient(params(m)) do\n",
    "    l(x)\n",
    "end\n",
    "for p in params(m)\n",
    "    println(grads[p])\n",
    "end"
   ],
   "metadata": {},
   "execution_count": null
  },
  {
   "outputs": [],
   "cell_type": "markdown",
   "source": [
    "You don't have to use layers, but they can be convient for many simple kinds\n",
    "of models and fast iteration."
   ],
   "metadata": {}
  },
  {
   "outputs": [],
   "cell_type": "markdown",
   "source": [
    "The next step is to update our weights and perform optimisation. As you might be\n",
    "familiar, *Gradient Descent* is a simple algorithm that takes the weights and steps\n",
    "using a learning rate and the gradients. `weights = weights - learning_rate * gradient`."
   ],
   "metadata": {}
  },
  {
   "outputs": [],
   "cell_type": "code",
   "source": [
    "using Flux.Optimise: update!, Descent\n",
    "η = 0.1\n",
    "for p in params(m)\n",
    "  update!(p, -η * grads[p])\n",
    "end"
   ],
   "metadata": {},
   "execution_count": null
  },
  {
   "outputs": [],
   "cell_type": "markdown",
   "source": [
    "While this is a valid way of updating our weights, it can get more complicated as the\n",
    "algorithms we use get more involved."
   ],
   "metadata": {}
  },
  {
   "outputs": [],
   "cell_type": "markdown",
   "source": [
    "Flux comes with a bunch of pre-defined optimisers and makes writing our own really simple.\n",
    "We just give it the learning rate η"
   ],
   "metadata": {}
  },
  {
   "outputs": [],
   "cell_type": "code",
   "source": [
    "opt = Descent(0.01)"
   ],
   "metadata": {},
   "execution_count": null
  },
  {
   "outputs": [],
   "cell_type": "markdown",
   "source": [
    "`Training` a network reduces down to iterating on a dataset mulitple times, performing these\n",
    "steps in order. Just for a quick implementation, let’s train a network that learns to predict\n",
    "`0.5` for every input of 10 floats. `Flux` defines the `train!` function to do it for us."
   ],
   "metadata": {}
  },
  {
   "outputs": [],
   "cell_type": "code",
   "source": [
    "data, labels = rand(10, 100), fill(0.5, 2, 100)\n",
    "loss(x, y) = sum(Flux.crossentropy(m(x), y))\n",
    "Flux.train!(loss, params(m), [(data,labels)], opt)"
   ],
   "metadata": {},
   "execution_count": null
  },
  {
   "outputs": [],
   "cell_type": "markdown",
   "source": [
    "You don't have to use `train!`. In cases where aribtrary logic might be better suited,\n",
    "you could open up this training loop like so:"
   ],
   "metadata": {}
  },
  {
   "outputs": [],
   "cell_type": "markdown",
   "source": [
    "```julia\n",
    "  for d in training_set # assuming d looks like (data, labels)\n",
    "    # our super logic\n",
    "    gs = gradient(params(m)) do #m is our model\n",
    "      l = loss(d...)\n",
    "    end\n",
    "    update!(opt, params(m), gs)\n",
    "  end\n",
    "```"
   ],
   "metadata": {}
  },
  {
   "outputs": [],
   "cell_type": "markdown",
   "source": [
    "Training a Classifier\n",
    "---------------------"
   ],
   "metadata": {}
  },
  {
   "outputs": [],
   "cell_type": "markdown",
   "source": [
    "Getting a real classifier to work might help cement the workflow a bit more.\n",
    "[CIFAR10](url) is a dataset of 50k tiny training images split into 10 classes."
   ],
   "metadata": {}
  },
  {
   "outputs": [],
   "cell_type": "markdown",
   "source": [
    "We will do the following steps in order:"
   ],
   "metadata": {}
  },
  {
   "outputs": [],
   "cell_type": "markdown",
   "source": [
    "* Load CIFAR10 training and test datasets\n",
    "* Define a Convolution Neural Network\n",
    "* Define a loss function\n",
    "* Train the network on the training data\n",
    "* Test the network on the test data"
   ],
   "metadata": {}
  },
  {
   "outputs": [],
   "cell_type": "markdown",
   "source": [
    "Loading the Dataset"
   ],
   "metadata": {}
  },
  {
   "outputs": [],
   "cell_type": "markdown",
   "source": [
    "[Metalhead.jl](https://github.com/FluxML/Metalhead.jl) is an excellent package\n",
    "that has a number of predefined and pretrained computer vision models.\n",
    "It also has a number of dataloaders that come in handy to load datasets."
   ],
   "metadata": {}
  },
  {
   "outputs": [],
   "cell_type": "code",
   "source": [
    "using Statistics\n",
    "#using CuArrays\n",
    "using Zygote\n",
    "using Flux, Flux.Optimise\n",
    "using Metalhead, Images\n",
    "using Metalhead: trainimgs\n",
    "using Images.ImageCore\n",
    "using Flux: onehotbatch, onecold\n",
    "using Base.Iterators: partition"
   ],
   "metadata": {},
   "execution_count": null
  },
  {
   "outputs": [],
   "cell_type": "markdown",
   "source": [
    "The image will give us an idea of what we are dealing with.\n",
    "![title](https://pytorch.org/tutorials/_images/cifar10.png)"
   ],
   "metadata": {}
  },
  {
   "outputs": [],
   "cell_type": "code",
   "source": [
    "Metalhead.download(CIFAR10)\n",
    "X = trainimgs(CIFAR10)\n",
    "labels = onehotbatch([X[i].ground_truth.class for i in 1:50000],1:10)"
   ],
   "metadata": {},
   "execution_count": null
  },
  {
   "outputs": [],
   "cell_type": "markdown",
   "source": [
    "Let's take a look at a random image from the dataset"
   ],
   "metadata": {}
  },
  {
   "outputs": [],
   "cell_type": "code",
   "source": [
    "image(x) = x.img # handy for use later\n",
    "ground_truth(x) = x.ground_truth\n",
    "image.(X[rand(1:end, 10)])"
   ],
   "metadata": {},
   "execution_count": null
  },
  {
   "outputs": [],
   "cell_type": "markdown",
   "source": [
    "The images are simply 32 X 32 matrices of numbers in 3 channels (R,G,B). We can now\n",
    "arrange them in batches of say, 1000 and keep a validation set to track our progress.\n",
    "This process is called minibatch learning, which is a popular method of training\n",
    "large neural networks. Rather that sending the entire dataset at once, we break it\n",
    "down into smaller chunks (called minibatches) that are typically chosen at random,\n",
    "and train only on them. It is shown to help with escaping\n",
    "[saddle points](https://en.wikipedia.org/wiki/Saddle_point)."
   ],
   "metadata": {}
  },
  {
   "outputs": [],
   "cell_type": "markdown",
   "source": [
    "Defining a `getarray` function would help in converting the matrices to `Float` type."
   ],
   "metadata": {}
  },
  {
   "outputs": [],
   "cell_type": "code",
   "source": [
    "getarray(X) = float.(permutedims(channelview(X), (2, 3, 1)))\n",
    "imgs = [getarray(X[i].img) for i in 1:50000]"
   ],
   "metadata": {},
   "execution_count": null
  },
  {
   "outputs": [],
   "cell_type": "markdown",
   "source": [
    "The first 49k images (in batches of 1000) will be our training set, and the rest is\n",
    "for validation. `partition` handily breaks down the set we give it in consecutive parts\n",
    "(1000 in this case). `cat` is a shorthand for concatenating multi-dimensional arrays along\n",
    "any dimension."
   ],
   "metadata": {}
  },
  {
   "outputs": [],
   "cell_type": "code",
   "source": [
    "train = ([(cat(imgs[i]..., dims = 4), labels[:,i]) for i in partition(1:49000, 1000)]) |> gpu\n",
    "valset = 49001:50000\n",
    "valX = cat(imgs[valset]..., dims = 4) |> gpu\n",
    "valY = labels[:, valset] |> gpu"
   ],
   "metadata": {},
   "execution_count": null
  },
  {
   "outputs": [],
   "cell_type": "markdown",
   "source": [
    "## Defining the Classifier\n",
    "--------------------------\n",
    "Now we can define our Convolutional Neural Network (CNN)."
   ],
   "metadata": {}
  },
  {
   "outputs": [],
   "cell_type": "markdown",
   "source": [
    "A convolutional neural network is one which defines a kernel and slides it across a matrix\n",
    "to create an intermediate representation to extract features from. It creates higher order\n",
    "features as it goes into deeper layers, making it suitable for images, where the strucure of\n",
    "the subject is what will help us determine which class it belongs to."
   ],
   "metadata": {}
  },
  {
   "outputs": [],
   "cell_type": "code",
   "source": [
    "m = Chain(\n",
    "  Conv((5,5), 3=>16, relu),\n",
    "  MaxPool((2,2)),\n",
    "  Conv((5,5), 16=>8, relu),\n",
    "  MaxPool((2,2)),\n",
    "  x -> reshape(x, :, size(x, 4)),\n",
    "  Dense(200, 120),\n",
    "  Dense(120, 84),\n",
    "  Dense(84, 10),\n",
    "  softmax) |> gpu"
   ],
   "metadata": {},
   "execution_count": null
  },
  {
   "outputs": [],
   "cell_type": "markdown",
   "source": [
    "We will use a crossentropy loss and an Momentum optimiser here. Crossentropy will be a\n",
    "good option when it comes to working with mulitple independent classes. Momentum gradually\n",
    "lowers the learning rate as we proceed with the training. It helps maintain a bit of\n",
    "adaptivity in our optimisation, preventing us from over shooting from our desired destination."
   ],
   "metadata": {}
  },
  {
   "outputs": [],
   "cell_type": "code",
   "source": [
    "using Flux: crossentropy, Momentum\n",
    "\n",
    "loss(x, y) = sum(crossentropy(m(x), y))\n",
    "opt = Momentum(0.01)"
   ],
   "metadata": {},
   "execution_count": null
  },
  {
   "outputs": [],
   "cell_type": "markdown",
   "source": [
    "We can start writing our train loop where we will keep track of some basic accuracy\n",
    "numbers about our model. We can define an `accuracy` function for it like so."
   ],
   "metadata": {}
  },
  {
   "outputs": [],
   "cell_type": "code",
   "source": [
    "accuracy(x, y) = mean(onecold(m(x), 1:10) .== onecold(y, 1:10))"
   ],
   "metadata": {},
   "execution_count": null
  },
  {
   "outputs": [],
   "cell_type": "markdown",
   "source": [
    "## Training\n",
    "-----------"
   ],
   "metadata": {}
  },
  {
   "outputs": [],
   "cell_type": "markdown",
   "source": [
    "Training is where we do a bunch of the interesting operations we defined earlier,\n",
    "and see what our net is capable of. We will loop over the dataset 10 times and\n",
    "feed the inputs to the neural network and optimise."
   ],
   "metadata": {}
  },
  {
   "outputs": [],
   "cell_type": "code",
   "source": [
    "epochs = 10\n",
    "\n",
    "for epoch = 1:epochs\n",
    "  for d in train\n",
    "    gs = gradient(params(m)) do\n",
    "      l = loss(d...)\n",
    "    end\n",
    "    update!(opt, params(m), gs)\n",
    "  end\n",
    "  @show accuracy(valX, valY)\n",
    "end"
   ],
   "metadata": {},
   "execution_count": null
  },
  {
   "outputs": [],
   "cell_type": "markdown",
   "source": [
    "Seeing our training routine unfold gives us an idea of how the network learnt the\n",
    "This is not bad for a small hand-written network, trained for a limited time."
   ],
   "metadata": {}
  },
  {
   "outputs": [],
   "cell_type": "markdown",
   "source": [
    "Training on a GPU\n",
    "-----------------"
   ],
   "metadata": {}
  },
  {
   "outputs": [],
   "cell_type": "markdown",
   "source": [
    "The `gpu` functions you see sprinkled through this bit of the code tell Flux to move\n",
    "these entities to an available GPU, and subsequently train on it. No extra faffing\n",
    "about required! The same bit of code would work on any hardware with some small\n",
    "annotations like you saw here."
   ],
   "metadata": {}
  },
  {
   "outputs": [],
   "cell_type": "markdown",
   "source": [
    "## Testing the Network\n",
    "----------------------"
   ],
   "metadata": {}
  },
  {
   "outputs": [],
   "cell_type": "markdown",
   "source": [
    "We have trained the network for 100 passes over the training dataset. But we need to\n",
    "check if the network has learnt anything at all."
   ],
   "metadata": {}
  },
  {
   "outputs": [],
   "cell_type": "markdown",
   "source": [
    "We will check this by predicting the class label that the neural network outputs, and\n",
    "checking it against the ground-truth. If the prediction is correct, we add the sample\n",
    "to the list of correct predictions. This will be done on a yet unseen section of data."
   ],
   "metadata": {}
  },
  {
   "outputs": [],
   "cell_type": "markdown",
   "source": [
    "Okay, first step. Let us perform the exact same preprocessing on this set, as we did\n",
    "on our training set."
   ],
   "metadata": {}
  },
  {
   "outputs": [],
   "cell_type": "code",
   "source": [
    "valset = valimgs(CIFAR10)\n",
    "valimg = [getarray(valset[i].img) for i in 1:10000]\n",
    "labels = onehotbatch([valset[i].ground_truth.class for i in 1:10000],1:10)\n",
    "test = gpu.([(cat(valimg[i]..., dims = 4), labels[:,i]) for i in partition(1:10000, 1000)])"
   ],
   "metadata": {},
   "execution_count": null
  },
  {
   "outputs": [],
   "cell_type": "markdown",
   "source": [
    "Next, display some of the images from the test set."
   ],
   "metadata": {}
  },
  {
   "outputs": [],
   "cell_type": "code",
   "source": [
    "ids = rand(1:10000, 10)\n",
    "image.(valset[ids])"
   ],
   "metadata": {},
   "execution_count": null
  },
  {
   "outputs": [],
   "cell_type": "markdown",
   "source": [
    "The outputs are energies for the 10 classes. Higher the energy for a class, the more the\n",
    "network thinks that the image is of the particular class. Every column corresponds to the\n",
    "output of one image, with the 10 floats in the column being the energies."
   ],
   "metadata": {}
  },
  {
   "outputs": [],
   "cell_type": "markdown",
   "source": [
    "Let's see how the model fared."
   ],
   "metadata": {}
  },
  {
   "outputs": [],
   "cell_type": "code",
   "source": [
    "rand_test = getarray.(image.(valset[ids]))\n",
    "rand_test = cat(rand_test..., dims = 4) |> gpu\n",
    "rand_truth = ground_truth.(valset[ids])\n",
    "m(rand_test)"
   ],
   "metadata": {},
   "execution_count": null
  },
  {
   "outputs": [],
   "cell_type": "markdown",
   "source": [
    "This looks similar to how we would expect the results to be. At this point, it's a good\n",
    "idea to see how our net actually performs on new data, that we have prepared."
   ],
   "metadata": {}
  },
  {
   "outputs": [],
   "cell_type": "code",
   "source": [
    "accuracy(test[1]...)"
   ],
   "metadata": {},
   "execution_count": null
  },
  {
   "outputs": [],
   "cell_type": "markdown",
   "source": [
    "This is much better than random chance set at 10% (since we only have 10 classes), and\n",
    "not bad at all for a small hand written network like ours."
   ],
   "metadata": {}
  },
  {
   "outputs": [],
   "cell_type": "markdown",
   "source": [
    "Let's take a look at how the net performed on all the classes performed individually."
   ],
   "metadata": {}
  },
  {
   "outputs": [],
   "cell_type": "code",
   "source": [
    "class_correct = zeros(10)\n",
    "class_total = zeros(10)\n",
    "for i in 1:10\n",
    "  preds = m(test[i][1])\n",
    "  lab = test[i][2]\n",
    "  for j = 1:1000\n",
    "    pred_class = findmax(preds[:, j])[2]\n",
    "    actual_class = findmax(lab[:, j])[2]\n",
    "    if pred_class == actual_class\n",
    "      class_correct[pred_class] += 1\n",
    "    end\n",
    "    class_total[actual_class] += 1\n",
    "  end\n",
    "end\n",
    "\n",
    "class_correct ./ class_total"
   ],
   "metadata": {},
   "execution_count": null
  },
  {
   "outputs": [],
   "cell_type": "markdown",
   "source": [
    "The spread seems pretty good, with certain classes performing significantly better than the others.\n",
    "Why should that be?"
   ],
   "metadata": {}
  }
 ],
 "nbformat_minor": 3,
 "metadata": {
  "language_info": {
   "file_extension": ".jl",
   "mimetype": "application/julia",
   "name": "julia",
   "version": "1.3.0"
  },
  "kernelspec": {
   "name": "julia-1.3",
   "display_name": "Julia 1.3.0",
   "language": "julia"
  }
 },
 "nbformat": 4
}
